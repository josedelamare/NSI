{
 "cells": [
  {
   "cell_type": "markdown",
   "id": "focal-editor",
   "metadata": {},
   "source": [
    "# <center>Parcours séquentiel d'un tableau - Minimum et maximum d'un tableau ![niveau1](../../../IMG/niveau1.png)</center>"
   ]
  },
  {
   "cell_type": "markdown",
   "id": "front-anthony",
   "metadata": {},
   "source": [
    "Indiquez votre nom et votre prénom dans la cellule ci-dessous :"
   ]
  },
  {
   "cell_type": "code",
   "execution_count": null,
   "id": "specialized-seven",
   "metadata": {},
   "outputs": [],
   "source": [
    "# Nom : "
   ]
  },
  {
   "cell_type": "markdown",
   "id": "elementary-debate",
   "metadata": {},
   "source": [
    "---\n",
    ">**Travail à faire** : Exécutez la cellule ci-dessous pour importer les modules nécessaires"
   ]
  },
  {
   "cell_type": "code",
   "execution_count": null,
   "id": "bronze-equivalent",
   "metadata": {},
   "outputs": [],
   "source": [
    "import doctest"
   ]
  },
  {
   "cell_type": "markdown",
   "id": "grave-hypothesis",
   "metadata": {},
   "source": [
    "---\n",
    "On souhaite écrire une fonction *recherche_min_max()* qui prend en entrée un tableau de nombres et qui renvoie un **tuple** dont le premier élément est le minimum de ce tableau et le second élément est le maximum. Par exemple, \n",
    "```python\n",
    ">>> recherche_min_max[1, 2, 3])\n",
    "```\n",
    "renvoie\n",
    "```python\n",
    "(1, 3)\n",
    "```"
   ]
  },
  {
   "cell_type": "markdown",
   "id": "ordered-authorization",
   "metadata": {},
   "source": [
    "> **Travail à faire** : Complétez la fonction *recherche_min_max()* ci-dessous :"
   ]
  },
  {
   "cell_type": "code",
   "execution_count": null,
   "id": "recent-remark",
   "metadata": {},
   "outputs": [],
   "source": [
    "def recherche_min_max(tab):\n",
    "    \"\"\"\n",
    "    renvoie le minimum d'un tableau\n",
    "    Entrée : tab, un tableau de nombres (réels ou entiers)\n",
    "    Sortie : tup : un tuple, dont le premier élément est la valeur minimale du tableau et le second élément est la valeur maximale du tableau\n",
    "    Exemple :\n",
    "    >>> recherche_min_max([1, 2, 3])\n",
    "    (1, 3)\n",
    "    >>> recherche_min_max([3, 2, 1])\n",
    "    (1, 3)\n",
    "    >>> recherche_min_max([2, 1, 3])\n",
    "    (1, 3)\n",
    "    \"\"\"\n",
    "    ##--Indiquez le code Python, puis cliquez sur Run--##\n",
    "    "
   ]
  },
  {
   "cell_type": "markdown",
   "id": "romantic-argentina",
   "metadata": {},
   "source": [
    "> **Travail à faire** : Vérifiez votre code en exécutant la cellule ci-dessous. "
   ]
  },
  {
   "cell_type": "code",
   "execution_count": null,
   "id": "threatened-snowboard",
   "metadata": {},
   "outputs": [],
   "source": [
    "doctest.run_docstring_examples(recherche_min_max, globals(), verbose= True)"
   ]
  },
  {
   "cell_type": "markdown",
   "id": "normal-credit",
   "metadata": {},
   "source": [
    "---\n",
    "Enregistrez votre Notebook (voir image ci-dessous), puis déposez-le dans le casier de votre professeur.\n",
    "\n",
    "![enregistrer](../../../IMG/enregistrer.png)"
   ]
  }
 ],
 "metadata": {
  "kernelspec": {
   "display_name": "Python 3",
   "language": "python",
   "name": "python3"
  },
  "language_info": {
   "codemirror_mode": {
    "name": "ipython",
    "version": 3
   },
   "file_extension": ".py",
   "mimetype": "text/x-python",
   "name": "python",
   "nbconvert_exporter": "python",
   "pygments_lexer": "ipython3",
   "version": "3.9.2"
  }
 },
 "nbformat": 4,
 "nbformat_minor": 5
}
