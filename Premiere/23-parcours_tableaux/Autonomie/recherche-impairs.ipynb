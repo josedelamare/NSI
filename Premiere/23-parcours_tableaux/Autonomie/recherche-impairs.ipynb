{
 "cells": [
  {
   "cell_type": "markdown",
   "id": "pursuant-signature",
   "metadata": {},
   "source": [
    "# <center>Parcours séquentiel d'un tableau - Recherche des nombres impairs dans un tableau ![niveau2](../../../IMG/niveau2.png)</center>"
   ]
  },
  {
   "cell_type": "markdown",
   "id": "speaking-camping",
   "metadata": {},
   "source": [
    "Indiquez votre nom et votre prénom dans la cellule ci-dessous :"
   ]
  },
  {
   "cell_type": "code",
   "execution_count": null,
   "id": "local-universe",
   "metadata": {},
   "outputs": [],
   "source": [
    "# Nom : "
   ]
  },
  {
   "cell_type": "markdown",
   "id": "proud-separate",
   "metadata": {},
   "source": [
    "---\n",
    ">**Travail à faire** : Exécutez la cellule ci-dessous pour importer les modules nécessaires"
   ]
  },
  {
   "cell_type": "code",
   "execution_count": null,
   "id": "moral-robert",
   "metadata": {},
   "outputs": [],
   "source": [
    "import doctest"
   ]
  },
  {
   "cell_type": "markdown",
   "id": "traditional-subcommittee",
   "metadata": {},
   "source": [
    "---\n",
    "On souhaite écrire une fonction *recherche_impairs()* qui prend en entrée un tableau de nombres et qui renvoie un tableau de tous les éléments impairs dans le tableau. Par exemple, \n",
    "```python\n",
    ">>> recherche_impairs([1, 2, 3])\n",
    "```\n",
    "renvoie\n",
    "```python\n",
    "[1, 3]\n",
    "```\n",
    "\n",
    "Aide à la résolution : [test de la parité d'un entier](https://waytolearnx.com/2019/05/verifier-si-un-nombre-est-pair-ou-impair-en-python.html)"
   ]
  },
  {
   "cell_type": "markdown",
   "id": "broken-thanksgiving",
   "metadata": {},
   "source": [
    "> **Travail à faire** : Complétez la fonction *recherche_impairs()* ci-dessous :"
   ]
  },
  {
   "cell_type": "code",
   "execution_count": null,
   "id": "viral-finder",
   "metadata": {},
   "outputs": [],
   "source": [
    "def recherche_impairs(tab):\n",
    "    \"\"\"\n",
    "    renvoie un tableau des nombres impairs présents dans le tableau\n",
    "    Entrée : tab, un tableau de nombres entiers\n",
    "    Sortie : tab_impairs, un tableau d'entiers\n",
    "    Exemple :\n",
    "    >>> recherche_impairs([1, 2, 3])\n",
    "    [1, 3]\n",
    "    >>> recherche_impairs([2, 4])\n",
    "    []\n",
    "    >>> recherche_impairs([1, 2, 4])\n",
    "    [1]\n",
    "    \"\"\"\n",
    "    ##--Indiquez le code Python, puis cliquez sur Run--##\n",
    "    "
   ]
  },
  {
   "cell_type": "markdown",
   "id": "alleged-copying",
   "metadata": {},
   "source": [
    "> **Travail à faire** : Vérifiez votre code en exécutant la cellule ci-dessous. "
   ]
  },
  {
   "cell_type": "code",
   "execution_count": null,
   "id": "fitted-elizabeth",
   "metadata": {},
   "outputs": [],
   "source": [
    "doctest.run_docstring_examples(recherche_impairs, globals(), verbose= True)"
   ]
  },
  {
   "cell_type": "markdown",
   "id": "common-excellence",
   "metadata": {},
   "source": [
    "---\n",
    "Enregistrez votre Notebook (voir image ci-dessous), puis déposez-le dans le casier de votre professeur.\n",
    "\n",
    "![enregistrer](../../../IMG/enregistrer.png)"
   ]
  }
 ],
 "metadata": {
  "kernelspec": {
   "display_name": "Python 3",
   "language": "python",
   "name": "python3"
  },
  "language_info": {
   "codemirror_mode": {
    "name": "ipython",
    "version": 3
   },
   "file_extension": ".py",
   "mimetype": "text/x-python",
   "name": "python",
   "nbconvert_exporter": "python",
   "pygments_lexer": "ipython3",
   "version": "3.9.2"
  }
 },
 "nbformat": 4,
 "nbformat_minor": 5
}
