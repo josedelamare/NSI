{
 "cells": [
  {
   "cell_type": "markdown",
   "id": "skilled-movement",
   "metadata": {},
   "source": [
    "# <center>Parcours séquentiel d'un tableau - Inverser les valeurs d'un tableau ![niveau3](../../../IMG/niveau3.png)</center>"
   ]
  },
  {
   "cell_type": "markdown",
   "id": "informed-simple",
   "metadata": {},
   "source": [
    "Indiquez votre nom et votre prénom dans la cellule ci-dessous :"
   ]
  },
  {
   "cell_type": "code",
   "execution_count": null,
   "id": "figured-encounter",
   "metadata": {},
   "outputs": [],
   "source": [
    "# Nom : "
   ]
  },
  {
   "cell_type": "markdown",
   "id": "supported-adams",
   "metadata": {},
   "source": [
    "---\n",
    ">**Travail à faire** : Exécutez la cellule ci-dessous pour importer les modules nécessaires"
   ]
  },
  {
   "cell_type": "code",
   "execution_count": null,
   "id": "black-portsmouth",
   "metadata": {},
   "outputs": [],
   "source": [
    "import doctest"
   ]
  },
  {
   "cell_type": "markdown",
   "id": "printable-heart",
   "metadata": {},
   "source": [
    "---\n",
    "On souhaite écrire une fonction *inverser()* qui prend en entrée un tableau de nombres et renvoie un tableau constitué des éléments rangés dans l’ordre inverse. Par exemple, \n",
    "```python\n",
    ">>> inverser([4, 0, 2, -1])\n",
    "```\n",
    "renvoie\n",
    "```python\n",
    "[-1, 2, 0, 4]\n",
    "```"
   ]
  },
  {
   "cell_type": "markdown",
   "id": "friendly-vocabulary",
   "metadata": {},
   "source": [
    "> **Travail à faire** : Complétez la fonction *inverser()* ci-dessous :"
   ]
  },
  {
   "cell_type": "code",
   "execution_count": null,
   "id": "occasional-disease",
   "metadata": {},
   "outputs": [],
   "source": [
    "def inverser(tab):\n",
    "    \"\"\"\n",
    "    renvoie un tableau dont les éléments sont entremêlés\n",
    "    Entrée : tab, un tableau de nombres entiers ou réels\n",
    "    Sortie : new_tab : un tableau de nombre entiers ou réels\n",
    "    Exemple :\n",
    "    >>> inverser([4, 0, 2, -1])\n",
    "    [-1, 2, 0, 4]\n",
    "    >>> inverser([4, 0])\n",
    "    [0, 4]\n",
    "    \"\"\"\n",
    "    ##--Indiquez le code Python, puis cliquez sur Run--##\n"
   ]
  },
  {
   "cell_type": "markdown",
   "id": "super-channel",
   "metadata": {},
   "source": [
    "> **Travail à faire** : Vérifiez votre code en exécutant la cellule ci-dessous. "
   ]
  },
  {
   "cell_type": "code",
   "execution_count": null,
   "id": "freelance-comparative",
   "metadata": {},
   "outputs": [],
   "source": [
    "doctest.run_docstring_examples(inverser, globals(), verbose= True)"
   ]
  },
  {
   "cell_type": "markdown",
   "id": "capable-first",
   "metadata": {},
   "source": [
    "---\n",
    "Enregistrez votre Notebook (voir image ci-dessous), puis déposez-le dans le casier de votre professeur.\n",
    "\n",
    "![enregistrer](../../../IMG/enregistrer.png)"
   ]
  }
 ],
 "metadata": {
  "kernelspec": {
   "display_name": "Python 3",
   "language": "python",
   "name": "python3"
  },
  "language_info": {
   "codemirror_mode": {
    "name": "ipython",
    "version": 3
   },
   "file_extension": ".py",
   "mimetype": "text/x-python",
   "name": "python",
   "nbconvert_exporter": "python",
   "pygments_lexer": "ipython3",
   "version": "3.9.2"
  }
 },
 "nbformat": 4,
 "nbformat_minor": 5
}
