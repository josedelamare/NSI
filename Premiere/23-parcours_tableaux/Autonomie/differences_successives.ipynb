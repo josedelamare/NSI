{
 "cells": [
  {
   "cell_type": "markdown",
   "id": "opposed-performer",
   "metadata": {},
   "source": [
    "# <center>Parcours séquentiel d'un tableau - Différences successives des valeurs d'un tableau ![niveau3](../../../IMG/niveau3.png)</center>"
   ]
  },
  {
   "cell_type": "markdown",
   "id": "needed-traffic",
   "metadata": {},
   "source": [
    "Indiquez votre nom et votre prénom dans la cellule ci-dessous :"
   ]
  },
  {
   "cell_type": "code",
   "execution_count": null,
   "id": "comparable-request",
   "metadata": {},
   "outputs": [],
   "source": [
    "# Nom : "
   ]
  },
  {
   "cell_type": "markdown",
   "id": "handy-front",
   "metadata": {},
   "source": [
    "---\n",
    ">**Travail à faire** : Exécutez la cellule ci-dessous pour importer les modules nécessaires"
   ]
  },
  {
   "cell_type": "code",
   "execution_count": null,
   "id": "raised-reproduction",
   "metadata": {},
   "outputs": [],
   "source": [
    "import doctest"
   ]
  },
  {
   "cell_type": "markdown",
   "id": "immediate-leave",
   "metadata": {},
   "source": [
    "---\n",
    "On souhaite écrire une fonction *diff_successives()* qui prend en entrée un tableau de nombres et qui renvoie un tableau dont chaque élément est la différence entre deux éléments consécutifs. Par exemple, \n",
    "```python\n",
    ">>> diff_successives([1, 2])\n",
    "```\n",
    "renvoie\n",
    "```python\n",
    "[1]\n",
    "```\n",
    "Car `2 - 1 = 1`\n",
    "\n",
    "```python\n",
    ">>> diff_successives([1, 2, 4])\n",
    "```\n",
    "renvoie\n",
    "```python\n",
    "[1, 2]\n",
    "```\n",
    "Car `2 - 1 = 1` et `4 - 2 = 2`"
   ]
  },
  {
   "cell_type": "markdown",
   "id": "intense-hardwood",
   "metadata": {},
   "source": [
    "> **Travail à faire** : Complétez la fonction *diff_successives()* ci-dessous :"
   ]
  },
  {
   "cell_type": "code",
   "execution_count": null,
   "id": "minute-sector",
   "metadata": {},
   "outputs": [],
   "source": [
    "def diff_successives(tab1, tab2):\n",
    "    \"\"\"\n",
    "    renvoie un tableau dont les éléments sont entremêlés\n",
    "    Entrée : tab1 et tab2, un tableau de nombres entiers ou réels\n",
    "    Sortie : new_tab : un tabelau de nombre entiers ou réels\n",
    "    Exemple :\n",
    "    >>> diff_successives([1, 2])\n",
    "   [1]\n",
    "    >>> diff_successives([1, 2, 4])\n",
    "   [1, 2]\n",
    "    >>> diff_successives([15, 20, 22, 18, 18, 20, 17])\n",
    "   [5, 2, -4, 0, 2, -3]\n",
    "    \"\"\"\n",
    "    ##--Indiquez le code Python, puis cliquez sur Run--##\n",
    "    "
   ]
  },
  {
   "cell_type": "markdown",
   "id": "greenhouse-broadway",
   "metadata": {},
   "source": [
    "> **Travail à faire** : Vérifiez votre code en exécutant la cellule ci-dessous. "
   ]
  },
  {
   "cell_type": "code",
   "execution_count": null,
   "id": "rising-clearance",
   "metadata": {},
   "outputs": [],
   "source": [
    "doctest.run_docstring_examples(diff_successives, globals(), verbose= True)"
   ]
  },
  {
   "cell_type": "markdown",
   "id": "million-exchange",
   "metadata": {},
   "source": [
    "---\n",
    "Enregistrez votre Notebook (voir image ci-dessous), puis déposez-le dans le casier de votre professeur.\n",
    "\n",
    "![enregistrer](../../../IMG/enregistrer.png)"
   ]
  }
 ],
 "metadata": {
  "kernelspec": {
   "display_name": "Python 3",
   "language": "python",
   "name": "python3"
  },
  "language_info": {
   "codemirror_mode": {
    "name": "ipython",
    "version": 3
   },
   "file_extension": ".py",
   "mimetype": "text/x-python",
   "name": "python",
   "nbconvert_exporter": "python",
   "pygments_lexer": "ipython3",
   "version": "3.9.2"
  }
 },
 "nbformat": 4,
 "nbformat_minor": 5
}
