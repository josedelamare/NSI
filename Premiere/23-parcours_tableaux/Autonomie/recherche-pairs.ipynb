{
 "cells": [
  {
   "cell_type": "markdown",
   "id": "prescription-cigarette",
   "metadata": {},
   "source": [
    "# <center>Parcours séquentiel d'un tableau - Recherche des nombres pairs dans un tableau ![niveau2](../../../IMG/niveau2.png)</center>"
   ]
  },
  {
   "cell_type": "markdown",
   "id": "intelligent-polish",
   "metadata": {},
   "source": [
    "Indiquez votre nom et votre prénom dans la cellule ci-dessous :"
   ]
  },
  {
   "cell_type": "code",
   "execution_count": null,
   "id": "blond-fancy",
   "metadata": {},
   "outputs": [],
   "source": [
    "# Nom : "
   ]
  },
  {
   "cell_type": "markdown",
   "id": "spectacular-harvest",
   "metadata": {},
   "source": [
    "---\n",
    ">**Travail à faire** : Exécutez la cellule ci-dessous pour importer les modules nécessaires"
   ]
  },
  {
   "cell_type": "code",
   "execution_count": null,
   "id": "accepting-highway",
   "metadata": {},
   "outputs": [],
   "source": [
    "import doctest"
   ]
  },
  {
   "cell_type": "markdown",
   "id": "german-brief",
   "metadata": {},
   "source": [
    "---\n",
    "On souhaite écrire une fonction *recherche_pairs()* qui prend en entrée un tableau de nombres et qui renvoie un tableau de tous les éléments pairs dans le tableau. Par exemple, \n",
    "```python\n",
    ">>> recherche_pairs([1, 2, 3])\n",
    "```\n",
    "renvoie\n",
    "```python\n",
    "[2]\n",
    "```\n",
    "\n",
    "Aide à la résolution : [test de la parité d'un entier](https://waytolearnx.com/2019/05/verifier-si-un-nombre-est-pair-ou-impair-en-python.html)"
   ]
  },
  {
   "cell_type": "markdown",
   "id": "owned-addiction",
   "metadata": {},
   "source": [
    "> **Travail à faire** : Complétez la fonction *recherche_pairs()* ci-dessous :"
   ]
  },
  {
   "cell_type": "code",
   "execution_count": null,
   "id": "finite-albuquerque",
   "metadata": {},
   "outputs": [],
   "source": [
    "def recherche_pairs(tab, x):\n",
    "    \"\"\"\n",
    "    renvoie un tableau des nombres pairs présents dans le tableau\n",
    "    Entrée : tab, un tableau de nombres entiers\n",
    "    Sortie : tab_pairs, un tableau d'entiers\n",
    "    Exemple :\n",
    "    >>> recherche_pairs([1, 2, 3])\n",
    "    [2]\n",
    "    >>> recherche_pairs([1, 3])\n",
    "    []\n",
    "    >>> recherche_pairs([1, 2, 3, 4])\n",
    "    [2, 4]\n",
    "    \"\"\"\n",
    "    ##--Indiquez le code Python, puis cliquez sur Run--##\n",
    "    "
   ]
  },
  {
   "cell_type": "markdown",
   "id": "grand-locking",
   "metadata": {},
   "source": [
    "> **Travail à faire** : Vérifiez votre code en exécutant la cellule ci-dessous. "
   ]
  },
  {
   "cell_type": "code",
   "execution_count": null,
   "id": "considered-beginning",
   "metadata": {},
   "outputs": [],
   "source": [
    "doctest.run_docstring_examples(recherche_pairs, globals(), verbose= True)"
   ]
  },
  {
   "cell_type": "markdown",
   "id": "grand-entry",
   "metadata": {},
   "source": [
    "---\n",
    "Enregistrez votre Notebook (voir image ci-dessous), puis déposez-le dans le casier de votre professeur.\n",
    "\n",
    "![enregistrer](../../../IMG/enregistrer.png)"
   ]
  }
 ],
 "metadata": {
  "kernelspec": {
   "display_name": "Python 3",
   "language": "python",
   "name": "python3"
  },
  "language_info": {
   "codemirror_mode": {
    "name": "ipython",
    "version": 3
   },
   "file_extension": ".py",
   "mimetype": "text/x-python",
   "name": "python",
   "nbconvert_exporter": "python",
   "pygments_lexer": "ipython3",
   "version": "3.9.2"
  }
 },
 "nbformat": 4,
 "nbformat_minor": 5
}
