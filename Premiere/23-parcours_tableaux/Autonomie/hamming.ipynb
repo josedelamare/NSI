{
 "cells": [
  {
   "cell_type": "markdown",
   "id": "unable-kingdom",
   "metadata": {},
   "source": [
    "# <center>Parcours séquentiel d'un tableau - Distance de Hamming entre deux tableaux ![niveau3](../../../IMG/niveau3.png)</center>"
   ]
  },
  {
   "cell_type": "markdown",
   "id": "specific-pharmaceutical",
   "metadata": {},
   "source": [
    "Indiquez votre nom et votre prénom dans la cellule ci-dessous :"
   ]
  },
  {
   "cell_type": "code",
   "execution_count": null,
   "id": "social-romance",
   "metadata": {},
   "outputs": [],
   "source": [
    "# Nom : "
   ]
  },
  {
   "cell_type": "markdown",
   "id": "korean-apple",
   "metadata": {},
   "source": [
    "---\n",
    ">**Travail à faire** : Exécutez la cellule ci-dessous pour importer les modules nécessaires"
   ]
  },
  {
   "cell_type": "code",
   "execution_count": null,
   "id": "dangerous-theory",
   "metadata": {},
   "outputs": [],
   "source": [
    "import doctest"
   ]
  },
  {
   "cell_type": "markdown",
   "id": "romance-swing",
   "metadata": {},
   "source": [
    "---\n",
    "On souhaite écrire une fonction *hamming()* qui prend en entrée deux tableaux de nombres et qui renvoie nombre d’indices en lesquels les deux tableaux diffèrent. Par exemple, \n",
    "```python\n",
    ">>> hamming([1, 2, 3], [1, 2, 5])\n",
    "```\n",
    "renvoie\n",
    "```python\n",
    "1\n",
    "```"
   ]
  },
  {
   "cell_type": "markdown",
   "id": "aboriginal-summary",
   "metadata": {},
   "source": [
    "> **Travail à faire** : Complétez la fonction *hamming()* ci-dessous :"
   ]
  },
  {
   "cell_type": "code",
   "execution_count": null,
   "id": "visible-planning",
   "metadata": {},
   "outputs": [],
   "source": [
    "def hamming(tab1, tab2):\n",
    "    \"\"\"\n",
    "    renvoie un tableau dont les éléments sont entremêlés\n",
    "    Entrée : tab1 et tab2, un tableau de nombres entiers ou réels\n",
    "    Sortie : new_tab : un tabelau de nombre entiers ou réels\n",
    "    Exemple :\n",
    "    >>> hamming([1, 2, 3], [1, 2, 5])\n",
    "   1\n",
    "    >>> hamming([1, 2, 3], [1, 2, 3])\n",
    "   0\n",
    "    >>> hamming([1, 2, 3, 2, 1], [1, 5, 3, 4, 0])\n",
    "   3\n",
    "    \"\"\"\n",
    "    ##--Indiquez le code Python, puis cliquez sur Run--##\n",
    "    "
   ]
  },
  {
   "cell_type": "markdown",
   "id": "broad-effectiveness",
   "metadata": {},
   "source": [
    "> **Travail à faire** : Vérifiez votre code en exécutant la cellule ci-dessous. "
   ]
  },
  {
   "cell_type": "code",
   "execution_count": null,
   "id": "increased-missouri",
   "metadata": {},
   "outputs": [],
   "source": [
    "doctest.run_docstring_examples(hamming, globals(), verbose= True)"
   ]
  },
  {
   "cell_type": "markdown",
   "id": "driving-operations",
   "metadata": {},
   "source": [
    "---\n",
    "Enregistrez votre Notebook (voir image ci-dessous), puis déposez-le dans le casier de votre professeur.\n",
    "\n",
    "![enregistrer](../../../IMG/enregistrer.png)"
   ]
  }
 ],
 "metadata": {
  "kernelspec": {
   "display_name": "Python 3",
   "language": "python",
   "name": "python3"
  },
  "language_info": {
   "codemirror_mode": {
    "name": "ipython",
    "version": 3
   },
   "file_extension": ".py",
   "mimetype": "text/x-python",
   "name": "python",
   "nbconvert_exporter": "python",
   "pygments_lexer": "ipython3",
   "version": "3.9.2"
  }
 },
 "nbformat": 4,
 "nbformat_minor": 5
}
