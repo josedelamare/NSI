{
 "cells": [
  {
   "cell_type": "markdown",
   "id": "scientific-transformation",
   "metadata": {},
   "source": [
    "# <center>Parcours séquentiel d'un tableau - Permuter les valeurs d'un tableau ![niveau3](../../../IMG/niveau3.png)</center>"
   ]
  },
  {
   "cell_type": "markdown",
   "id": "foreign-module",
   "metadata": {},
   "source": [
    "Indiquez votre nom et votre prénom dans la cellule ci-dessous :"
   ]
  },
  {
   "cell_type": "code",
   "execution_count": null,
   "id": "numerical-shaft",
   "metadata": {},
   "outputs": [],
   "source": [
    "# Nom : "
   ]
  },
  {
   "cell_type": "markdown",
   "id": "fifteen-prince",
   "metadata": {},
   "source": [
    "---\n",
    ">**Travail à faire** : Exécutez la cellule ci-dessous pour importer les modules nécessaires"
   ]
  },
  {
   "cell_type": "code",
   "execution_count": null,
   "id": "painted-leave",
   "metadata": {},
   "outputs": [],
   "source": [
    "import doctest"
   ]
  },
  {
   "cell_type": "markdown",
   "id": "proper-soundtrack",
   "metadata": {},
   "source": [
    "---\n",
    "On souhaite écrire une fonction *permuter()* qui prend en entrée un tableau de nombres et deux indices i et j, et renvoie un tableau dans laquelle les éléments d’indice iet j du tableau initial ont été échangés. Par exemple, \n",
    "```python\n",
    ">>> permuter([4, 0, 2, -1], 0, 3)\n",
    "```\n",
    "renvoie\n",
    "```python\n",
    "[-1, 0, 2, 4]\n",
    "```\n",
    "On a échangé la valeur située à l'indice 0 (le 4) avec celle située à l'indice 3 (le -1)."
   ]
  },
  {
   "cell_type": "markdown",
   "id": "initial-black",
   "metadata": {},
   "source": [
    "> **Travail à faire** : Complétez la fonction *permuter()* ci-dessous :"
   ]
  },
  {
   "cell_type": "code",
   "execution_count": null,
   "id": "happy-specific",
   "metadata": {},
   "outputs": [],
   "source": [
    "def permuter(tab1, tab2):\n",
    "    \"\"\"\n",
    "    renvoie un tableau dont les éléments sont entremêlés\n",
    "    Entrée : tab1 et tab2, un tableau de nombres entiers ou réels\n",
    "    Sortie : new_tab : un tabelau de nombre entiers ou réels\n",
    "    Exemple :\n",
    "    >>> permuter([4, 0, 2, -1], 0, 3)\n",
    "   [-1, 0, 2, 4]\n",
    "    \"\"\"\n",
    "    ##--Indiquez le code Python, puis cliquez sur Run--##\n",
    "    "
   ]
  },
  {
   "cell_type": "markdown",
   "id": "worth-tanzania",
   "metadata": {},
   "source": [
    "> **Travail à faire** : Vérifiez votre code en exécutant la cellule ci-dessous. "
   ]
  },
  {
   "cell_type": "code",
   "execution_count": null,
   "id": "verified-housing",
   "metadata": {},
   "outputs": [],
   "source": [
    "doctest.run_docstring_examples(permuter, globals(), verbose= True)"
   ]
  },
  {
   "cell_type": "markdown",
   "id": "static-powder",
   "metadata": {},
   "source": [
    "---\n",
    "Enregistrez votre Notebook (voir image ci-dessous), puis déposez-le dans le casier de votre professeur.\n",
    "\n",
    "![enregistrer](../../../IMG/enregistrer.png)"
   ]
  }
 ],
 "metadata": {
  "kernelspec": {
   "display_name": "Python 3",
   "language": "python",
   "name": "python3"
  },
  "language_info": {
   "codemirror_mode": {
    "name": "ipython",
    "version": 3
   },
   "file_extension": ".py",
   "mimetype": "text/x-python",
   "name": "python",
   "nbconvert_exporter": "python",
   "pygments_lexer": "ipython3",
   "version": "3.9.2"
  }
 },
 "nbformat": 4,
 "nbformat_minor": 5
}
