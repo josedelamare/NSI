{
 "cells": [
  {
   "cell_type": "markdown",
   "id": "similar-reunion",
   "metadata": {},
   "source": [
    "# <center>Parcours séquentiel d'un tableau - Décalage circulaire d'un tableau ![niveau2](../../../IMG/niveau2.png)</center>"
   ]
  },
  {
   "cell_type": "markdown",
   "id": "asian-price",
   "metadata": {},
   "source": [
    "Indiquez votre nom et votre prénom dans la cellule ci-dessous :"
   ]
  },
  {
   "cell_type": "code",
   "execution_count": null,
   "id": "tested-archive",
   "metadata": {},
   "outputs": [],
   "source": [
    "# Nom : "
   ]
  },
  {
   "cell_type": "markdown",
   "id": "recognized-virgin",
   "metadata": {},
   "source": [
    "---\n",
    ">**Travail à faire** : Exécutez la cellule ci-dessous pour importer les modules nécessaires"
   ]
  },
  {
   "cell_type": "code",
   "execution_count": null,
   "id": "continuous-picnic",
   "metadata": {},
   "outputs": [],
   "source": [
    "import doctest"
   ]
  },
  {
   "cell_type": "markdown",
   "id": "whole-chambers",
   "metadata": {},
   "source": [
    "---\n",
    "On souhaite écrire une fonction *decalage_droit()* qui prend en entrée un tableau de nombres et qui renvoie un tableau dont les éléments sont décalés d'un cran vers la droite. Par exemple, \n",
    "```python\n",
    ">>> decalage_droit([1, 2, 3])\n",
    "```\n",
    "renvoie\n",
    "```python\n",
    "[3, 1, 2]\n",
    "```"
   ]
  },
  {
   "cell_type": "markdown",
   "id": "international-amsterdam",
   "metadata": {},
   "source": [
    "> **Travail à faire** : Complétez la fonction *decalage_droit()* ci-dessous :"
   ]
  },
  {
   "cell_type": "code",
   "execution_count": null,
   "id": "impaired-proof",
   "metadata": {},
   "outputs": [],
   "source": [
    "def decalage_droit(tab):\n",
    "    \"\"\"\n",
    "    renvoie un tableau dont les éléments sont décalés d'un cran vers la droite\n",
    "    Entrée : tab, un tableau de nombres entiers ou réels\n",
    "    Sortie : new_tab : un tabelau de nombre entiers ou réels\n",
    "    Exemple :\n",
    "    >>> decalage_droit([1, 2, 3])\n",
    "    [3, 1, 2]\n",
    "    >>> decalage_droit([1])\n",
    "    [1]\n",
    "    \"\"\"\n",
    "    ##--Indiquez le code Python, puis cliquez sur Run--##\n"
   ]
  },
  {
   "cell_type": "markdown",
   "id": "wired-connectivity",
   "metadata": {},
   "source": [
    "> **Travail à faire** : Vérifiez votre code en exécutant la cellule ci-dessous. "
   ]
  },
  {
   "cell_type": "code",
   "execution_count": null,
   "id": "finnish-columbus",
   "metadata": {},
   "outputs": [],
   "source": [
    "doctest.run_docstring_examples(decalage_droit, globals(), verbose= True)"
   ]
  },
  {
   "cell_type": "markdown",
   "id": "comfortable-skirt",
   "metadata": {},
   "source": [
    "---\n",
    "On souhaite écrire une fonction *decalage_gauche()* qui prend en entrée un tableau de nombres et qui renvoie un tableau dont les éléments sont décalés d'un cran vers la gauche. Par exemple, \n",
    "```python\n",
    ">>> decalage_gauche([1, 2, 3])\n",
    "```\n",
    "renvoie\n",
    "```python\n",
    "[2, 3, 1]\n",
    "```"
   ]
  },
  {
   "cell_type": "markdown",
   "id": "charming-performance",
   "metadata": {},
   "source": [
    "> **Travail à faire** : Complétez la fonction *decalage_droit()* ci-dessous :"
   ]
  },
  {
   "cell_type": "code",
   "execution_count": null,
   "id": "cosmetic-banner",
   "metadata": {},
   "outputs": [],
   "source": [
    "def decalage_gauche(tab):\n",
    "    \"\"\"\n",
    "    renvoie un tableau dont les éléments sont décalés d'un cran vers la gauche\n",
    "    Entrée : tab, un tableau de nombres entiers ou réels\n",
    "    Sortie : new_tab : un tabelau de nombre entiers ou réels\n",
    "    Exemple :\n",
    "    >>> decalage_gauche([1, 2, 3])\n",
    "    [2, 3, 1]\n",
    "    >>> decalage_gauche([1])\n",
    "    [1]\n",
    "    \"\"\"\n",
    "    ##--Indiquez le code Python, puis cliquez sur Run--##\n",
    "    "
   ]
  },
  {
   "cell_type": "markdown",
   "id": "legal-whale",
   "metadata": {},
   "source": [
    "> **Travail à faire** : Vérifiez votre code en exécutant la cellule ci-dessous. "
   ]
  },
  {
   "cell_type": "code",
   "execution_count": null,
   "id": "above-remainder",
   "metadata": {},
   "outputs": [],
   "source": [
    "doctest.run_docstring_examples(decalage_gauche, globals(), verbose= True)"
   ]
  },
  {
   "cell_type": "markdown",
   "id": "banner-dominican",
   "metadata": {},
   "source": [
    "---\n",
    "Enregistrez votre Notebook (voir image ci-dessous), puis déposez-le dans le casier de votre professeur.\n",
    "\n",
    "![enregistrer](../../../IMG/enregistrer.png)"
   ]
  }
 ],
 "metadata": {
  "kernelspec": {
   "display_name": "Python 3",
   "language": "python",
   "name": "python3"
  },
  "language_info": {
   "codemirror_mode": {
    "name": "ipython",
    "version": 3
   },
   "file_extension": ".py",
   "mimetype": "text/x-python",
   "name": "python",
   "nbconvert_exporter": "python",
   "pygments_lexer": "ipython3",
   "version": "3.9.2"
  }
 },
 "nbformat": 4,
 "nbformat_minor": 5
}
