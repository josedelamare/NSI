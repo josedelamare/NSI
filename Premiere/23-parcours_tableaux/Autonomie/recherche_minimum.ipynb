{
 "cells": [
  {
   "cell_type": "markdown",
   "id": "defensive-assault",
   "metadata": {},
   "source": [
    "# <center>Parcours séquentiel d'un tableau - Minimum d'un tableau ![niveau1](../../../IMG/niveau1.png)</center>"
   ]
  },
  {
   "cell_type": "markdown",
   "id": "legislative-retail",
   "metadata": {},
   "source": [
    "Indiquez votre nom et votre prénom dans la cellule ci-dessous :"
   ]
  },
  {
   "cell_type": "code",
   "execution_count": null,
   "id": "pending-connecticut",
   "metadata": {},
   "outputs": [],
   "source": [
    "# Nom : "
   ]
  },
  {
   "cell_type": "markdown",
   "id": "artificial-triangle",
   "metadata": {},
   "source": [
    "---\n",
    ">**Travail à faire** : Exécutez la cellule ci-dessous pour importer les modules nécessaires"
   ]
  },
  {
   "cell_type": "code",
   "execution_count": null,
   "id": "jewish-loading",
   "metadata": {},
   "outputs": [],
   "source": [
    "import doctest"
   ]
  },
  {
   "cell_type": "markdown",
   "id": "refined-majority",
   "metadata": {},
   "source": [
    "---\n",
    "On souhaite écrire une fonction *recherche_minimum()* qui prend en entrée un tableau de nombres et qui renvoie le minimum de ce tableau. Par exemple, \n",
    "```python\n",
    ">>> recherche_minimum([1, 2, 3])\n",
    "```\n",
    "renvoie\n",
    "```python\n",
    "1\n",
    "```"
   ]
  },
  {
   "cell_type": "markdown",
   "id": "together-parts",
   "metadata": {},
   "source": [
    "> **Travail à faire** : Complétez la fonction *recherche_minimum()* ci-dessous :"
   ]
  },
  {
   "cell_type": "code",
   "execution_count": null,
   "id": "coordinated-master",
   "metadata": {},
   "outputs": [],
   "source": [
    "def recherche_minimum(tab):\n",
    "    \"\"\"\n",
    "    renvoie le minimum d'un tableau\n",
    "    Entrée : tab, un tableau de nombres (réels ou entiers)\n",
    "    Sortie : val_min : la valeur minimale du tableau\n",
    "    Exemple :\n",
    "    >>> recherche_minimum([1, 2, 3])\n",
    "    1\n",
    "    >>> recherche_minimum([3, 2, 1])\n",
    "    1\n",
    "    >>> recherche_minimum([2, 1, 3])\n",
    "    1\n",
    "    \"\"\"\n",
    "    ##--Indiquez le code Python, puis cliquez sur Run--##\n",
    "    "
   ]
  },
  {
   "cell_type": "markdown",
   "id": "hairy-peter",
   "metadata": {},
   "source": [
    "> **Travail à faire** : Vérifiez votre code en exécutant la cellule ci-dessous. "
   ]
  },
  {
   "cell_type": "code",
   "execution_count": null,
   "id": "ordered-ivory",
   "metadata": {},
   "outputs": [],
   "source": [
    "doctest.run_docstring_examples(recherche_minimum, globals(), verbose= True)"
   ]
  },
  {
   "cell_type": "markdown",
   "id": "monthly-publication",
   "metadata": {},
   "source": [
    "---\n",
    "Enregistrez votre Notebook (voir image ci-dessous), puis déposez-le dans le casier de votre professeur.\n",
    "\n",
    "![enregistrer](../../../IMG/enregistrer.png)"
   ]
  }
 ],
 "metadata": {
  "kernelspec": {
   "display_name": "Python 3",
   "language": "python",
   "name": "python3"
  },
  "language_info": {
   "codemirror_mode": {
    "name": "ipython",
    "version": 3
   },
   "file_extension": ".py",
   "mimetype": "text/x-python",
   "name": "python",
   "nbconvert_exporter": "python",
   "pygments_lexer": "ipython3",
   "version": "3.9.2"
  }
 },
 "nbformat": 4,
 "nbformat_minor": 5
}
