{
 "cells": [
  {
   "cell_type": "markdown",
   "id": "ecological-newport",
   "metadata": {},
   "source": [
    "# <center>Parcours séquentiel d'un tableau - Recherche d'un élément dans un tableau ![niveau1](../../../IMG/niveau1.png)</center>"
   ]
  },
  {
   "cell_type": "markdown",
   "id": "historical-durham",
   "metadata": {},
   "source": [
    "Indiquez votre nom et votre prénom dans la cellule ci-dessous :"
   ]
  },
  {
   "cell_type": "code",
   "execution_count": null,
   "id": "charged-supervision",
   "metadata": {},
   "outputs": [],
   "source": [
    "# Nom : "
   ]
  },
  {
   "cell_type": "markdown",
   "id": "opposed-leonard",
   "metadata": {},
   "source": [
    "---\n",
    ">**Travail à faire** : Exécutez la cellule ci-dessous pour importer les modules nécessaires"
   ]
  },
  {
   "cell_type": "code",
   "execution_count": null,
   "id": "worldwide-divorce",
   "metadata": {},
   "outputs": [],
   "source": [
    "import doctest"
   ]
  },
  {
   "cell_type": "markdown",
   "id": "integral-albany",
   "metadata": {},
   "source": [
    "---\n",
    "On souhaite écrire une fonction *recherche()* qui prend en entrée un tableau de nombres et un nombre, et qui renvoie `True` si cet élément est dans le tableau et `False` sinon. Par exemple, \n",
    "```python\n",
    ">>> recherche([1, 2, 3], 3)\n",
    "```\n",
    "renvoie\n",
    "```python\n",
    "True\n",
    "```"
   ]
  },
  {
   "cell_type": "markdown",
   "id": "working-proposition",
   "metadata": {},
   "source": [
    "> **Travail à faire** : Complétez la fonction *recherche()* ci-dessous :"
   ]
  },
  {
   "cell_type": "code",
   "execution_count": null,
   "id": "general-renewal",
   "metadata": {},
   "outputs": [],
   "source": [
    "def recherche(tab, x):\n",
    "    \"\"\"\n",
    "    renvoie True si x est dans le tableau et False sinon\n",
    "    Entrée : tab, un tableau de nombres (réels ou entiers)\n",
    "            x : un nombre (réel ou entier)\n",
    "    Sortie : un booléen\n",
    "    Exemple :\n",
    "    >>> recherche([1, 2, 3], 3)\n",
    "    True\n",
    "    >>> recherche([3, 2, 1], 3)\n",
    "    True\n",
    "    >>> recherche([2, 1, 3], 4)\n",
    "    False\n",
    "    \"\"\"\n",
    "    ##--Indiquez le code Python, puis cliquez sur Run--##\n",
    "    "
   ]
  },
  {
   "cell_type": "markdown",
   "id": "german-layout",
   "metadata": {},
   "source": [
    "> **Travail à faire** : Vérifiez votre code en exécutant la cellule ci-dessous. "
   ]
  },
  {
   "cell_type": "code",
   "execution_count": null,
   "id": "owned-commission",
   "metadata": {},
   "outputs": [],
   "source": [
    "doctest.run_docstring_examples(recherche, globals(), verbose= True)"
   ]
  },
  {
   "cell_type": "markdown",
   "id": "dutch-surveillance",
   "metadata": {},
   "source": [
    "---\n",
    "Enregistrez votre Notebook (voir image ci-dessous), puis déposez-le dans le casier de votre professeur.\n",
    "\n",
    "![enregistrer](../../../IMG/enregistrer.png)"
   ]
  }
 ],
 "metadata": {
  "kernelspec": {
   "display_name": "Python 3",
   "language": "python",
   "name": "python3"
  },
  "language_info": {
   "codemirror_mode": {
    "name": "ipython",
    "version": 3
   },
   "file_extension": ".py",
   "mimetype": "text/x-python",
   "name": "python",
   "nbconvert_exporter": "python",
   "pygments_lexer": "ipython3",
   "version": "3.9.2"
  }
 },
 "nbformat": 4,
 "nbformat_minor": 5
}
