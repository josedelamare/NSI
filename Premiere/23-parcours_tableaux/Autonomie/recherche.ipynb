{
 "cells": [
  {
   "cell_type": "markdown",
   "id": "permanent-assistant",
   "metadata": {},
   "source": [
    "# <center>Parcours séquentiel d'un tableau - Recherche d'un élément dans un tableau ![niveau1](../../../IMG/niveau1.png)</center>"
   ]
  },
  {
   "cell_type": "markdown",
   "id": "casual-journey",
   "metadata": {},
   "source": [
    "Indiquez votre nom et votre prénom dans la cellule ci-dessous :"
   ]
  },
  {
   "cell_type": "code",
   "execution_count": null,
   "id": "forward-march",
   "metadata": {},
   "outputs": [],
   "source": [
    "# Nom : "
   ]
  },
  {
   "cell_type": "markdown",
   "id": "fifteen-cleanup",
   "metadata": {},
   "source": [
    "---\n",
    ">**Travail à faire** : Exécutez la cellule ci-dessous pour importer les modules nécessaires"
   ]
  },
  {
   "cell_type": "code",
   "execution_count": null,
   "id": "representative-tuner",
   "metadata": {},
   "outputs": [],
   "source": [
    "import doctest"
   ]
  },
  {
   "cell_type": "markdown",
   "id": "removed-passenger",
   "metadata": {},
   "source": [
    "---\n",
    "On souhaite écrire une fonction *recherche()* qui prend en entrée un tableau de nombres et un nombre, et qui renvoie `True` si cet élément est dans le tableau et `False` sinon. Par exemple, \n",
    "```python\n",
    ">>> recherche([1, 2, 3], 3)\n",
    "```\n",
    "renvoie\n",
    "```python\n",
    "True\n",
    "```"
   ]
  },
  {
   "cell_type": "markdown",
   "id": "right-hamilton",
   "metadata": {},
   "source": [
    "> **Travail à faire** : Complétez la fonction *recherche()* ci-dessous :"
   ]
  },
  {
   "cell_type": "code",
   "execution_count": null,
   "id": "rubber-associate",
   "metadata": {},
   "outputs": [],
   "source": [
    "def recherche(tab, x):\n",
    "    \"\"\"\n",
    "    renvoie True si x est dans le tableau et False sinon\n",
    "    Entrée : tab, un tableau de nombres (réels ou entiers)\n",
    "            x : un nombre (réel ou entier)\n",
    "    Sortie : un booléen\n",
    "    Exemple :\n",
    "    >>> recherche([1, 2, 3], 3)\n",
    "    True\n",
    "    >>> recherche_minimum([3, 2, 1], 3)\n",
    "    True\n",
    "    >>> recherche_minimum([2, 1, 3], 4)\n",
    "    False\n",
    "    \"\"\"\n",
    "    ##--Indiquez le code Python, puis cliquez sur Run--##\n",
    "    "
   ]
  },
  {
   "cell_type": "markdown",
   "id": "christian-tokyo",
   "metadata": {},
   "source": [
    "> **Travail à faire** : Vérifiez votre code en exécutant la cellule ci-dessous. "
   ]
  },
  {
   "cell_type": "code",
   "execution_count": null,
   "id": "weighted-treasure",
   "metadata": {},
   "outputs": [],
   "source": [
    "doctest.run_docstring_examples(recherche, globals(), verbose= True)"
   ]
  },
  {
   "cell_type": "markdown",
   "id": "transsexual-armstrong",
   "metadata": {},
   "source": [
    "---\n",
    "Enregistrez votre Notebook (voir image ci-dessous), puis déposez-le dans le casier de votre professeur.\n",
    "\n",
    "![enregistrer](../../../IMG/enregistrer.png)"
   ]
  }
 ],
 "metadata": {
  "kernelspec": {
   "display_name": "Python 3",
   "language": "python",
   "name": "python3"
  },
  "language_info": {
   "codemirror_mode": {
    "name": "ipython",
    "version": 3
   },
   "file_extension": ".py",
   "mimetype": "text/x-python",
   "name": "python",
   "nbconvert_exporter": "python",
   "pygments_lexer": "ipython3",
   "version": "3.9.2"
  }
 },
 "nbformat": 4,
 "nbformat_minor": 5
}
