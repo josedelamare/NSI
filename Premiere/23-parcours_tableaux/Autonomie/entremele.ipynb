{
 "cells": [
  {
   "cell_type": "markdown",
   "id": "acquired-fountain",
   "metadata": {},
   "source": [
    "# <center>Parcours séquentiel d'un tableau - Entremêler deux tableaux ![niveau2](../../../IMG/niveau2.png)</center>"
   ]
  },
  {
   "cell_type": "markdown",
   "id": "exterior-column",
   "metadata": {},
   "source": [
    "Indiquez votre nom et votre prénom dans la cellule ci-dessous :"
   ]
  },
  {
   "cell_type": "code",
   "execution_count": null,
   "id": "lasting-colombia",
   "metadata": {},
   "outputs": [],
   "source": [
    "# Nom : "
   ]
  },
  {
   "cell_type": "markdown",
   "id": "exterior-harris",
   "metadata": {},
   "source": [
    "---\n",
    ">**Travail à faire** : Exécutez la cellule ci-dessous pour importer les modules nécessaires"
   ]
  },
  {
   "cell_type": "code",
   "execution_count": null,
   "id": "congressional-factor",
   "metadata": {},
   "outputs": [],
   "source": [
    "import doctest"
   ]
  },
  {
   "cell_type": "markdown",
   "id": "intimate-assault",
   "metadata": {},
   "source": [
    "---\n",
    "On souhaite écrire une fonction *entremele()* qui prend en entrée deux tableaux de nombres et qui renvoie un tableau dont les éléments sont entremêlés. Par exemple, \n",
    "```python\n",
    ">>> entremele([1, 2, 3], [4, 5, 6])\n",
    "```\n",
    "renvoie\n",
    "```python\n",
    "[1, 4, 2, 5, 3, 6]\n",
    "```"
   ]
  },
  {
   "cell_type": "markdown",
   "id": "ambient-honolulu",
   "metadata": {},
   "source": [
    "> **Travail à faire** : Complétez la fonction *entremele()* ci-dessous :"
   ]
  },
  {
   "cell_type": "code",
   "execution_count": null,
   "id": "enormous-messaging",
   "metadata": {},
   "outputs": [],
   "source": [
    "def entremele(tab1, tab2):\n",
    "    \"\"\"\n",
    "    renvoie un tableau dont les éléments sont entremêlés\n",
    "    Entrée : tab1 et tab2, un tableau de nombres entiers ou réels\n",
    "    Sortie : new_tab : un tabelau de nombre entiers ou réels\n",
    "    Exemple :\n",
    "    >>> entremele([1, 2, 3], [4, 5, 6])\n",
    "   [1, 4, 2, 5, 3, 6]\n",
    "    >>> entremele([1, 2, 3], [4])\n",
    "   [1, 4, 2, 3]\n",
    "    >>> entremele([1], [4, 5, 6])\n",
    "   [1, 4, 5, 6]\n",
    "    \"\"\"\n",
    "    ##--Indiquez le code Python, puis cliquez sur Run--##\n",
    "    "
   ]
  },
  {
   "cell_type": "markdown",
   "id": "chubby-fireplace",
   "metadata": {},
   "source": [
    "> **Travail à faire** : Vérifiez votre code en exécutant la cellule ci-dessous. "
   ]
  },
  {
   "cell_type": "code",
   "execution_count": null,
   "id": "perfect-conversation",
   "metadata": {},
   "outputs": [],
   "source": [
    "doctest.run_docstring_examples(entremele, globals(), verbose= True)"
   ]
  },
  {
   "cell_type": "markdown",
   "id": "significant-martial",
   "metadata": {},
   "source": [
    "---\n",
    "Enregistrez votre Notebook (voir image ci-dessous), puis déposez-le dans le casier de votre professeur.\n",
    "\n",
    "![enregistrer](../../../IMG/enregistrer.png)"
   ]
  }
 ],
 "metadata": {
  "kernelspec": {
   "display_name": "Python 3",
   "language": "python",
   "name": "python3"
  },
  "language_info": {
   "codemirror_mode": {
    "name": "ipython",
    "version": 3
   },
   "file_extension": ".py",
   "mimetype": "text/x-python",
   "name": "python",
   "nbconvert_exporter": "python",
   "pygments_lexer": "ipython3",
   "version": "3.9.2"
  }
 },
 "nbformat": 4,
 "nbformat_minor": 5
}
