{
 "cells": [
  {
   "cell_type": "markdown",
   "metadata": {},
   "source": [
    "# Les structures itératives"
   ]
  },
  {
   "cell_type": "markdown",
   "metadata": {},
   "source": [
    "Exécutez la cellule ci-dessous pour importer les modules nécessaires"
   ]
  },
  {
   "cell_type": "code",
   "execution_count": null,
   "metadata": {},
   "outputs": [],
   "source": [
    "from metakernel import register_ipython_magics\n",
    "register_ipython_magics()"
   ]
  },
  {
   "cell_type": "markdown",
   "metadata": {},
   "source": [
    "---\n",
    "## Les structures itératives\n",
    "Les structures itératives sont des structures qui se répètent (d'où le nom d'itérations).\n",
    "\n",
    "Voilà par exemple, une façon d'afficher 10 fois le mot 'Bonjour'."
   ]
  },
  {
   "cell_type": "code",
   "execution_count": null,
   "metadata": {},
   "outputs": [],
   "source": [
    "print('Bonjour')\n",
    "print('Bonjour')\n",
    "print('Bonjour')\n",
    "print('Bonjour')\n",
    "print('Bonjour')\n",
    "print('Bonjour')\n",
    "print('Bonjour')\n",
    "print('Bonjour')\n",
    "print('Bonjour')\n",
    "print('Bonjour')"
   ]
  },
  {
   "cell_type": "markdown",
   "metadata": {},
   "source": [
    "Voilà une deuxième façon d'afficher 10 fois le mot 'Bonjour'."
   ]
  },
  {
   "cell_type": "code",
   "execution_count": null,
   "metadata": {},
   "outputs": [],
   "source": [
    "for i in range (0, 10, 1):\n",
    "    print('Bonjour')"
   ]
  },
  {
   "cell_type": "markdown",
   "metadata": {},
   "source": [
    "Que faut-il modifier pour afficher 15 fois le mot 'Bonjour' ? Saisissez le code ci-dessous, puis cliquez sur `Run` pour exécuter la cellule."
   ]
  },
  {
   "cell_type": "code",
   "execution_count": null,
   "metadata": {},
   "outputs": [],
   "source": [
    "for i in range (....):\n",
    "    print('Bonjour')"
   ]
  },
  {
   "cell_type": "markdown",
   "metadata": {},
   "source": [
    "Voilà une troisième façon d'afficher 10 fois le mot 'Bonjour'."
   ]
  },
  {
   "cell_type": "code",
   "execution_count": null,
   "metadata": {},
   "outputs": [],
   "source": [
    "i = 0\n",
    "while i < 10:\n",
    "    print('Bonjour')\n",
    "    i = i + 1"
   ]
  },
  {
   "cell_type": "markdown",
   "metadata": {},
   "source": [
    "Que faut-il modifier pour afficher 15 fois le mot 'Bonjour' ? Modifiez le code ci-dessous, puis cliquez sur `Run` pour exécuter la cellule."
   ]
  },
  {
   "cell_type": "code",
   "execution_count": null,
   "metadata": {},
   "outputs": [],
   "source": [
    "i = 0\n",
    "while i < ....:\n",
    "    print('Bonjour')\n",
    "    i = i + 1"
   ]
  },
  {
   "cell_type": "markdown",
   "metadata": {},
   "source": [
    "Laquelle des trois strucures vous paraît-elle la plus simple à utiliser et à adapter à une nouvelle situation ?"
   ]
  },
  {
   "cell_type": "code",
   "execution_count": null,
   "metadata": {},
   "outputs": [],
   "source": [
    "##--Ecrivez vos réponses ici, sans exécuter la cellule--##\n",
    "# \n",
    "# "
   ]
  },
  {
   "cell_type": "markdown",
   "metadata": {},
   "source": [
    "---\n",
    "## La structure `for`\n",
    "\n",
    "Exécutez la cellule ci-dessous, déroulez toutes les opérations (bouton Next), et observez le résultat :"
   ]
  },
  {
   "cell_type": "code",
   "execution_count": null,
   "metadata": {},
   "outputs": [],
   "source": [
    "%%tutor\n",
    "def boucle(n):\n",
    "    for i in range (0, n, 1):\n",
    "        print('Bonjour')\n",
    "\n",
    "boucle(5)"
   ]
  },
  {
   "cell_type": "markdown",
   "metadata": {},
   "source": [
    "Quelle est la première valeur prise par la variable ***i*** ?"
   ]
  },
  {
   "cell_type": "code",
   "execution_count": null,
   "metadata": {},
   "outputs": [],
   "source": [
    "##--Ecrivez vos réponses ici, sans exécuter la cellule--##\n",
    "# \n",
    "# "
   ]
  },
  {
   "cell_type": "markdown",
   "metadata": {},
   "source": [
    "Quelle est la dernière valeur prise par la variable ***i*** ?"
   ]
  },
  {
   "cell_type": "code",
   "execution_count": null,
   "metadata": {},
   "outputs": [],
   "source": [
    "##--Ecrivez vos réponses ici, sans exécuter la cellule--##\n",
    "# \n",
    "# "
   ]
  },
  {
   "cell_type": "markdown",
   "metadata": {},
   "source": [
    "Pour quelles valeurs de la variable ***i*** l'instruction \n",
    "```python\n",
    "print('Bonjour')\n",
    "```\n",
    "est-elle exécutée ?"
   ]
  },
  {
   "cell_type": "code",
   "execution_count": null,
   "metadata": {},
   "outputs": [],
   "source": [
    "##--Ecrivez vos réponses ici, sans exécuter la cellule--##\n",
    "# \n",
    "# "
   ]
  },
  {
   "cell_type": "markdown",
   "metadata": {},
   "source": [
    "---\n",
    "## La structure `while`\n",
    "\n",
    "Exécutez la cellule ci-dessous, déroulez toutes les opérations (bouton Next), et observez le résultat :"
   ]
  },
  {
   "cell_type": "code",
   "execution_count": null,
   "metadata": {},
   "outputs": [],
   "source": [
    "%%tutor\n",
    "def boucle(n):\n",
    "    i = 0\n",
    "    while i < n:\n",
    "        print('Bonjour')\n",
    "        i = i + 1\n",
    "\n",
    "boucle(5)"
   ]
  },
  {
   "cell_type": "markdown",
   "metadata": {},
   "source": [
    "Quelle est la première valeur prise par la variable ***i*** ?"
   ]
  },
  {
   "cell_type": "code",
   "execution_count": null,
   "metadata": {},
   "outputs": [],
   "source": [
    "##--Ecrivez vos réponses ici, sans exécuter la cellule--##\n",
    "# \n",
    "# "
   ]
  },
  {
   "cell_type": "markdown",
   "metadata": {},
   "source": [
    "Quelle est la dernière valeur prise par la variable ***i*** ?"
   ]
  },
  {
   "cell_type": "code",
   "execution_count": null,
   "metadata": {},
   "outputs": [],
   "source": [
    "##--Ecrivez vos réponses ici, sans exécuter la cellule--##\n",
    "# \n",
    "# "
   ]
  },
  {
   "cell_type": "markdown",
   "metadata": {},
   "source": [
    "Pour quelles valeurs de la variable ***i*** l'instruction \n",
    "```python\n",
    "print('Bonjour')\n",
    "```\n",
    "est-elle exécutée ?"
   ]
  },
  {
   "cell_type": "code",
   "execution_count": null,
   "metadata": {},
   "outputs": [],
   "source": [
    "##--Ecrivez vos réponses ici, sans exécuter la cellule--##\n",
    "# \n",
    "# "
   ]
  },
  {
   "cell_type": "markdown",
   "metadata": {},
   "source": [
    "---\n",
    "## Le problème de l'arrêt\n",
    "\n",
    "Exécutez la cellule ci-dessous, déroulez toutes les opérations (bouton Next), et observez le résultat :"
   ]
  },
  {
   "cell_type": "code",
   "execution_count": null,
   "metadata": {},
   "outputs": [],
   "source": [
    "%%tutor\n",
    "def boucle(n):\n",
    "    i = 0\n",
    "    while i != n:\n",
    "        print('Bonjour')\n",
    "        i = i + 2\n",
    "\n",
    "boucle(5)"
   ]
  },
  {
   "cell_type": "markdown",
   "metadata": {},
   "source": [
    "Cette fonction peut-elle s'arrêter ?"
   ]
  },
  {
   "cell_type": "code",
   "execution_count": null,
   "metadata": {},
   "outputs": [],
   "source": [
    "##--Ecrivez vos réponses ici, sans exécuter la cellule--##\n",
    "# \n",
    "# "
   ]
  },
  {
   "cell_type": "markdown",
   "metadata": {},
   "source": [
    "Proposez une modification de la ligne :\n",
    "```python\n",
    "while i != n:\n",
    "```\n",
    "de telle façon que la boucle se termine."
   ]
  },
  {
   "cell_type": "code",
   "execution_count": null,
   "metadata": {},
   "outputs": [],
   "source": [
    "%%tutor\n",
    "def boucle(n):\n",
    "    i = 0\n",
    "    while .....:\n",
    "        print('Bonjour')\n",
    "        i = i + 2\n",
    "\n",
    "boucle(5)"
   ]
  },
  {
   "cell_type": "markdown",
   "metadata": {},
   "source": [
    "<span font style='color:red'>**Enregistrez ce fichier**"
   ]
  },
  {
   "cell_type": "code",
   "execution_count": null,
   "metadata": {},
   "outputs": [],
   "source": []
  }
 ],
 "metadata": {
  "kernelspec": {
   "display_name": "Python 3",
   "language": "python",
   "name": "python3"
  },
  "language_info": {
   "codemirror_mode": {
    "name": "ipython",
    "version": 3
   },
   "file_extension": ".py",
   "mimetype": "text/x-python",
   "name": "python",
   "nbconvert_exporter": "python",
   "pygments_lexer": "ipython3",
   "version": "3.9.2"
  }
 },
 "nbformat": 4,
 "nbformat_minor": 4
}
