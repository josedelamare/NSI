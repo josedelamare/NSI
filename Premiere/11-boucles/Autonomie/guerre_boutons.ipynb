{
 "cells": [
  {
   "cell_type": "markdown",
   "metadata": {},
   "source": [
    "# La Guerre des Boutons"
   ]
  },
  {
   "cell_type": "markdown",
   "metadata": {},
   "source": [
    "Dans le film \"La Guerre Des Boutons\", Petit Gibus chante une chanson sans fin :  \n",
    "\n",
    ">**« Mon pantalon est décousu, Si ça continue, on verra le trou d’... »**  \n",
    "\n",
    "![image](https://todaycycling.com/wp-content/uploads/2018/05/petit-gibus-la-guerre-des-boutons-696x392.jpg)\n",
    "\n",
    "L’algorithme suivant permet d’afficher cette phrase indéfiniment, jusqu’à ce que l’utilisateur réponde « N » à la question : « voulez vous continuer ? ».  \n",
    "\n",
    "\n",
    "![image_algo](algo_guerre_boutons.png)\n",
    "    \n",
    "Codez l'algorithme précédent, puis vérifiez qu'il fonctionne comme prévu."
   ]
  },
  {
   "cell_type": "code",
   "execution_count": null,
   "metadata": {},
   "outputs": [],
   "source": [
    "##--Indiquez le code Python, puis cliquez sur Run--##\n"
   ]
  },
  {
   "cell_type": "code",
   "execution_count": null,
   "metadata": {},
   "outputs": [],
   "source": []
  },
  {
   "cell_type": "code",
   "execution_count": null,
   "metadata": {},
   "outputs": [],
   "source": []
  }
 ],
 "metadata": {
  "kernelspec": {
   "display_name": "Python 3",
   "language": "python",
   "name": "python3"
  },
  "language_info": {
   "codemirror_mode": {
    "name": "ipython",
    "version": 3
   },
   "file_extension": ".py",
   "mimetype": "text/x-python",
   "name": "python",
   "nbconvert_exporter": "python",
   "pygments_lexer": "ipython3",
   "version": "3.9.2"
  }
 },
 "nbformat": 4,
 "nbformat_minor": 4
}
