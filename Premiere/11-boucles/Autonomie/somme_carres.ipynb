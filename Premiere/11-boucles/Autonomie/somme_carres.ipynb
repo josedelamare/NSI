{
 "cells": [
  {
   "cell_type": "markdown",
   "metadata": {},
   "source": [
    "# Somme des premiers carrés d'un nombre ![niveau1](../../../IMG/niveau3.png)"
   ]
  },
  {
   "cell_type": "markdown",
   "metadata": {},
   "source": [
    "Indiquez votre nom et votre prénom dans la cellule ci-dessous :"
   ]
  },
  {
   "cell_type": "code",
   "execution_count": null,
   "metadata": {
    "tags": []
   },
   "outputs": [],
   "source": [
    "# Nom : "
   ]
  },
  {
   "cell_type": "markdown",
   "metadata": {},
   "source": [
    "---\n",
    ">**Travail à faire** : Exécutez la cellule ci-dessous pour importer les modules nécessaires"
   ]
  },
  {
   "cell_type": "code",
   "execution_count": null,
   "metadata": {},
   "outputs": [],
   "source": [
    "from doctest import run_docstring_examples\n",
    "from corrections import test_somme_carres"
   ]
  },
  {
   "cell_type": "markdown",
   "metadata": {},
   "source": [
    "---"
   ]
  },
  {
   "cell_type": "markdown",
   "metadata": {},
   "source": [
    "On souhaite écire une fonction *somme_carres()* prenant *n* un entier en argument, qui **renvoie** la somme des n premiers carrés.\n",
    "\n",
    "Par exemple, somme_carres(5) renvoie : $4^2 + 3^2 + 2^2 + 1^2 + 0^2 = 30$"
   ]
  },
  {
   "cell_type": "markdown",
   "metadata": {},
   "source": [
    "> **Travail à faire** : complétez la fonction *somme_entiers()* ci-dessous en utilisant une boucle `for`"
   ]
  },
  {
   "cell_type": "code",
   "execution_count": null,
   "metadata": {},
   "outputs": [],
   "source": [
    "def somme_carres(n):\n",
    "    \"\"\"renvoie la somme des n premiers carres\n",
    "    entrée : \n",
    "        nombre : un entier\n",
    "    sortie : \n",
    "        somme : un entier\n",
    "    Exemples\n",
    "    >>> somme_carres(0)\n",
    "    0\n",
    "    >>> somme_carres(3)\n",
    "    5\n",
    "    >>> somme_carres(5)\n",
    "    30\n",
    "    \"\"\"\n",
    "    \n",
    "    ##--Indiquez le code Python, puis cliquez sur Run--##\n",
    "    "
   ]
  },
  {
   "cell_type": "markdown",
   "metadata": {},
   "source": [
    "> **Travail à faire** : Vérifiez votre code en exécutant la cellule ci-dessous. \n",
    "\n",
    "Si `False` apparaît, c'est que le code entré à la cellule précédente est faux. Corrigez votre travail, exécutez la cellule précédente puis à nouveau la prochaine."
   ]
  },
  {
   "cell_type": "code",
   "execution_count": null,
   "metadata": {},
   "outputs": [],
   "source": [
    "run_docstring_examples(somme_carres, globals(), verbose = True)"
   ]
  },
  {
   "cell_type": "markdown",
   "metadata": {},
   "source": [
    "---\n",
    "On souhaite calculer la somme des 12 premiers entiers et stocker le résultat dans la variable *toto*. Indiquez dans la cellule ci-dessous la ligne de code qu'il faut exécuter."
   ]
  },
  {
   "cell_type": "code",
   "execution_count": null,
   "metadata": {},
   "outputs": [],
   "source": [
    "##--Indiquez le code Python, puis cliquez sur Run--##\n"
   ]
  },
  {
   "cell_type": "markdown",
   "metadata": {},
   "source": [
    "> **Travail à faire** : Vérifiez votre code en exécutant la cellule ci-dessous. "
   ]
  },
  {
   "cell_type": "code",
   "execution_count": null,
   "metadata": {},
   "outputs": [],
   "source": [
    "test_somme_carres(somme_carres,toto)"
   ]
  },
  {
   "cell_type": "markdown",
   "metadata": {},
   "source": [
    "---\n",
    "Enregistrez votre Notebook (voir image ci-dessous), puis déposez-le dans le casier de votre professeur.\n",
    "\n",
    "![enregistrer](enregistrer.png)"
   ]
  }
 ],
 "metadata": {
  "kernelspec": {
   "display_name": "Python 3",
   "language": "python",
   "name": "python3"
  },
  "language_info": {
   "codemirror_mode": {
    "name": "ipython",
    "version": 3
   },
   "file_extension": ".py",
   "mimetype": "text/x-python",
   "name": "python",
   "nbconvert_exporter": "python",
   "pygments_lexer": "ipython3",
   "version": "3.9.2"
  }
 },
 "nbformat": 4,
 "nbformat_minor": 4
}
