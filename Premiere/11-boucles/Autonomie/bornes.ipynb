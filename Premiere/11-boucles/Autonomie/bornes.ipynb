{
 "cells": [
  {
   "cell_type": "markdown",
   "metadata": {},
   "source": [
    "# Saisie d'un nombre entre deux bornes ![niveau1](../../../IMG/niveau2.png)"
   ]
  },
  {
   "cell_type": "markdown",
   "metadata": {},
   "source": [
    "Indiquez votre nom et votre prénom dans la cellule ci-dessous :"
   ]
  },
  {
   "cell_type": "code",
   "execution_count": null,
   "metadata": {
    "tags": []
   },
   "outputs": [],
   "source": [
    "# Nom : "
   ]
  },
  {
   "cell_type": "markdown",
   "metadata": {},
   "source": [
    "---"
   ]
  },
  {
   "cell_type": "markdown",
   "metadata": {},
   "source": [
    "Imaginons un problème qui nécessite la saisie d'un nombre compris entre 0 et 100. Ecrivez un programme Python qui lit sur l'entrée un nombre et vérifie si ce nombre est bien compris entre ces bornes. Si ce n'est pas le cas, l'ordinateur redemande à l'utilisateur de faire un nouvel essai jusqu'à ce que le nombre entré soit compris entre 0 et 100.\n",
    "\n",
    "Pour cela, on souhaite créer une fonction *bornes()*, sans argument, et renvoyant le nombre de saisies effectuées.\n",
    "\n",
    "Par exemple, lorsqu'on saisit successivement -1, 101 puis 85, la fonction renvoie 2."
   ]
  },
  {
   "cell_type": "markdown",
   "metadata": {},
   "source": [
    "> **Travail à faire** : complétez la fonction *bornes()* en utilisant une boucle `while`"
   ]
  },
  {
   "cell_type": "code",
   "execution_count": null,
   "metadata": {},
   "outputs": [],
   "source": [
    "def bornes():\n",
    "    \"\"\"renvoie le nombre de valeurs saisies en dehors de l'intervalle\n",
    "    sortie : \n",
    "        nb_saisies : un entier\n",
    "    \"\"\"\n",
    "    \n",
    "    nb_saisies =0\n",
    "    saisie = input('saisissez votre nombre')\n",
    "    nombre = int(saisie)\n",
    "    \n",
    "    ##--Indiquez le code Python, puis cliquez sur Run--##\n",
    "    "
   ]
  },
  {
   "cell_type": "markdown",
   "metadata": {},
   "source": [
    "> **Travail à faire** : Vérifiez votre code à partir de l'exemple ci-dessus. "
   ]
  },
  {
   "cell_type": "code",
   "execution_count": null,
   "metadata": {},
   "outputs": [],
   "source": [
    "bornes()"
   ]
  },
  {
   "cell_type": "markdown",
   "metadata": {},
   "source": [
    "---\n",
    "Enregistrez votre Notebook (voir image ci-dessous), puis déposez-le dans le casier de votre professeur.\n",
    "\n",
    "![enregistrer](enregistrer.png)"
   ]
  }
 ],
 "metadata": {
  "kernelspec": {
   "display_name": "Python 3",
   "language": "python",
   "name": "python3"
  },
  "language_info": {
   "codemirror_mode": {
    "name": "ipython",
    "version": 3
   },
   "file_extension": ".py",
   "mimetype": "text/x-python",
   "name": "python",
   "nbconvert_exporter": "python",
   "pygments_lexer": "ipython3",
   "version": "3.9.2"
  }
 },
 "nbformat": 4,
 "nbformat_minor": 4
}
