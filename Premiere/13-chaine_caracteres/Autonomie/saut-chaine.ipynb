{
 "cells": [
  {
   "cell_type": "markdown",
   "metadata": {},
   "source": [
    "# <center> Parcours par index d'une chaîne de caractères"
   ]
  },
  {
   "cell_type": "markdown",
   "metadata": {},
   "source": [
    "> **Travail à faire** : Exécutez la cellule ci-dessous pour importer les modules necessaires"
   ]
  },
  {
   "cell_type": "code",
   "execution_count": null,
   "metadata": {},
   "outputs": [],
   "source": [
    "from solution import *"
   ]
  },
  {
   "cell_type": "markdown",
   "metadata": {},
   "source": [
    "---\n",
    "\n",
    "On se propose de coder une fonction $saut\\_chaine()$ prenant *chaine*, une chaîne de caractères en argument, et renvoyant la chaîne de caractères en prenant un caractère sur deux.\n",
    "\n",
    "> **Travail à faire** : Exécutez la cellule ci-dessous pour voir un exemple"
   ]
  },
  {
   "cell_type": "code",
   "execution_count": null,
   "metadata": {},
   "outputs": [],
   "source": [
    "exo_saut_chaine.example(2)"
   ]
  },
  {
   "cell_type": "markdown",
   "metadata": {},
   "source": [
    "> **Travail à faire** : complétez la fonction ci-dessous, puis exécutez la."
   ]
  },
  {
   "cell_type": "code",
   "execution_count": null,
   "metadata": {},
   "outputs": [],
   "source": [
    "def saut_chaine(chaine):\n",
    "    \"\"\"renvoie la chaine en prenant un caractère sur deux\"\"\"\n",
    "    "
   ]
  },
  {
   "cell_type": "markdown",
   "metadata": {},
   "source": [
    "> **Travail à faire** : Exécutez la cellule ci-dessous pour vérifier votre travail. Si une case rouge apparaît, c'est que votre fonction n'est pas bonne. Corrigez la fonction, puis exécutez à nouveau la cellule ci-dessous jusqu'à ne faire apparaître que des cases vertes."
   ]
  },
  {
   "cell_type": "code",
   "execution_count": null,
   "metadata": {},
   "outputs": [],
   "source": [
    "exo_saut_chaine.correction(saut_chaine)"
   ]
  },
  {
   "cell_type": "markdown",
   "metadata": {},
   "source": [
    "> **Travail à faire** : Indiquez dans la cellule ci-dessous le code permettant de stocker dans la variable *toto* la nouvelle chaîne de caractères lorsqu'on 1 caractère sur 2 à \"mot\""
   ]
  },
  {
   "cell_type": "code",
   "execution_count": null,
   "metadata": {},
   "outputs": [],
   "source": [
    "#--Indiquez le code Python ci-dessous, puis cliquez sur Run--#\n"
   ]
  },
  {
   "cell_type": "markdown",
   "metadata": {},
   "source": [
    "> **Travail à faire** : Vérifiez votre travail en exécutant la cellule ci-dessous"
   ]
  },
  {
   "cell_type": "code",
   "execution_count": null,
   "metadata": {},
   "outputs": [],
   "source": [
    "test_saut_chaine(saut_chaine, toto)"
   ]
  },
  {
   "cell_type": "markdown",
   "metadata": {},
   "source": [
    "---\n",
    "Enregistrez votre Notebook (voir image ci-dessous), puis déposez-le dans le casier de votre professeur\n",
    "![enregistrer](enregistrer.png)"
   ]
  },
  {
   "cell_type": "code",
   "execution_count": null,
   "metadata": {},
   "outputs": [],
   "source": []
  },
  {
   "cell_type": "code",
   "execution_count": null,
   "metadata": {},
   "outputs": [],
   "source": []
  },
  {
   "cell_type": "code",
   "execution_count": null,
   "metadata": {},
   "outputs": [],
   "source": []
  }
 ],
 "metadata": {
  "kernelspec": {
   "display_name": "Python 3",
   "language": "python",
   "name": "python3"
  },
  "language_info": {
   "codemirror_mode": {
    "name": "ipython",
    "version": 3
   },
   "file_extension": ".py",
   "mimetype": "text/x-python",
   "name": "python",
   "nbconvert_exporter": "python",
   "pygments_lexer": "ipython3",
   "version": "3.9.2"
  }
 },
 "nbformat": 4,
 "nbformat_minor": 4
}
