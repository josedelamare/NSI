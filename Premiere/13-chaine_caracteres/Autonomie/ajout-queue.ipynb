{
 "cells": [
  {
   "cell_type": "markdown",
   "metadata": {},
   "source": [
    "# <center> Parcours par index d'une chaîne de caractères"
   ]
  },
  {
   "cell_type": "markdown",
   "metadata": {},
   "source": [
    "> **Travail à faire** : Exécutez la cellule ci-dessous pour importer les modules necessaires"
   ]
  },
  {
   "cell_type": "code",
   "execution_count": null,
   "metadata": {},
   "outputs": [],
   "source": [
    "from solution import *"
   ]
  },
  {
   "cell_type": "markdown",
   "metadata": {},
   "source": [
    "---\n",
    "## 1. Rappels sur les chaînes de caractères\n",
    "### 1.1. Indexation d'une chaîne de caractères\n",
    "\n",
    "Une chaîne de caractère est indexée, c'est à dire que chaque caractère de la chaîne possède un indice. Le caractère le plus à gauche possède l'indice 0.\n",
    "> **Travail à faire** : Exécutez la cellule ci-dessous pour accéder au premier élément de la chaine *c*"
   ]
  },
  {
   "cell_type": "code",
   "execution_count": null,
   "metadata": {},
   "outputs": [],
   "source": [
    "c = 'tata'\n",
    "c[0]"
   ]
  },
  {
   "cell_type": "markdown",
   "metadata": {},
   "source": [
    "### 1.2. Non-mutabilité d'une chaîne de caractères\n",
    "\n",
    "Une chaîne de caractères est **non-mutable**, c'est à dire qu'on ne peut pas modifier directement l'un de ses éléments. L'instruction :\n",
    "```python\n",
    "chaine[i] = valeur\n",
    "```\n",
    "ne permet pas d'affecter `valeur` à la position *i* de la chaîne de caractère. Cette instruction renvoie une erreur.\n",
    "> **Travail à faire** : Exécutez la cellule ci-dessous pour modifier la chaine *c*"
   ]
  },
  {
   "cell_type": "code",
   "execution_count": null,
   "metadata": {},
   "outputs": [],
   "source": [
    "c[1] = 'a'"
   ]
  },
  {
   "cell_type": "markdown",
   "metadata": {},
   "source": [
    "### 1.3. Contournement du problème\n",
    "\n",
    "Une solution pour contourner ce problème consiste à utiliser la concaténation. Le résultat d'une concaténation est une nouvelle chaîne de caractères.\n",
    "> **Travail à faire** : Exécutez la cellule ci-dessous illustrant la concaténation."
   ]
  },
  {
   "cell_type": "code",
   "execution_count": null,
   "metadata": {},
   "outputs": [],
   "source": [
    "'toto' + 'tata'"
   ]
  },
  {
   "cell_type": "markdown",
   "metadata": {},
   "source": [
    "### 1.4. Ajout d'un élément en dernière position d'une chaine\n",
    "\n",
    "La fonction *ajout_queue()*, prenant *c* (la chaîne à modifier) et *car* (le caractère à ajouter) en argument, ajoute ce caractère en dernière position de la chaîne.\n",
    "\n",
    "Pour réaliser cela : \n",
    "- on crée une chaîne de caractères vide (ligne 2),\n",
    "- on réalise un parcours par index pour recopier chaque caractère de *c* dans cette nouvelle chaîne (lignes 3 et 4),\n",
    "- on ajoute *car* à cette nouvelle chaîne (ligne 6).\n",
    "\n",
    "![algorithme](algo-1.png)"
   ]
  },
  {
   "cell_type": "markdown",
   "metadata": {},
   "source": [
    "> **Travail à faire** : Codez cet algorithme dans la cellule ci-dessous"
   ]
  },
  {
   "cell_type": "code",
   "execution_count": null,
   "metadata": {},
   "outputs": [],
   "source": [
    "def ajout_queue(c, car):\n",
    "    \"\"\"ajout d'un élément en dernière position d'une chaîne\n",
    "    Entrées : c (une chaîne de caractère) et car (le caractère à ajouter)\n",
    "    Sortie : new_chaine : une chaîne de caractère\n",
    "    \"\"\"\n",
    "    "
   ]
  },
  {
   "cell_type": "markdown",
   "metadata": {},
   "source": [
    "> **Travail à faire** : Exécutez la cellule ci-dessous pour vérifier votre travail. Si une case rouge apparaît, c'est que votre fonction n'est pas bonne. Corrigez la fonction, puis exécutez à nouveau la cellule ci-dessous jusqu'à ne faire apparaître que des cases vertes."
   ]
  },
  {
   "cell_type": "code",
   "execution_count": null,
   "metadata": {},
   "outputs": [],
   "source": [
    "exo_ajout_queue.correction(ajout_queue)"
   ]
  },
  {
   "cell_type": "markdown",
   "metadata": {},
   "source": [
    "L'appel de cette fonction s'effectue de façon classique.\n",
    "> **Travail à faire** : Exécutez la cellule ci-dessous pour voir un exemple d'appel"
   ]
  },
  {
   "cell_type": "code",
   "execution_count": null,
   "metadata": {},
   "outputs": [],
   "source": [
    "ajout_queue('port', 's')"
   ]
  },
  {
   "cell_type": "markdown",
   "metadata": {},
   "source": [
    "> **Travail à faire** : Indiquez dans la cellule ci-dessous le code permettant de stocker dans la variable *toto* la nouvelle chaîne de caractères lorsqu'on ajoute \"s\" à \"mot\""
   ]
  },
  {
   "cell_type": "code",
   "execution_count": null,
   "metadata": {},
   "outputs": [],
   "source": [
    "#--Indiquez le code Python ci-dessous, puis cliquez sur Run--#\n"
   ]
  },
  {
   "cell_type": "markdown",
   "metadata": {},
   "source": [
    "> **Travail à faire** : Vérifiez votre travail en exécutant la cellule ci-dessous"
   ]
  },
  {
   "cell_type": "code",
   "execution_count": null,
   "metadata": {},
   "outputs": [],
   "source": [
    "test_ajout_queue(ajout_queue, toto)"
   ]
  },
  {
   "cell_type": "markdown",
   "metadata": {},
   "source": [
    "---\n",
    "Enregistrez votre Notebook (voir image ci-dessous), puis déposez-le dans le casier de votre professeur\n",
    "![enregistrer](enregistrer.png)"
   ]
  }
 ],
 "metadata": {
  "kernelspec": {
   "display_name": "Python 3",
   "language": "python",
   "name": "python3"
  },
  "language_info": {
   "codemirror_mode": {
    "name": "ipython",
    "version": 3
   },
   "file_extension": ".py",
   "mimetype": "text/x-python",
   "name": "python",
   "nbconvert_exporter": "python",
   "pygments_lexer": "ipython3",
   "version": "3.9.2"
  }
 },
 "nbformat": 4,
 "nbformat_minor": 4
}
