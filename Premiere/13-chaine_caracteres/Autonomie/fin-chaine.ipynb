{
 "cells": [
  {
   "cell_type": "markdown",
   "metadata": {},
   "source": [
    "# <center> Parcours par index d'une chaîne de caractères"
   ]
  },
  {
   "cell_type": "markdown",
   "metadata": {},
   "source": [
    "> **Travail à faire** : Exécutez la cellule ci-dessous pour importer les modules necessaires"
   ]
  },
  {
   "cell_type": "code",
   "execution_count": null,
   "metadata": {},
   "outputs": [],
   "source": [
    "from solution import *"
   ]
  },
  {
   "cell_type": "markdown",
   "metadata": {},
   "source": [
    "---\n",
    "On se propose de coder une fonction $fin\\_chaine()$ prenant *chaine*, une chaîne de caractères en argument, et renvoyant la chaîne de caractères sans la première lettre.\n",
    "\n",
    "> **Travail à faire** : Exécutez la cellule ci-dessous pour voir un exemple"
   ]
  },
  {
   "cell_type": "code",
   "execution_count": null,
   "metadata": {},
   "outputs": [],
   "source": [
    "exo_fin_chaine.example(2)"
   ]
  },
  {
   "cell_type": "markdown",
   "metadata": {},
   "source": [
    "> **Travail à faire** : complétez la fonction ci-dessous, puis exécutez la."
   ]
  },
  {
   "cell_type": "code",
   "execution_count": null,
   "metadata": {},
   "outputs": [],
   "source": [
    "def fin_chaine(chaine):\n",
    "    \"\"\"renvoie la chaîne sans la première lettre\"\"\"\n",
    "    "
   ]
  },
  {
   "cell_type": "markdown",
   "metadata": {},
   "source": [
    "> **Travail à faire** : Exécutez la cellule ci-dessous pour vérifier votre travail. Si une case rouge apparaît, c'est que votre fonction n'est pas bonne. Corrigez la fonction, puis exécutez à nouveau la cellule ci-dessous jusqu'à ne faire apparaître que des cases vertes."
   ]
  },
  {
   "cell_type": "code",
   "execution_count": null,
   "metadata": {},
   "outputs": [],
   "source": [
    "exo_fin_chaine.correction(fin_chaine)"
   ]
  },
  {
   "cell_type": "markdown",
   "metadata": {},
   "source": [
    "> **Travail à faire** : Indiquez dans la cellule ci-dessous le code permettant de stocker dans la variable *toto* la fin de la chaîne \"mot\""
   ]
  },
  {
   "cell_type": "code",
   "execution_count": null,
   "metadata": {},
   "outputs": [],
   "source": [
    "#--Indiquez le code Python ci-dessous, puis cliquez sur Run--#\n"
   ]
  },
  {
   "cell_type": "markdown",
   "metadata": {},
   "source": [
    "> **Travail à faire** : Vérifiez votre travail en exécutant la cellule ci-dessous"
   ]
  },
  {
   "cell_type": "code",
   "execution_count": null,
   "metadata": {},
   "outputs": [],
   "source": [
    "test_fin_chaine(fin_chaine, toto)"
   ]
  },
  {
   "cell_type": "markdown",
   "metadata": {},
   "source": [
    "---\n",
    "On se propose de coder une fonction $milieu\\_chaine()$ prenant *chaine*, une chaîne de caractères en argument, et renvoyant la chaîne de caractères sans la première ni la dernière lettre.\n",
    "\n",
    "> **Travail à faire** : Exécutez la cellule ci-dessous pour voir un exemple"
   ]
  },
  {
   "cell_type": "code",
   "execution_count": null,
   "metadata": {},
   "outputs": [],
   "source": [
    "exo_milieu_chaine.example(2)"
   ]
  },
  {
   "cell_type": "markdown",
   "metadata": {},
   "source": [
    "> **Travail à faire** : complétez la fonction ci-dessous, puis exécutez la."
   ]
  },
  {
   "cell_type": "code",
   "execution_count": null,
   "metadata": {},
   "outputs": [],
   "source": [
    "def milieu_chaine(chaine):\n",
    "    \"\"\"renvoie la chaîne sans la dernière ni la première lettre\"\"\"\n",
    "    "
   ]
  },
  {
   "cell_type": "markdown",
   "metadata": {},
   "source": [
    "> **Travail à faire** : Exécutez la cellule ci-dessous pour vérifier votre travail. Si une case rouge apparaît, c'est que votre fonction n'est pas bonne. Corrigez la fonction, puis exécutez à nouveau la cellule ci-dessous jusqu'à ne faire apparaître que des cases vertes."
   ]
  },
  {
   "cell_type": "code",
   "execution_count": null,
   "metadata": {},
   "outputs": [],
   "source": [
    "exo_milieu_chaine.correction(milieu_chaine)"
   ]
  },
  {
   "cell_type": "markdown",
   "metadata": {},
   "source": [
    "---\n",
    "On se propose de coder une fonction $debut\\_n\\_chaine()$ prenant *chaine*, une chaîne de caractères en argument, et renvoyant les n premiers éléments de la chaîne de caractères.\n",
    "\n",
    "> **Travail à faire** : Exécutez la cellule ci-dessous pour voir un exemple"
   ]
  },
  {
   "cell_type": "code",
   "execution_count": null,
   "metadata": {},
   "outputs": [],
   "source": [
    "exo_debut_n_chaine.example(2)"
   ]
  },
  {
   "cell_type": "markdown",
   "metadata": {},
   "source": [
    "> **Travail à faire** : complétez la fonction ci-dessous, puis exécutez la."
   ]
  },
  {
   "cell_type": "code",
   "execution_count": null,
   "metadata": {},
   "outputs": [],
   "source": [
    "def debut_n_chaine(chaine, n):\n",
    "    \"\"\"renvoie les n premiers éléments de la chaîne de caractères\"\"\"\n",
    "    "
   ]
  },
  {
   "cell_type": "markdown",
   "metadata": {},
   "source": [
    "> **Travail à faire** : Exécutez la cellule ci-dessous pour vérifier votre travail. Si une case rouge apparaît, c'est que votre fonction n'est pas bonne. Corrigez la fonction, puis exécutez à nouveau la cellule ci-dessous jusqu'à ne faire apparaître que des cases vertes."
   ]
  },
  {
   "cell_type": "code",
   "execution_count": null,
   "metadata": {},
   "outputs": [],
   "source": [
    "exo_debut_n_chaine.correction(debut_n_chaine)"
   ]
  },
  {
   "cell_type": "markdown",
   "metadata": {},
   "source": [
    "---\n",
    "On se propose de coder une fonction $fin\\_n\\_chaine()$ prenant *chaine*, une chaîne de caractères en argument, et renvoyant les n derniesr éléments de la chaîne de caractères.\n",
    "\n",
    "> **Travail à faire** : Exécutez la cellule ci-dessous pour voir un exemple"
   ]
  },
  {
   "cell_type": "code",
   "execution_count": null,
   "metadata": {},
   "outputs": [],
   "source": [
    "exo_fin_n_chaine.example(2)"
   ]
  },
  {
   "cell_type": "markdown",
   "metadata": {},
   "source": [
    "> **Travail à faire** : complétez la fonction ci-dessous, puis exécutez la."
   ]
  },
  {
   "cell_type": "code",
   "execution_count": null,
   "metadata": {},
   "outputs": [],
   "source": [
    "def fin_n_chaine(chaine, n):\n",
    "    \"\"\"renvoie les n derniers éléments de la chaîne de caractères\"\"\"\n",
    "    "
   ]
  },
  {
   "cell_type": "markdown",
   "metadata": {},
   "source": [
    "> **Travail à faire** : Exécutez la cellule ci-dessous pour vérifier votre travail. Si une case rouge apparaît, c'est que votre fonction n'est pas bonne. Corrigez la fonction, puis exécutez à nouveau la cellule ci-dessous jusqu'à ne faire apparaître que des cases vertes."
   ]
  },
  {
   "cell_type": "code",
   "execution_count": null,
   "metadata": {},
   "outputs": [],
   "source": [
    "exo_fin_n_chaine.correction(fin_n_chaine)"
   ]
  },
  {
   "cell_type": "markdown",
   "metadata": {},
   "source": [
    "---\n",
    "On se propose de coder une fonction $milieu\\_n\\_chaine()$ prenant *chaine*, une chaîne de caractères en argument, et renvoyant la chaîne de caractères sans les n1 premières ni les n2 dernières lettres.\n",
    "\n",
    "> **Travail à faire** : Exécutez la cellule ci-dessous pour voir un exemple"
   ]
  },
  {
   "cell_type": "code",
   "execution_count": null,
   "metadata": {},
   "outputs": [],
   "source": [
    "exo_milieu_n_chaine.example(2)"
   ]
  },
  {
   "cell_type": "markdown",
   "metadata": {},
   "source": [
    "> **Travail à faire** : complétez la fonction ci-dessous, puis exécutez la."
   ]
  },
  {
   "cell_type": "code",
   "execution_count": null,
   "metadata": {},
   "outputs": [],
   "source": [
    "def milieu_n_chaine(chaine, n1, n2):\n",
    "    \"\"\"renvoie la chaîne sans les n1 premiers caractères et les n2 derniers caractères\"\"\"\n",
    "    "
   ]
  },
  {
   "cell_type": "markdown",
   "metadata": {},
   "source": [
    "> **Travail à faire** : Exécutez la cellule ci-dessous pour vérifier votre travail. Si une case rouge apparaît, c'est que votre fonction n'est pas bonne. Corrigez la fonction, puis exécutez à nouveau la cellule ci-dessous jusqu'à ne faire apparaître que des cases vertes."
   ]
  },
  {
   "cell_type": "code",
   "execution_count": null,
   "metadata": {},
   "outputs": [],
   "source": [
    "exo_milieu_n_chaine.correction(milieu_n_chaine)"
   ]
  },
  {
   "cell_type": "markdown",
   "metadata": {},
   "source": [
    "---\n",
    "Enregistrez votre Notebook (voir image ci-dessous), puis déposez-le dans le casier de votre professeur\n",
    "![enregistrer](enregistrer.png)"
   ]
  },
  {
   "cell_type": "code",
   "execution_count": null,
   "metadata": {},
   "outputs": [],
   "source": []
  },
  {
   "cell_type": "code",
   "execution_count": null,
   "metadata": {},
   "outputs": [],
   "source": []
  },
  {
   "cell_type": "code",
   "execution_count": null,
   "metadata": {},
   "outputs": [],
   "source": []
  }
 ],
 "metadata": {
  "kernelspec": {
   "display_name": "Python 3",
   "language": "python",
   "name": "python3"
  },
  "language_info": {
   "codemirror_mode": {
    "name": "ipython",
    "version": 3
   },
   "file_extension": ".py",
   "mimetype": "text/x-python",
   "name": "python",
   "nbconvert_exporter": "python",
   "pygments_lexer": "ipython3",
   "version": "3.9.2"
  }
 },
 "nbformat": 4,
 "nbformat_minor": 4
}
