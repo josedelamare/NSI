{
 "cells": [
  {
   "cell_type": "markdown",
   "metadata": {},
   "source": [
    "# Les chaînes de caractères\n",
    "\n",
    "*(d'après http://www.fil.univ-lille1.fr/~wegrzyno/portail/Info/Doc/HTML/seq4_chaines_caracteres.html)*"
   ]
  },
  {
   "cell_type": "markdown",
   "metadata": {},
   "source": [
    "Exécutez la cellule ci-dessous pour importer les modules nécessaires"
   ]
  },
  {
   "cell_type": "code",
   "execution_count": null,
   "metadata": {},
   "outputs": [],
   "source": [
    "from metakernel import register_ipython_magics\n",
    "register_ipython_magics()"
   ]
  },
  {
   "cell_type": "markdown",
   "metadata": {},
   "source": [
    "---\n",
    "Les chaînes de caractères (suites de symboles quelconques) permettent de manipuler des mots, des phrases, des messages.\n",
    "\n",
    "Une chaîne de caractères en langage python se note entre quotes doubles ou entre quotes simples. \n",
    "\n",
    "Le code suivant permet d'indiquer que la variable `ma_chaine` contient la chaîne de caractères : je suis un oeuf"
   ]
  },
  {
   "cell_type": "code",
   "execution_count": null,
   "metadata": {},
   "outputs": [],
   "source": [
    "ma_chaine = \"je suis un oeuf\""
   ]
  },
  {
   "cell_type": "markdown",
   "metadata": {},
   "source": [
    "On peut le vérifier en demandant d'afficher le contenu de la variable `ma_chaine`. \n",
    "\n",
    ">*cliquez sur `Run` pour exécuter le code suivant :*"
   ]
  },
  {
   "cell_type": "code",
   "execution_count": null,
   "metadata": {},
   "outputs": [],
   "source": [
    "print(ma_chaine)"
   ]
  },
  {
   "cell_type": "markdown",
   "metadata": {},
   "source": [
    "## 1. Le type *string*"
   ]
  },
  {
   "cell_type": "markdown",
   "metadata": {},
   "source": [
    "Les chaînes de caractères sont des objets appartenant à la classe string, symbolisé par str.  \n",
    ">*Pour le vérifier, exécutez le code suivant :*"
   ]
  },
  {
   "cell_type": "code",
   "execution_count": null,
   "metadata": {},
   "outputs": [],
   "source": [
    "type(ma_chaine)"
   ]
  },
  {
   "cell_type": "markdown",
   "metadata": {},
   "source": [
    "***\n",
    "## 2. Les opérations de base\n",
    "\n",
    "### 2.1. nombre de caractères d'une chaîne\n",
    "\n",
    "On peut déterminer le nombre de caractères d'une chaîne en faisant appel à la fonction intégrée len() :"
   ]
  },
  {
   "cell_type": "markdown",
   "metadata": {},
   "source": [
    "Combien de lettres contient le mot \"cocorico\" ?"
   ]
  },
  {
   "cell_type": "code",
   "execution_count": null,
   "metadata": {},
   "outputs": [],
   "source": [
    "# indiquez votre réponse ci-dessous, sans cliquer sur Run\n",
    "#\n",
    "#"
   ]
  },
  {
   "cell_type": "markdown",
   "metadata": {},
   "source": [
    "> *Pour le vérifier, exécutez le code suivant*"
   ]
  },
  {
   "cell_type": "code",
   "execution_count": null,
   "metadata": {},
   "outputs": [],
   "source": [
    "ma_chaine = \"cocorico\"\n",
    "print(len(ma_chaine))"
   ]
  },
  {
   "cell_type": "markdown",
   "metadata": {},
   "source": [
    "### 2.2. concaténation de deux chaînes\n",
    "\n",
    "L'opération d'assembler plusieurs petites chaînes pour en construire une plus grande s'appelle concaténation et on la réalise sous Python à l'aide de l'opérateur \"+\".  \n",
    "\n",
    "> *Pour le vérifier, exécutez le code suivant*"
   ]
  },
  {
   "cell_type": "code",
   "execution_count": null,
   "metadata": {},
   "outputs": [],
   "source": [
    "a = 'Petit poisson'\n",
    "b = ' deviendra grand'\n",
    "print(a+b)"
   ]
  },
  {
   "cell_type": "markdown",
   "metadata": {},
   "source": [
    "> **Travail à faire** : Indiquez ci-dessous le code permettant de mettre dans une variable *mon_mot* la concaténation de *a* et de *b*"
   ]
  },
  {
   "cell_type": "code",
   "execution_count": null,
   "metadata": {},
   "outputs": [],
   "source": [
    "# indiquez votre code ci-dessous, puis cliquez sur Run\n"
   ]
  },
  {
   "cell_type": "markdown",
   "metadata": {},
   "source": [
    "> **Travail à faire** : Indiquez ci-dessous le code permettant d'afficher le contenu de la variable *mon_mot*"
   ]
  },
  {
   "cell_type": "code",
   "execution_count": null,
   "metadata": {
    "tags": []
   },
   "outputs": [],
   "source": [
    "# indiquez votre code ci-dessous, puis cliquez sur Run\n"
   ]
  },
  {
   "cell_type": "markdown",
   "metadata": {},
   "source": [
    "### 2.3. la répétition d'une chaîne\n",
    "\n",
    "L’opérateur de répétition d’une chaîne est désignée par le symbole *.  \n",
    "\n",
    "> *Pour le vérifier, exécutez le code suivant*"
   ]
  },
  {
   "cell_type": "code",
   "execution_count": null,
   "metadata": {},
   "outputs": [],
   "source": [
    "ma_chaine = \" couroucoucou \"\n",
    "print(ma_chaine*3)"
   ]
  },
  {
   "cell_type": "markdown",
   "metadata": {},
   "source": [
    "> **Travail à faire** : Indiquez ci-dessous le code permettant de mettre dans une variable *mon_mot* la répétition de 5 fois *ma_chaine*"
   ]
  },
  {
   "cell_type": "code",
   "execution_count": null,
   "metadata": {},
   "outputs": [],
   "source": [
    "# indiquez votre code ci-dessous, puis cliquez sur Run\n"
   ]
  },
  {
   "cell_type": "markdown",
   "metadata": {},
   "source": [
    "> **Travail à faire** : Indiquez ci-dessous le code permettant d'afficher le contenu de la variable *mon_mot*"
   ]
  },
  {
   "cell_type": "code",
   "execution_count": null,
   "metadata": {
    "tags": []
   },
   "outputs": [],
   "source": [
    "# indiquez votre code ci-dessous, puis cliquez sur Run\n"
   ]
  },
  {
   "cell_type": "markdown",
   "metadata": {},
   "source": [
    "### 2.4. égalité de deux chaînes\n",
    "\n",
    "Deux chaînes de caractères sont égales si elles ont même longueur et les mêmes caractères dans le même ordre. Dans le cas contraire elles sont différentes.\n",
    "\n",
    "Les opérateurs de comparaison égalité et différence de chaînes sont les mêmes que pour tous les autres types, on utilise les symboles == et !=."
   ]
  },
  {
   "cell_type": "code",
   "execution_count": null,
   "metadata": {},
   "outputs": [],
   "source": [
    "\"abc\" == 'abc'"
   ]
  },
  {
   "cell_type": "code",
   "execution_count": null,
   "metadata": {},
   "outputs": [],
   "source": [
    "\"abc\" == \"ABC\""
   ]
  },
  {
   "cell_type": "markdown",
   "metadata": {},
   "source": [
    "> **Travail à faire** : Complétez ci-dessous le code permettant de tester l'égalité du contenu des variables *toto* et *tata*"
   ]
  },
  {
   "cell_type": "code",
   "execution_count": null,
   "metadata": {},
   "outputs": [],
   "source": [
    "toto = 'japon'\n",
    "tata = 'JAPON'\n",
    "# indiquez votre code ci-dessous, puis cliquez sur Run\n"
   ]
  },
  {
   "cell_type": "markdown",
   "metadata": {},
   "source": [
    "### 2.5. ordre de deux chaînes\n",
    "\n",
    "Il existe une relation d’ordre naturel pour les chaînes de caractères : l’ordre lexicographique.\n",
    "\n",
    "L’ordre lexicographique est une extension de l’ordre que nous connaissons tous, celui utilisé par les dictionnaires : l’ordre alphabétique qui repose sur l’ordre des lettres dans l’alphabet.\n",
    "\n",
    "Par exemple bonjour est placé avant salut dans le dictionnaire, donc l’expression booléenne `\"bonjour\" < \"salut\"` est vraie."
   ]
  },
  {
   "cell_type": "code",
   "execution_count": null,
   "metadata": {},
   "outputs": [],
   "source": [
    "\"bonjour\" < \"salut\""
   ]
  },
  {
   "cell_type": "markdown",
   "metadata": {},
   "source": [
    "> **Travail à faire** : Indiquez le code permettant de savoir si \"raplapla\" se situe avant \"rantanplan\" dans l'ordre lexicographique."
   ]
  },
  {
   "cell_type": "code",
   "execution_count": null,
   "metadata": {},
   "outputs": [],
   "source": [
    "# Indiquez ci-dessous votre code, puis cliquez sur Run\n"
   ]
  },
  {
   "cell_type": "markdown",
   "metadata": {},
   "source": [
    "***\n",
    "## 3. Le parcours d'une chaîne de caractères\n",
    "\n",
    "### 3.1. Indexation d'une chaîne\n",
    "\n",
    "Une chaîne étant une séquence ordonnée de caractères, on peut s'y référer par les indices de ces caractères. Ainsi, chaque caractère est accessible directement par son index ou indice.  \n",
    "\n",
    "Python offre une méthode simple pour accéder aux caractères contenus dans une chaîne: une chaîne est manipulée comme une séquence indexée de caractères. Le premier caractère (le plus à gauche) d’une chaîne de longueur n\n",
    "a pour indice 0 et le dernier l’indice n−1.  \n",
    "\n",
    "L’indice est mis entre crochets.\n",
    "\n",
    "![indice d'une chaîne de caractères](https://enacit1.epfl.ch/introduction-python/fig/chaine.png)  \n",
    "\n",
    "L’indice peut être négatif. Dans ce cas, il désigne un caractère repéré depuis la fin de la chaîne. Ainsi, chaine[-1] renvoit le caractère 'e'.\n",
    "\n",
    "Le type chaîne, sous Python, est **immutable**. Les chaînes ne sont donc à proprement parler pas modifiables : les opérations de modification entraînent la création de nouvelles chaînes.\n",
    "\n"
   ]
  },
  {
   "cell_type": "code",
   "execution_count": null,
   "metadata": {},
   "outputs": [],
   "source": [
    "ma_chaine = \"je suis un oeuf\"\n",
    "print(ma_chaine[0])"
   ]
  },
  {
   "cell_type": "markdown",
   "metadata": {},
   "source": [
    "Indiquez dans la cellule ci-dessous le code Python permettant d'afficher le caractère 'i'"
   ]
  },
  {
   "cell_type": "code",
   "execution_count": null,
   "metadata": {},
   "outputs": [],
   "source": [
    "# Indiquez ci-dessous votre code, puis cliquez sur Run\n"
   ]
  },
  {
   "cell_type": "markdown",
   "metadata": {},
   "source": [
    "### 3.2. Non mutablilité d'une chaîne de caractères\n",
    "\n",
    "Le type chaîne, sous Python, est **immutable**. Les chaînes ne sont donc à proprement parler pas modifiables."
   ]
  },
  {
   "cell_type": "markdown",
   "metadata": {},
   "source": [
    "> **Travail à faire** : Exécutez la cellule ci-dessous tentant d'affecter la valeur 'J' en première position de la variable *ma_chaine*"
   ]
  },
  {
   "cell_type": "code",
   "execution_count": null,
   "metadata": {},
   "outputs": [],
   "source": [
    "ma_chaine = \"je suis un oeuf\"\n",
    "ma_chaine[0] = 'J'"
   ]
  },
  {
   "cell_type": "code",
   "execution_count": null,
   "metadata": {},
   "outputs": [],
   "source": []
  },
  {
   "cell_type": "markdown",
   "metadata": {},
   "source": [
    "### 3.3. Le parcours d'une chaîne\n",
    "\n",
    "De nombreux problèmes sur les chaînes de caractères nécessitent de parcourir l’intégralité de la chaîne afin d’obtenir la réponse à un problème donné.\n",
    "\n",
    "> **Travail à faire** : Exécutez la cellule ci-dessous, déroulez toutes les opérations (bouton Next) et observez le résultat :"
   ]
  },
  {
   "cell_type": "code",
   "execution_count": null,
   "metadata": {},
   "outputs": [],
   "source": [
    "%%tutor\n",
    "def parcours(chaine):\n",
    "    longueur = len(chaine)\n",
    "    for i in range (0, longueur, 1):\n",
    "        print(chaine[i])\n",
    "\n",
    "parcours(\"je chante\")"
   ]
  },
  {
   "cell_type": "markdown",
   "metadata": {},
   "source": [
    "<span font style='color:red'>**Enregistrez ce fichier**"
   ]
  }
 ],
 "metadata": {
  "kernelspec": {
   "display_name": "Python 3",
   "language": "python",
   "name": "python3"
  },
  "language_info": {
   "codemirror_mode": {
    "name": "ipython",
    "version": 3
   },
   "file_extension": ".py",
   "mimetype": "text/x-python",
   "name": "python",
   "nbconvert_exporter": "python",
   "pygments_lexer": "ipython3",
   "version": "3.9.2"
  }
 },
 "nbformat": 4,
 "nbformat_minor": 4
}
