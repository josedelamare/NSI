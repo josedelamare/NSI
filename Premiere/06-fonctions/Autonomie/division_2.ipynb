{
 "cells": [
  {
   "cell_type": "markdown",
   "metadata": {},
   "source": [
    "# <center>Les fonctions - Division ![niveau1](../../../IMG/niveau2.png)</center>"
   ]
  },
  {
   "cell_type": "markdown",
   "metadata": {},
   "source": [
    "Indiquez votre nom et votre prénom dans la cellule ci-dessous :"
   ]
  },
  {
   "cell_type": "code",
   "execution_count": null,
   "metadata": {},
   "outputs": [],
   "source": [
    "# Nom : "
   ]
  },
  {
   "cell_type": "markdown",
   "metadata": {},
   "source": [
    "---\n",
    ">**Travail à faire** : Exécutez la cellule ci-dessous pour importer les modules nécessaires"
   ]
  },
  {
   "cell_type": "code",
   "execution_count": null,
   "metadata": {},
   "outputs": [],
   "source": [
    "from doctest import run_docstring_examples\n",
    "\n",
    "def test_assertion():\n",
    "    try:\n",
    "        assert (division(3, 0))\n",
    "        print(f\"les tests ont échoués. Il y a une division par 0\")\n",
    "    except(AssertionError):\n",
    "        print(\"l'assertion est efficace\")\n",
    "    return run_docstring_examples(division, globals(), verbose = True)"
   ]
  },
  {
   "cell_type": "markdown",
   "metadata": {
    "tags": []
   },
   "source": [
    "---\n",
    "On souhaite écrire une fonction *division()* qui prend en entrée deux entiers *a* et *b*, et qui renvoie la valeur de $\\dfrac{1}{a + \\frac{1}{b}}$. **Si et uniquement si** $a + \\dfrac{1}{b}$ est nul, il faudra alors calculer $\\dfrac{1}{a - \\frac{1}{b}}$. \n",
    "\n",
    "Par exemple, \n",
    "```python\n",
    ">>> division(3, 1)\n",
    "```\n",
    "renvoie\n",
    "```python\n",
    "0.25\n",
    "```\n",
    "et\n",
    "```python\n",
    ">>> division(3, -1)\n",
    "```\n",
    "renvoie\n",
    "```python\n",
    "0.25\n",
    "```"
   ]
  },
  {
   "cell_type": "markdown",
   "metadata": {},
   "source": [
    "> **Travail à faire** : Complétez la fonction *division()* ci-dessous, **en ajoutant une pré-condition (sous la forme d'une assertion) pour éviter la division par 0** :"
   ]
  },
  {
   "cell_type": "code",
   "execution_count": null,
   "metadata": {},
   "outputs": [],
   "source": [
    "def division(a, b):\n",
    "    \"\"\"\n",
    "    renvoie le calcul demandé\n",
    "    Entrée : a et b, des nombres (réels ou entiers)\n",
    "    Sortie : resultat, un nombre\n",
    "    Exemple :\n",
    "    >>> division(2, 0.5)\n",
    "    0.25\n",
    "    >>> division(2, -0.5)\n",
    "    0.25\n",
    "    >>> division(1, -1)\n",
    "    0.5\n",
    "    >>> division(1, 1)\n",
    "    0.5\n",
    "    \"\"\"\n",
    "    ##--Indiquez le code Python, puis cliquez sur Run--##\n",
    "    "
   ]
  },
  {
   "cell_type": "markdown",
   "metadata": {},
   "source": [
    "> **Travail à faire** : Vérifiez votre code en exécutant la cellule ci-dessous"
   ]
  },
  {
   "cell_type": "code",
   "execution_count": null,
   "metadata": {},
   "outputs": [],
   "source": [
    "test_assertion()"
   ]
  },
  {
   "cell_type": "markdown",
   "metadata": {},
   "source": [
    "---\n",
    "Enregistrez votre Notebook (voir image ci-dessous), puis déposez-le dans le casier de votre professeur.\n",
    "\n",
    "![enregistrer](../../../IMG/enregistrer.png)"
   ]
  },
  {
   "cell_type": "markdown",
   "metadata": {},
   "source": [
    "Déposez votre notebook dans le casier de votre professeur"
   ]
  }
 ],
 "metadata": {
  "kernelspec": {
   "display_name": "Python 3",
   "language": "python",
   "name": "python3"
  },
  "language_info": {
   "codemirror_mode": {
    "name": "ipython",
    "version": 3
   },
   "file_extension": ".py",
   "mimetype": "text/x-python",
   "name": "python",
   "nbconvert_exporter": "python",
   "pygments_lexer": "ipython3",
   "version": "3.9.2"
  }
 },
 "nbformat": 4,
 "nbformat_minor": 4
}
