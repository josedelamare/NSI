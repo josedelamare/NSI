{
 "cells": [
  {
   "cell_type": "markdown",
   "metadata": {},
   "source": [
    "# <center>Les fonctions - Surface d'un quadrilatère ou d'un disque ![niveau1](../../../IMG/niveau2.png)</center>"
   ]
  },
  {
   "cell_type": "markdown",
   "metadata": {},
   "source": [
    "Indiquez votre nom et votre prénom dans la cellule ci-dessous :"
   ]
  },
  {
   "cell_type": "code",
   "execution_count": null,
   "metadata": {},
   "outputs": [],
   "source": [
    "# Nom : "
   ]
  },
  {
   "cell_type": "markdown",
   "metadata": {},
   "source": [
    "---\n",
    ">**Travail à faire** : Exécutez la cellule ci-dessous pour importer les modules nécessaires"
   ]
  },
  {
   "cell_type": "code",
   "execution_count": null,
   "metadata": {},
   "outputs": [],
   "source": [
    "import doctest"
   ]
  },
  {
   "cell_type": "markdown",
   "metadata": {},
   "source": [
    "---\n",
    "On souhaite écrire une fonction *surface_rectangle()* prenant *longueur* et *largeur* en argument, et renvoyant la surface d'un rectangle. Par exemple, \n",
    "```python\n",
    ">>> surface_rectangle(4, 2)\n",
    "```\n",
    "renvoie\n",
    "```python\n",
    "8\n",
    "```"
   ]
  },
  {
   "cell_type": "markdown",
   "metadata": {},
   "source": [
    "> **Travail à faire** : Complétez la fonction *surface_rectangle()* ci-dessous :"
   ]
  },
  {
   "cell_type": "code",
   "execution_count": null,
   "metadata": {},
   "outputs": [],
   "source": [
    "def surface_rectangle(longueur, largeur):\n",
    "    \"\"\"\n",
    "    renvoie la surface d'un rectangle\n",
    "    Entrée : longueur, largeur, des nombres (entiers ou réels)\n",
    "    Sortie : surface, un nomb re (entier ou réel)\n",
    "    Exemple :\n",
    "    >>> surface_rectangle(4, 2)\n",
    "    8\n",
    "    \"\"\"\n",
    "    \n",
    "    ##--Indiquez le code Python, puis cliquez sur Run--##\n",
    "    "
   ]
  },
  {
   "cell_type": "markdown",
   "metadata": {},
   "source": [
    "> **Travail à faire** : Vérifiez votre code en exécutant la cellule ci-dessous. "
   ]
  },
  {
   "cell_type": "code",
   "execution_count": null,
   "metadata": {},
   "outputs": [],
   "source": [
    "doctest.run_docstring_examples(surface_rectangle, globals(), verbose= True)"
   ]
  },
  {
   "cell_type": "markdown",
   "metadata": {},
   "source": [
    "---\n",
    "On souhaite écrire une fonction *surface_carre()* prenant *cote* e, et renvoyant la surface d'un carré. Par exemple, \n",
    "```python\n",
    ">>> surface_carre(4)\n",
    "```\n",
    "renvoie\n",
    "```python\n",
    "16\n",
    "```"
   ]
  },
  {
   "cell_type": "markdown",
   "metadata": {},
   "source": [
    "> **Travail à faire** : Complétez la fonction *surface_carre()* ci-dessous :"
   ]
  },
  {
   "cell_type": "code",
   "execution_count": null,
   "metadata": {},
   "outputs": [],
   "source": [
    "def surface_carre(cote):\n",
    "    \"\"\"\n",
    "    renvoie la surface d'un carre\n",
    "    Entrée : cote, un nombre (entier ou réel)\n",
    "    Sortie : surface, un nombre (entier ou réel)\n",
    "    Exemple :\n",
    "    >>> surface_carre(4)\n",
    "    16\n",
    "    \"\"\"\n",
    "    \n",
    "    ##--Indiquez le code Python, puis cliquez sur Run--##\n",
    "    "
   ]
  },
  {
   "cell_type": "markdown",
   "metadata": {},
   "source": [
    "> **Travail à faire** : Vérifiez votre code en exécutant la cellule ci-dessous. "
   ]
  },
  {
   "cell_type": "code",
   "execution_count": null,
   "metadata": {},
   "outputs": [],
   "source": [
    "doctest.run_docstring_examples(surface_carre, globals(), verbose= True)"
   ]
  },
  {
   "cell_type": "markdown",
   "metadata": {},
   "source": [
    "---\n",
    "On souhaite écrire une fonction *surface_disque()* prenant *rayon*, et renvoyant la surface d'un disque. Par exemple, \n",
    "```python\n",
    ">>> surface_disque(1)\n",
    "```\n",
    "renvoie\n",
    "```python\n",
    "3.141592653589793\n",
    "```\n",
    "**Aide à la résolution** : le nombre $\\pi$ est disponible dans la bibliothèque [math](https://www.w3schools.com/python/ref_math_pi.asp) par l'instruction :\n",
    "```python\n",
    "math.pi\n",
    "```"
   ]
  },
  {
   "cell_type": "markdown",
   "metadata": {},
   "source": [
    "> **Travail à faire** : Complétez la fonction *surface_disque()* ci-dessous :"
   ]
  },
  {
   "cell_type": "code",
   "execution_count": null,
   "metadata": {},
   "outputs": [],
   "source": [
    "def surface_disque(longueur, largeur):\n",
    "    \"\"\"\n",
    "    renvoie la surface d'un rectangle\n",
    "    Entrée : longueur, largeur, des nombres (entiers ou réels)\n",
    "    Sortie : surface, un nombre (entier ou réel)\n",
    "    Exemple :\n",
    "    >>> surface_disque(1)\n",
    "    3.141592653589793\n",
    "    >>> surface_disque(2)\n",
    "    12.566370614359172\n",
    "    \"\"\"\n",
    "    \n",
    "    ##--Indiquez le code Python, puis cliquez sur Run--##\n",
    "    "
   ]
  },
  {
   "cell_type": "markdown",
   "metadata": {},
   "source": [
    "> **Travail à faire** : Vérifiez votre code en exécutant la cellule ci-dessous. "
   ]
  },
  {
   "cell_type": "code",
   "execution_count": null,
   "metadata": {},
   "outputs": [],
   "source": [
    "doctest.run_docstring_examples(surface_disque, globals(), verbose= True)"
   ]
  },
  {
   "cell_type": "markdown",
   "metadata": {},
   "source": [
    "---\n",
    "La fonction `print()` permet d'afficher du texte ainsi que le contenu d'une variable. Pour cela, on utilise la structure suivante : \n",
    "```python\n",
    "print(f'début de mon texte {ma_variable} fin de mon texte')\n",
    "```"
   ]
  },
  {
   "cell_type": "markdown",
   "metadata": {},
   "source": [
    "> **Travail à faire** : exécutez la cellule suivante pour voir un exemple"
   ]
  },
  {
   "cell_type": "code",
   "execution_count": null,
   "metadata": {},
   "outputs": [],
   "source": [
    "mon_nom = 'Picsou'\n",
    "mon_age = 54\n",
    "print(f'Bonjour {mon_nom}. Vous avez {mon_age} ans.')"
   ]
  },
  {
   "cell_type": "markdown",
   "metadata": {},
   "source": [
    "---\n",
    "On souhaite écrire une suite d'instructions qui :\n",
    "- demande de choisir la nature de la figure géométrique, \n",
    "- demande ensuite la valeur de la grandeur caractéristique,\n",
    "- affiche la surface de cette figure sous la forme\n",
    "```python\n",
    "'la surface de ce rectangle est de 25 mètres carrés'\n",
    "```\n",
    "Cette suite d'instructions utilisera notamment les fonctions codées précédemment."
   ]
  },
  {
   "cell_type": "markdown",
   "metadata": {},
   "source": [
    "> **Travail à faire** : Indiquez cette suite d'instruction ci-dessous :"
   ]
  },
  {
   "cell_type": "code",
   "execution_count": null,
   "metadata": {},
   "outputs": [],
   "source": [
    " ##--Indiquez le code Python, puis cliquez sur Run--##\n",
    "    "
   ]
  },
  {
   "cell_type": "markdown",
   "metadata": {},
   "source": [
    "---\n",
    "Enregistrez votre Notebook (voir image ci-dessous), puis déposez-le dans le casier de votre professeur.\n",
    "\n",
    "![enregistrer](../../../IMG/enregistrer.png)"
   ]
  },
  {
   "cell_type": "markdown",
   "metadata": {},
   "source": [
    "Déposez votre notebook dans le casier de votre professeur"
   ]
  }
 ],
 "metadata": {
  "kernelspec": {
   "display_name": "Python 3",
   "language": "python",
   "name": "python3"
  },
  "language_info": {
   "codemirror_mode": {
    "name": "ipython",
    "version": 3
   },
   "file_extension": ".py",
   "mimetype": "text/x-python",
   "name": "python",
   "nbconvert_exporter": "python",
   "pygments_lexer": "ipython3",
   "version": "3.9.2"
  }
 },
 "nbformat": 4,
 "nbformat_minor": 4
}
