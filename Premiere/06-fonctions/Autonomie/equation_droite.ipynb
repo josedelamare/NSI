{
 "cells": [
  {
   "cell_type": "markdown",
   "metadata": {},
   "source": [
    "# <center>Les fonctions - Equation d'une droite ![niveau1](../../../IMG/niveau1.png)</center>"
   ]
  },
  {
   "cell_type": "markdown",
   "metadata": {},
   "source": [
    "Indiquez votre nom et votre prénom dans la cellule ci-dessous :"
   ]
  },
  {
   "cell_type": "code",
   "execution_count": null,
   "metadata": {},
   "outputs": [],
   "source": [
    "# Nom : "
   ]
  },
  {
   "cell_type": "markdown",
   "metadata": {},
   "source": [
    "---\n",
    ">**Travail à faire** : Exécutez la cellule ci-dessous pour importer les modules nécessaires"
   ]
  },
  {
   "cell_type": "code",
   "execution_count": null,
   "metadata": {},
   "outputs": [],
   "source": [
    "import doctest"
   ]
  },
  {
   "cell_type": "markdown",
   "metadata": {},
   "source": [
    "---\n",
    "On souhaite écrire une fonction *equation_droite()* qui prend en entrée un entier *x_A,y_A, x_B* et *y_B* (les coordonnées de deux points A et B, et qui renvoie la valeur du coefficient directeur et de l'ordonnée à l'origine de la droite passant par ces points.\n",
    "\n",
    "Par exemple, \n",
    "```python\n",
    ">>> equation_droite(1, 2, 4, 5)\n",
    "```\n",
    "renvoie\n",
    "```python\n",
    "(1.0, 1.0)\n",
    "```\n",
    "et\n",
    "```python\n",
    ">>> equation_droite(0, 0, 4, 4)\n",
    "```\n",
    "renvoie\n",
    "```python\n",
    "(1.0, 0.0)\n",
    "```\n",
    "\n",
    "**Rappels** : le coefficient directeur est donné par l'expression $a = \\frac{y_B - y_A}{x_B - x_A}$ et que l'ordonnée à l'origine est donnée par $b = y_B - a.x_A$"
   ]
  },
  {
   "cell_type": "markdown",
   "metadata": {},
   "source": [
    "> **Travail à faire** : Complétez la fonction *division()* ci-dessous"
   ]
  },
  {
   "cell_type": "code",
   "execution_count": null,
   "metadata": {},
   "outputs": [],
   "source": [
    "def equation_droite(x_A, y_A, x_B, y_B):\n",
    "    \"\"\"\n",
    "    renvoie le coefficient directeur et l'ordonnée à l'origine de la droite passant par A et B\n",
    "    Entrée : \n",
    "        x_A, y_A : des nombres (les coordonnées du point A)\n",
    "        x_B, y_B : des nombres (les coordonnées du point B)\n",
    "    Sortie : \n",
    "        a : float (le coefficient directeur)\n",
    "        b : float (l'ordonnée à l'origine)\n",
    "            \n",
    "    Exemple :\n",
    "    >>> equation_droite(1, 2, 4, 5)\n",
    "    (1.0, 1.0)\n",
    "    >>> equation_droite(0, 0, 4, 4)\n",
    "    (1.0, 0.0)\n",
    "    \"\"\"\n",
    "    ##--Indiquez le code Python, puis cliquez sur Run--##\n",
    "\n",
    "    "
   ]
  },
  {
   "cell_type": "markdown",
   "metadata": {},
   "source": [
    "> **Travail à faire** : Vérifiez votre code en exécutant les deux cellules ci-dessous. "
   ]
  },
  {
   "cell_type": "code",
   "execution_count": null,
   "metadata": {},
   "outputs": [],
   "source": [
    "doctest.run_docstring_examples(equation_droite, globals(), verbose= True)"
   ]
  },
  {
   "cell_type": "markdown",
   "metadata": {},
   "source": [
    "---\n",
    "Enregistrez votre Notebook (voir image ci-dessous), puis déposez-le dans le casier de votre professeur.\n",
    "\n",
    "![enregistrer](../../../IMG/enregistrer.png)"
   ]
  },
  {
   "cell_type": "markdown",
   "metadata": {},
   "source": [
    "Déposez votre notebook dans le casier de votre professeur"
   ]
  }
 ],
 "metadata": {
  "kernelspec": {
   "display_name": "Python 3",
   "language": "python",
   "name": "python3"
  },
  "language_info": {
   "codemirror_mode": {
    "name": "ipython",
    "version": 3
   },
   "file_extension": ".py",
   "mimetype": "text/x-python",
   "name": "python",
   "nbconvert_exporter": "python",
   "pygments_lexer": "ipython3",
   "version": "3.9.2"
  }
 },
 "nbformat": 4,
 "nbformat_minor": 4
}
