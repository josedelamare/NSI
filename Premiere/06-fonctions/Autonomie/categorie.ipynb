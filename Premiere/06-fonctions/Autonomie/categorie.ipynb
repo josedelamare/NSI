{
 "cells": [
  {
   "cell_type": "markdown",
   "metadata": {},
   "source": [
    "# <center>Les fonctions - Catégories ![niveau1](../../../IMG/niveau1.png)</center>"
   ]
  },
  {
   "cell_type": "markdown",
   "metadata": {},
   "source": [
    "Indiquez votre nom et votre prénom dans la cellule ci-dessous :"
   ]
  },
  {
   "cell_type": "code",
   "execution_count": null,
   "metadata": {},
   "outputs": [],
   "source": [
    "# Nom : "
   ]
  },
  {
   "cell_type": "markdown",
   "metadata": {},
   "source": [
    "---\n",
    ">**Travail à faire** : Exécutez la cellule ci-dessous pour importer les modules nécessaires"
   ]
  },
  {
   "cell_type": "code",
   "execution_count": null,
   "metadata": {},
   "outputs": [],
   "source": [
    "import doctest"
   ]
  },
  {
   "cell_type": "markdown",
   "metadata": {},
   "source": [
    "---\n",
    "Dans une école de Rugby, il y a quatre groupes :\n",
    "\n",
    "- le groupe U8 pour les joueurs entre 8 ans inclus et 10 ans exclus ;\n",
    "- le groupe U10 pour les joueurs entre 10 ans inclus et 12 ans exclus ;\n",
    "- le groupe U12 pour les joueurs entre 12 ans inclus et 14 ans exclus ;\n",
    "- le groupe U14 pour les joueurs entre 14 ans inclus et 16 ans exclus.\n",
    "\n",
    "On souhaite écrire une fonction *catégorie()* qui prend en entrée un entier *age* , et qui renvoie la catégorie du joueur ('U8', 'U10, 'U12' ou 'U14')\n",
    "\n",
    "Par exemple, \n",
    "```python\n",
    ">>> categorie(8)\n",
    "```\n",
    "renvoie\n",
    "```python\n",
    "'U8'\n",
    "```\n",
    "et\n",
    "```python\n",
    ">>> categorie(10)\n",
    "```\n",
    "renvoie\n",
    "```python\n",
    "'U10'\n",
    "```"
   ]
  },
  {
   "cell_type": "markdown",
   "metadata": {},
   "source": [
    "> **Travail à faire** : Complétez la fonction *categorie()* ci-dessous"
   ]
  },
  {
   "cell_type": "code",
   "execution_count": null,
   "metadata": {},
   "outputs": [],
   "source": [
    "def categorie(age):\n",
    "    \"\"\"\n",
    "    renvoie la catégorie du joueur\n",
    "    Entrée : \n",
    "        age : un entier, l'âge du joueur\n",
    "    Sortie : \n",
    "        cat : une chaîne de caractères\n",
    "            \n",
    "    Exemple :\n",
    "    >>> categorie(8)\n",
    "    'U8'\n",
    "    >>> categorie(9)\n",
    "    'U8'\n",
    "    >>> categorie(10)\n",
    "    'U10'\n",
    "    \"\"\"\n",
    "    ##--Indiquez le code Python, puis cliquez sur Run--##\n",
    "\n",
    "    "
   ]
  },
  {
   "cell_type": "markdown",
   "metadata": {},
   "source": [
    "> **Travail à faire** : Vérifiez votre code en exécutant les deux cellules ci-dessous. "
   ]
  },
  {
   "cell_type": "code",
   "execution_count": null,
   "metadata": {},
   "outputs": [],
   "source": [
    "doctest.run_docstring_examples(categorie, globals(), verbose= True)"
   ]
  },
  {
   "cell_type": "markdown",
   "metadata": {},
   "source": [
    "---\n",
    "Enregistrez votre Notebook (voir image ci-dessous), puis déposez-le dans le casier de votre professeur.\n",
    "\n",
    "![enregistrer](../../../IMG/enregistrer.png)"
   ]
  },
  {
   "cell_type": "markdown",
   "metadata": {},
   "source": [
    "Déposez votre notebook dans le casier de votre professeur"
   ]
  }
 ],
 "metadata": {
  "kernelspec": {
   "display_name": "Python 3",
   "language": "python",
   "name": "python3"
  },
  "language_info": {
   "codemirror_mode": {
    "name": "ipython",
    "version": 3
   },
   "file_extension": ".py",
   "mimetype": "text/x-python",
   "name": "python",
   "nbconvert_exporter": "python",
   "pygments_lexer": "ipython3",
   "version": "3.9.2"
  }
 },
 "nbformat": 4,
 "nbformat_minor": 4
}
