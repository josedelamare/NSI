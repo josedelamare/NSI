{
 "cells": [
  {
   "cell_type": "markdown",
   "metadata": {},
   "source": [
    "# <center>Les fonctions - Test de la nature d'un triangle ![niveau2](../../../IMG/niveau2.png)</center>"
   ]
  },
  {
   "cell_type": "markdown",
   "metadata": {},
   "source": [
    "Indiquez votre nom et votre prénom dans la cellule ci-dessous :"
   ]
  },
  {
   "cell_type": "code",
   "execution_count": null,
   "metadata": {},
   "outputs": [],
   "source": [
    "# Nom : "
   ]
  },
  {
   "cell_type": "markdown",
   "metadata": {},
   "source": [
    "---\n",
    ">**Travail à faire** : Exécutez la cellule ci-dessous pour importer les modules nécessaires"
   ]
  },
  {
   "cell_type": "code",
   "execution_count": null,
   "metadata": {},
   "outputs": [],
   "source": [
    "import doctest"
   ]
  },
  {
   "cell_type": "markdown",
   "metadata": {},
   "source": [
    "---\n",
    "On souhaite écrire une fonction *nature_triangle()* qui prend en entrée trois nombres *a, b* et *c* représentant les trois côtés d'un triangle, et qui renvoie une chaîne de caractères indiquant la nature du triangle (voir [les schémas ici](http://dpernoux.free.fr/triangles.pdf)). Par exemple, \n",
    "```python\n",
    ">>> nature_triangle(3, 4, 5)\n",
    "```\n",
    "renvoie\n",
    "```python\n",
    "'ce triangle est rectangle'\n",
    "```\n",
    "\n",
    "**Aide à la résolution** : pour un triangle rectangle, on pourra utiliser la relation de Pythagore."
   ]
  },
  {
   "cell_type": "markdown",
   "metadata": {},
   "source": [
    "> **Travail à faire** : Complétez la fonction *nature_triangle()* ci-dessous :"
   ]
  },
  {
   "cell_type": "code",
   "execution_count": null,
   "metadata": {},
   "outputs": [],
   "source": [
    "def nature_triangle(a, b, c):\n",
    "    \"\"\"\n",
    "    renvoie la nature du triangle\n",
    "    Entrée : a, b et c, des nombres (réels ou entiers)\n",
    "    Sortie : une chaîne de caractères\n",
    "    Exemple :\n",
    "    >>> nature_triangle(3, 4, 5)\n",
    "    'ce triangle est rectangle'\n",
    "    >>> nature_triangle(3, 3, 5)\n",
    "    'ce triangle est isocele'\n",
    "    >>> nature_triangle(3, 3, 3)\n",
    "    'ce triangle est equilateral'\n",
    "    \"\"\"\n",
    "    ##--Indiquez le code Python, puis cliquez sur Run--##\n",
    "    "
   ]
  },
  {
   "cell_type": "markdown",
   "metadata": {},
   "source": [
    "> **Travail à faire** : Vérifiez votre code en exécutant la cellule ci-dessous. "
   ]
  },
  {
   "cell_type": "code",
   "execution_count": null,
   "metadata": {},
   "outputs": [],
   "source": [
    "doctest.run_docstring_examples(nature_triangle, globals(), verbose= True)"
   ]
  },
  {
   "cell_type": "markdown",
   "metadata": {},
   "source": [
    "---\n",
    "On souhaite écrire une fonction nature_triangle_2() qui prend en entrée trois nombres a, b et c représentant les trois côtés d'un triangle, et qui renvoie une chaîne de caractères indiquant la nature du triangle (voir les schémas ici). **L'ordre des trois côtés ne doit pas modifier l'affichage**. Par exemple,\n",
    "```python\n",
    ">>> nature_triangle(3, 4, 5)\n",
    ">>> nature_triangle(3, 5, 4)\n",
    ">>> nature_triangle(5, 4, 3)\n",
    "```\n",
    "renvoient chacun\n",
    "```python\n",
    "'ce triangle est rectangle'\n",
    "```\n",
    "> **Travail à faire** : Complétez la fonction *nature_triangle_2()*"
   ]
  },
  {
   "cell_type": "code",
   "execution_count": null,
   "metadata": {},
   "outputs": [],
   "source": [
    "def nature_triangle_2(a, b, c):\n",
    "    \"\"\"\n",
    "    renvoie la nature du triangle\n",
    "    Entrée : a, b et c, des nombres (réels ou entiers)\n",
    "    Sortie : une chaîne de caractères\n",
    "    Exemple :\n",
    "    >>> nature_triangle(3, 4, 5)\n",
    "    'ce triangle est rectangle'\n",
    "    >>> nature_triangle(4, 3, 5)\n",
    "    'ce triangle est rectangle'\n",
    "    >>> nature_triangle(5, 4, 3)\n",
    "    'ce triangle est rectangle'\n",
    "    >>> nature_triangle(3, 4, 5)\n",
    "    'ce triangle est rectangle'\n",
    "    >>> nature_triangle(3, 3, 5)\n",
    "    'ce triangle est isocele'\n",
    "    >>> nature_triangle(3, 3, 3)\n",
    "    'ce triangle est equilateral'\n",
    "    \"\"\"\n",
    "    ##--Indiquez le code Python, puis cliquez sur Run--##\n",
    "    "
   ]
  },
  {
   "cell_type": "markdown",
   "metadata": {},
   "source": [
    "> **Travail à faire** : Vérifiez votre code en exécutant la cellule ci-dessous. "
   ]
  },
  {
   "cell_type": "code",
   "execution_count": null,
   "metadata": {},
   "outputs": [],
   "source": [
    "doctest.run_docstring_examples(nature_triangle_2, globals(), verbose= True)"
   ]
  },
  {
   "cell_type": "markdown",
   "metadata": {},
   "source": [
    "---\n",
    "Enregistrez votre Notebook (voir image ci-dessous), puis déposez-le dans le casier de votre professeur.\n",
    "\n",
    "![enregistrer](../../../IMG/enregistrer.png)"
   ]
  },
  {
   "cell_type": "markdown",
   "metadata": {},
   "source": [
    "Déposez votre notebook dans le casier de votre professeur"
   ]
  }
 ],
 "metadata": {
  "kernelspec": {
   "display_name": "Python 3",
   "language": "python",
   "name": "python3"
  },
  "language_info": {
   "codemirror_mode": {
    "name": "ipython",
    "version": 3
   },
   "file_extension": ".py",
   "mimetype": "text/x-python",
   "name": "python",
   "nbconvert_exporter": "python",
   "pygments_lexer": "ipython3",
   "version": "3.8.3"
  }
 },
 "nbformat": 4,
 "nbformat_minor": 4
}
