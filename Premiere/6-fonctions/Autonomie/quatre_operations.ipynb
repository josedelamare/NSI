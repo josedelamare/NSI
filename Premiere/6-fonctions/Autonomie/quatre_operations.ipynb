{
 "cells": [
  {
   "cell_type": "markdown",
   "metadata": {},
   "source": [
    "# <center>Les fonctions - Les quatre opérations ![niveau1](../../../IMG/niveau1.png)</center>"
   ]
  },
  {
   "cell_type": "markdown",
   "metadata": {},
   "source": [
    "Indiquez votre nom et votre prénom dans la cellule ci-dessous :"
   ]
  },
  {
   "cell_type": "code",
   "execution_count": null,
   "metadata": {},
   "outputs": [],
   "source": [
    "# Nom : "
   ]
  },
  {
   "cell_type": "markdown",
   "metadata": {},
   "source": [
    "---\n",
    ">**Travail à faire** : Exécutez la cellule ci-dessous pour importer les modules nécessaires"
   ]
  },
  {
   "cell_type": "code",
   "execution_count": null,
   "metadata": {},
   "outputs": [],
   "source": [
    "import doctest"
   ]
  },
  {
   "cell_type": "markdown",
   "metadata": {},
   "source": [
    "---\n",
    "On souhaite écrire une fonction *quatre_operations()* qui prend en entrée deux nombres *a* et *b*, et qui renvoie un tuple dont les éléments sont la valeur absolue de la somme $a+b$, la valeur absolue de la différence $a-b$, la valeur absolue du produit $a \\times b$ et la valeur absolue de la division $\\dfrac{a}{b}$. Par exemple, \n",
    "```python\n",
    ">>> quatre_operations(1, 2)\n",
    "```\n",
    "renvoie\n",
    "```python\n",
    "(3, -1, 2, 0.5)\n",
    "```"
   ]
  },
  {
   "cell_type": "markdown",
   "metadata": {},
   "source": [
    "> **Travail à faire** : Complétez la fonction *quatre_operations()* ci-dessous :"
   ]
  },
  {
   "cell_type": "code",
   "execution_count": null,
   "metadata": {},
   "outputs": [],
   "source": [
    "def quatre_operations(a, b):\n",
    "    \"\"\"\n",
    "    renvoie un tuple dont les éléments sont la somme\n",
    "    Entrée : a et b, des nombres (réels ou entiers)\n",
    "    Sortie : resultat, un tuple\n",
    "    Exemple :\n",
    "    >>> quatre_operations(1, 2)\n",
    "    (3, 1, 2, 0.5)\n",
    "    >>> quatre_operations(0, 2)\n",
    "    (2, 2, 0, 0.0)\n",
    "    >>> quatre_operations(1, -2)\n",
    "    (1, 3, 2, 0.5)\n",
    "    \"\"\"\n",
    "    \n",
    "    ##--Indiquez le code Python, puis cliquez sur Run--##\n",
    "    "
   ]
  },
  {
   "cell_type": "markdown",
   "metadata": {},
   "source": [
    "> **Travail à faire** : Vérifiez votre code en exécutant la cellule ci-dessous. "
   ]
  },
  {
   "cell_type": "code",
   "execution_count": null,
   "metadata": {},
   "outputs": [],
   "source": [
    "doctest.run_docstring_examples(quatre_operations, globals(), verbose= True)"
   ]
  },
  {
   "cell_type": "markdown",
   "metadata": {},
   "source": [
    "---\n",
    "On souhaite créer une variable *resultat_1* contenant le résultat des 4 opérations entre - 2 et 10.\n",
    "> **Travail à faire** : Indiquez ci-desssous le code Python permettant de réaliser cette opération"
   ]
  },
  {
   "cell_type": "code",
   "execution_count": null,
   "metadata": {},
   "outputs": [],
   "source": [
    "##--Indiquez le code Python, puis cliquez sur Run--##\n"
   ]
  },
  {
   "cell_type": "markdown",
   "metadata": {},
   "source": [
    "On souhaite créer une variable *resultat_2* contenant le résultat des 4 opérations entre 2 et 10.\n",
    "> **Travail à faire** : Indiquez ci-desssous le code Python permettant de réaliser cette opération"
   ]
  },
  {
   "cell_type": "code",
   "execution_count": null,
   "metadata": {},
   "outputs": [],
   "source": [
    "##--Indiquez le code Python, puis cliquez sur Run--##\n"
   ]
  },
  {
   "cell_type": "markdown",
   "metadata": {},
   "source": [
    "> **Travail à faire** : Vérifiez votre code en exécutant la cellule ci-dessous. Lisez bien l'affichage pour obtenir des explications sur vos erreurs éventuelles."
   ]
  },
  {
   "cell_type": "code",
   "execution_count": null,
   "metadata": {},
   "outputs": [],
   "source": [
    "try:\n",
    "    assert (resultat_1 == resultat_2) is True\n",
    "    print(\"les tests ont réussi\")\n",
    "except(AssertionError):\n",
    "    print(f\"les tests ont échoués. La variable resultat_1 contient {resultat_1}. La variable resultat_2 contient {resultat_2}\")"
   ]
  },
  {
   "cell_type": "markdown",
   "metadata": {},
   "source": [
    "---\n",
    "Enregistrez votre Notebook (voir image ci-dessous), puis déposez-le dans le casier de votre professeur.\n",
    "\n",
    "![enregistrer](../../../IMG/enregistrer.png)"
   ]
  },
  {
   "cell_type": "markdown",
   "metadata": {},
   "source": [
    "Déposez votre notebook dans le casier de votre professeur"
   ]
  }
 ],
 "metadata": {
  "kernelspec": {
   "display_name": "Python 3",
   "language": "python",
   "name": "python3"
  },
  "language_info": {
   "codemirror_mode": {
    "name": "ipython",
    "version": 3
   },
   "file_extension": ".py",
   "mimetype": "text/x-python",
   "name": "python",
   "nbconvert_exporter": "python",
   "pygments_lexer": "ipython3",
   "version": "3.8.3"
  }
 },
 "nbformat": 4,
 "nbformat_minor": 4
}
