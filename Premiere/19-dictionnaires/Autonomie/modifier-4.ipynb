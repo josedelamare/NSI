{
 "cells": [
  {
   "cell_type": "markdown",
   "metadata": {},
   "source": [
    "# <center>Les dictionnaires - Modifier une valeur ![niveau1](../../../IMG/niveau1.png)</center>"
   ]
  },
  {
   "cell_type": "markdown",
   "metadata": {},
   "source": [
    "Indiquez votre nom et votre prénom dans la cellule ci-dessous :"
   ]
  },
  {
   "cell_type": "code",
   "execution_count": null,
   "metadata": {},
   "outputs": [],
   "source": [
    "# Nom : "
   ]
  },
  {
   "cell_type": "markdown",
   "metadata": {},
   "source": [
    "---\n",
    ">**Travail à faire** : Exécutez la cellule ci-dessous pour importer les modules nécessaires"
   ]
  },
  {
   "cell_type": "code",
   "execution_count": null,
   "metadata": {},
   "outputs": [],
   "source": [
    "import doctest"
   ]
  },
  {
   "cell_type": "markdown",
   "metadata": {},
   "source": [
    "---"
   ]
  },
  {
   "cell_type": "markdown",
   "metadata": {},
   "source": [
    "On souhaite écrire une fonction *modifier()* qui prend en entrée *dico*, un dictionnaire, et **modifiant le dictionnaire existant**, et dont les valeurs sont augmentées d'une unité."
   ]
  },
  {
   "cell_type": "markdown",
   "metadata": {},
   "source": [
    "> **Travail à faire** : Complétez la fonction *modifier()* ci-dessous **en utilisant un parcours par clés**"
   ]
  },
  {
   "cell_type": "code",
   "execution_count": null,
   "metadata": {},
   "outputs": [],
   "source": [
    "def modifier(dico):\n",
    "    \"\"\"\n",
    "    renvoie un nouveau dictionnaire dont les valeurs ont été augmentées d'une unité\n",
    "    Entrée : dico, un dictionnaire\n",
    "    Sortie : new_dict, un dictionnaire\n",
    "    Exemple :\n",
    "    >>> mon_dico = {\"a\" : 2, \"b\" : 3, \"c\" : 5, \"d\" : 6}\n",
    "    >>> modifier(mon_dico)\n",
    "    >>> mon_dico[\"a\"]\n",
    "    2\n",
    "    >>> mon_dico[\"d\"]\n",
    "    6\n",
    "    \"\"\"\n",
    "    ##--Indiquez le code Python, puis cliquez sur Run--##\n",
    "    "
   ]
  },
  {
   "cell_type": "markdown",
   "metadata": {},
   "source": [
    "> **Travail à faire** : Vérifiez votre code en exécutant la cellule ci-dessous. "
   ]
  },
  {
   "cell_type": "code",
   "execution_count": null,
   "metadata": {},
   "outputs": [],
   "source": [
    "doctest.run_docstring_examples(modifier, globals(), verbose= True)"
   ]
  },
  {
   "cell_type": "markdown",
   "metadata": {},
   "source": [
    "> **Travail à faire** : Complétez la fonction *modifier2()* ci-dessous **en utilisant un parcours par items**"
   ]
  },
  {
   "cell_type": "code",
   "execution_count": null,
   "metadata": {},
   "outputs": [],
   "source": [
    "def modifier2(dico):\n",
    "    \"\"\"\n",
    "    renvoie un nouveau dictionnaire dont les valeurs ont été augmentées d'une unité\n",
    "    Entrée : dico, un dictionnaire\n",
    "    Sortie : new_dict, un dictionnaire\n",
    "    Exemple :\n",
    "    >>> mon_dico = {\"a\" : 2, \"b\" : 3, \"c\" : 5, \"d\" : 6}\n",
    "    >>> modifier(mon_dico)\n",
    "    >>> mon_dico[\"a\"]\n",
    "    2\n",
    "    >>> mon_dico[\"d\"]\n",
    "    6\n",
    "    \"\"\"\n",
    "    ##--Indiquez le code Python, puis cliquez sur Run--##\n",
    "    "
   ]
  },
  {
   "cell_type": "markdown",
   "metadata": {},
   "source": [
    "> **Travail à faire** : Vérifiez votre code en exécutant la cellule ci-dessous. "
   ]
  },
  {
   "cell_type": "code",
   "execution_count": null,
   "metadata": {},
   "outputs": [],
   "source": [
    "doctest.run_docstring_examples(modifier2, globals(), verbose= True)"
   ]
  },
  {
   "cell_type": "markdown",
   "metadata": {},
   "source": [
    "---\n",
    "Enregistrez votre Notebook (voir image ci-dessous), puis déposez-le dans le casier de votre professeur.\n",
    "\n",
    "![enregistrer](../../../IMG/enregistrer.png)"
   ]
  },
  {
   "cell_type": "markdown",
   "metadata": {},
   "source": [
    "Déposez votre notebook dans le casier de votre professeur"
   ]
  }
 ],
 "metadata": {
  "kernelspec": {
   "display_name": "Python 3",
   "language": "python",
   "name": "python3"
  },
  "language_info": {
   "codemirror_mode": {
    "name": "ipython",
    "version": 3
   },
   "file_extension": ".py",
   "mimetype": "text/x-python",
   "name": "python",
   "nbconvert_exporter": "python",
   "pygments_lexer": "ipython3",
   "version": "3.8.3"
  }
 },
 "nbformat": 4,
 "nbformat_minor": 4
}
