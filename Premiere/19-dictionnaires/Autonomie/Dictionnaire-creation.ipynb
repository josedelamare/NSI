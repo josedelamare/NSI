{
 "cells": [
  {
   "cell_type": "markdown",
   "metadata": {},
   "source": [
    "# <center>Les dictionnaires - Création d'un dictionnaire ![niveau3](../../IMG/niveau3.png)</center>"
   ]
  },
  {
   "cell_type": "markdown",
   "metadata": {},
   "source": [
    "Indiquez votre nom et votre prénom dans la cellule ci-dessous :"
   ]
  },
  {
   "cell_type": "code",
   "execution_count": null,
   "metadata": {},
   "outputs": [],
   "source": [
    "# Nom : "
   ]
  },
  {
   "cell_type": "markdown",
   "metadata": {},
   "source": [
    "---\n",
    ">**Travail à faire** : Exécutez la cellule ci-dessous pour importer les modules nécessaires"
   ]
  },
  {
   "cell_type": "code",
   "execution_count": null,
   "metadata": {},
   "outputs": [],
   "source": [
    "from test_creation2 import *\n",
    "import doctest"
   ]
  },
  {
   "cell_type": "markdown",
   "metadata": {},
   "source": [
    "---"
   ]
  },
  {
   "cell_type": "markdown",
   "metadata": {},
   "source": [
    "On souhaite écrire une fonction *creation()* qui prend en entrée une chaîne de caractères comprenant, sur chaque ligne, trois champs séparés par des caractères `;` (un numéro d’étudiant, un nom et un prénom) et renvoyant un dictionnaire dont les clés sont les numéros d’étudiants lus et les valeurs sont, pour chaque numéro d’étudiant, une chaîne correspondant à la concaténation des prénom et nom de la personne. \n",
    "\n",
    "Par exemple \n",
    "```python\n",
    ">>> creation('213615200;BESNIER;JEAN')\n",
    "```\n",
    "renverra \n",
    "```python\n",
    "{213615200 : JEAN BESNIER}\n",
    "```"
   ]
  },
  {
   "cell_type": "markdown",
   "metadata": {},
   "source": [
    "---\n",
    "## La méthode `split()`"
   ]
  },
  {
   "cell_type": "markdown",
   "metadata": {},
   "source": [
    "> **Travail à faire** : Exécutez la cellule ci-dessous pour afficher la documentation de la méthode `split()`"
   ]
  },
  {
   "cell_type": "code",
   "execution_count": null,
   "metadata": {},
   "outputs": [],
   "source": [
    "help(str.split)"
   ]
  },
  {
   "cell_type": "markdown",
   "metadata": {},
   "source": [
    "> **Travail à faire** : Exécutez la cellule ci-dessous pour afficher un exemple d'utilisation"
   ]
  },
  {
   "cell_type": "code",
   "execution_count": null,
   "metadata": {},
   "outputs": [],
   "source": [
    "ma_chaine = 'toto_tata_titi_tutu'\n",
    "ma_chaine.split(\"_\")"
   ]
  },
  {
   "cell_type": "markdown",
   "metadata": {},
   "source": [
    "> **Que fait la méthode `split()` ?**"
   ]
  },
  {
   "cell_type": "code",
   "execution_count": null,
   "metadata": {},
   "outputs": [],
   "source": [
    "##--Ecrivez vos réponses ici, sans exécuter la cellule--##\n"
   ]
  },
  {
   "cell_type": "markdown",
   "metadata": {},
   "source": [
    "> **Quel est le type de l'objet renvoyé ?**"
   ]
  },
  {
   "cell_type": "code",
   "execution_count": null,
   "metadata": {},
   "outputs": [],
   "source": [
    "##--Ecrivez vos réponses ici, sans exécuter la cellule--##\n"
   ]
  },
  {
   "cell_type": "markdown",
   "metadata": {},
   "source": [
    "> **A quoi sert l'argument passé dans la méthode ?**"
   ]
  },
  {
   "cell_type": "code",
   "execution_count": null,
   "metadata": {},
   "outputs": [],
   "source": [
    "##--Ecrivez vos réponses ici, sans exécuter la cellule--##\n"
   ]
  },
  {
   "cell_type": "markdown",
   "metadata": {},
   "source": [
    "> **Travail à faire** : Ecrivez le code permettant d'afficher le prénom et le nom des acteurs ci-dessous. On attend l'affichage suivant :\n",
    "```python\n",
    "['Albert-Dupontel', 'Lino-Ventura', 'Robert-Pattinson']\n",
    "```"
   ]
  },
  {
   "cell_type": "code",
   "execution_count": null,
   "metadata": {},
   "outputs": [],
   "source": [
    "ma_chaine_1 = 'Albert-Dupontel_Lino-Ventura_Robert-Pattinson'\n",
    "##--Indiquez le code Python, puis cliquez sur Run--##\n"
   ]
  },
  {
   "cell_type": "markdown",
   "metadata": {},
   "source": [
    "> **Travail à faire** : Ecrivez le code permettant d'afficher les monuments. On attend l'affichage suivant :\n",
    "```python\n",
    "['Tour-Eiffel', 'Lido', 'Mont-Saint-Michel']\n",
    "```"
   ]
  },
  {
   "cell_type": "code",
   "execution_count": null,
   "metadata": {},
   "outputs": [],
   "source": [
    "ma_chaine_2 = 'Tour-Eiffel,Lido,Mont-Saint-Michel'\n",
    "##--Indiquez le code Python, puis cliquez sur Run--##\n"
   ]
  },
  {
   "cell_type": "markdown",
   "metadata": {},
   "source": [
    "---\n",
    "On souhaite dans un premier temps écrire une fonction *identification()* prenant en entrée une chaîne de caractères comprenant, sur chaque ligne, trois champs séparés par des caractères `;` (un numéro d’étudiant, un nom et un prénom) et renvoyant un tableau constitué par le numéro d'étudiant, le nom et le prénom de la personne.\n",
    "\n",
    "Par exemple \n",
    "```python\n",
    ">>> identification('213615200;BESNIER;JEAN')\n",
    "```\n",
    "renverra \n",
    "```python\n",
    "[213615200, 'BESNIER', 'JEAN']\n",
    "```"
   ]
  },
  {
   "cell_type": "markdown",
   "metadata": {},
   "source": [
    "> **Travail à faire** : Complétez la fonction *identification()* ci-dessous"
   ]
  },
  {
   "cell_type": "code",
   "execution_count": null,
   "metadata": {},
   "outputs": [],
   "source": [
    "def identification(chaine):\n",
    "    \"\"\"renvoie un tableau constitué par le numéro d'étudiant, le nom et le prénom de la personne\n",
    "    Entrée : chaine, une chaîne de caractères\n",
    "    Sortie : tab, un tableau\n",
    "    Exemple :\n",
    "    >>> identification('213615200;BESNIER;JEAN')\n",
    "    [213615200, 'BESNIER', 'JEAN']\n",
    "    \"\"\"\n",
    "    ##--Indiquez le code Python, puis cliquez sur Run--##\n",
    "    "
   ]
  },
  {
   "cell_type": "markdown",
   "metadata": {},
   "source": [
    "> **Travail à faire** : Vérifiez l'exemple en exécutant la cellule ci-dessous"
   ]
  },
  {
   "cell_type": "code",
   "execution_count": null,
   "metadata": {},
   "outputs": [],
   "source": [
    "doctest.run_docstring_examples(identification, globals(), verbose= True)"
   ]
  },
  {
   "cell_type": "markdown",
   "metadata": {},
   "source": [
    "Vérifier l'exemple n'est pas suffisant. Il reste une multitude de cas pour lesquels le code peut planter. Les énumérer tous dans la docstring serait trop fastidieux. Des tests supplémentaires sont cachés.\n",
    "\n",
    "> **Travail à faire** : Exécutez la cellule ci-dessous pour vérifier votre code plus en profondeur"
   ]
  },
  {
   "cell_type": "code",
   "execution_count": null,
   "metadata": {},
   "outputs": [],
   "source": [
    "test_identification(identification)"
   ]
  },
  {
   "cell_type": "markdown",
   "metadata": {},
   "source": [
    "---"
   ]
  },
  {
   "cell_type": "markdown",
   "metadata": {},
   "source": [
    "On souhaite écrire une fonction *creation()* qui prend en entrée une chaîne de caractères comprenant trois champs séparés par des caractères `;` (un numéro d’étudiant, un nom et un prénom) et renvoyant un dictionnaire dont la clé est le numéro d’étudiants lu et la valeur est une chaîne correspondant à la concaténation des prénom et nom de la personne. \n",
    "\n",
    "Par exemple \n",
    "```python\n",
    ">>> creation('213615200;BESNIER;JEAN')\n",
    "```\n",
    "renverra \n",
    "```python\n",
    "{213615200 : 'JEAN BESNIER'}\n",
    "```"
   ]
  },
  {
   "cell_type": "markdown",
   "metadata": {},
   "source": [
    "> **Travail à faire** : Complétez la fonction *creation()* ci-dessous. On pourra utiliser la fonction *identification()* codée précédemment. "
   ]
  },
  {
   "cell_type": "code",
   "execution_count": null,
   "metadata": {},
   "outputs": [],
   "source": [
    "def creation(chaine):\n",
    "    \"\"\"renvoie un dictionnaire constitué dont la clé est le numéro d’étudiant\n",
    "    et la valeur est une chaîne correspondant à la concaténation des prénom et nom de la personne\n",
    "    Entrée : chaine, une chaîne de caractères\n",
    "    Sortie : dico, un dictionnaire\n",
    "    Exemple :\n",
    "    >>> creation('213615200;BESNIER;JEAN')\n",
    "    {213615200: 'JEAN BESNIER'}\n",
    "    \"\"\"\n",
    "    "
   ]
  },
  {
   "cell_type": "markdown",
   "metadata": {},
   "source": [
    "> **Travail à faire** : Vérifiez l'exemple à l'aide du module ***doctest*** en indiquant le code dans la cellule ci-dessous"
   ]
  },
  {
   "cell_type": "code",
   "execution_count": null,
   "metadata": {},
   "outputs": [],
   "source": [
    "##--Indiquez le code Python, puis cliquez sur Run--##\n"
   ]
  },
  {
   "cell_type": "markdown",
   "metadata": {},
   "source": [
    "Vérifier l'exemple n'est pas suffisant. Il reste une multitude de cas pour lesquels le code peut planter. Les énumérer tous dans la docstring serait trop fastidieux. Des tests supplémentaires sont cachés.\n",
    "\n",
    "> **Travail à faire** : Exécutez la cellule ci-dessous pour vérifier votre code plus en profondeur"
   ]
  },
  {
   "cell_type": "code",
   "execution_count": null,
   "metadata": {},
   "outputs": [],
   "source": [
    "test_creation(creation)"
   ]
  },
  {
   "cell_type": "markdown",
   "metadata": {},
   "source": [
    "---\n",
    "On souhaite écrire une fonction *ajout()* qui prend en entrée un dictionnaire et une chaîne de caractères comprenant, sur chaque ligne, trois champs séparés par des caractères `;` (un numéro d’étudiant, un nom et un prénom) et modifiant le dictionnaire en ajoutant un élément dont la clé est le numéro d’étudiants lu et la valeur est une chaîne correspondant à la concaténation des prénom et nom de la personne. **La fonction ne renvoie rien. Seul le dictionnaire est modifié.**\n",
    "\n",
    "Par exemple \n",
    "```python\n",
    ">>> ajout(etudiants, '213615200;BESNIER;JEAN')\n",
    "```\n",
    "ajoutera \n",
    "```python\n",
    "{213615200 : 'JEAN BESNIER'}\n",
    "```\n",
    "au dictionnaire ***etudiants***."
   ]
  },
  {
   "cell_type": "markdown",
   "metadata": {},
   "source": [
    "> **Travail à faire** : Complétez la fonction *ajout()* ci-dessous."
   ]
  },
  {
   "cell_type": "code",
   "execution_count": null,
   "metadata": {},
   "outputs": [],
   "source": [
    "def ajout(dico, chaine):\n",
    "    \"\"\"modifie le dictionnaire en ajoutant une entrée dont la clé est le numéro d’étudiant\n",
    "    et la valeur est une chaîne correspondant à la concaténation des prénom et nom de la personne\n",
    "    Entrée : chaine, une chaîne de caractères\n",
    "    Sortie : aucune\n",
    "    \"\"\"\n",
    "    "
   ]
  },
  {
   "cell_type": "markdown",
   "metadata": {},
   "source": [
    "> **Travail à faire** : Exécutez la cellule ci-dessous pour vérifier votre code plus en profondeur"
   ]
  },
  {
   "cell_type": "code",
   "execution_count": null,
   "metadata": {},
   "outputs": [],
   "source": [
    "test_ajout(ajout)"
   ]
  },
  {
   "cell_type": "markdown",
   "metadata": {},
   "source": [
    "On dispose d'un dictionnaire nomé *etudiants* contenant le nom et l'identifiant des étudiants suivants :\n",
    "\n",
    "|Nom|identifiant|\n",
    "|:--:|:--:|\n",
    "|JEAN BONO|298394849|\n",
    "|JEFF AILIDIOT|2349432|\n",
    "\n",
    "On souhaite ajouter SOPHIE FONSEC, dont le numéro d'étudiant est 2349745 à ce dictionnaire. \n",
    ">**Travail à faire** : Indiquez dans le cellule ci-dessous le code permettant cet ajout"
   ]
  },
  {
   "cell_type": "code",
   "execution_count": null,
   "metadata": {},
   "outputs": [],
   "source": [
    "etudiants = {298394849: 'JEAN BONO', 2349432: 'JEFF AILIDIOT'}\n",
    "##--Indiquez le code Python, puis cliquez sur Run--##\n"
   ]
  },
  {
   "cell_type": "markdown",
   "metadata": {},
   "source": [
    "---\n",
    "Enregistrez votre Notebook (voir image ci-dessous), puis déposez-le dans le casier de votre professeur.\n",
    "\n",
    "![enregistrer](../../IMG/enregistrer.png)"
   ]
  },
  {
   "cell_type": "markdown",
   "metadata": {},
   "source": [
    "Déposez votre notebook dans le casier de votre professeur"
   ]
  }
 ],
 "metadata": {
  "kernelspec": {
   "display_name": "Python 3",
   "language": "python",
   "name": "python3"
  },
  "language_info": {
   "codemirror_mode": {
    "name": "ipython",
    "version": 3
   },
   "file_extension": ".py",
   "mimetype": "text/x-python",
   "name": "python",
   "nbconvert_exporter": "python",
   "pygments_lexer": "ipython3",
   "version": "3.8.3"
  }
 },
 "nbformat": 4,
 "nbformat_minor": 4
}
