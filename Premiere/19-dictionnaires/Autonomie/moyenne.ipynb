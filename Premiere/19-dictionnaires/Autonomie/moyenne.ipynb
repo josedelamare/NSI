{
 "cells": [
  {
   "cell_type": "markdown",
   "metadata": {},
   "source": [
    "# <center>Les dictionnaires - Moyenne des valeurs d'un dictionnaire ![niveau2](../../../IMG/niveau2.png)</center>"
   ]
  },
  {
   "cell_type": "markdown",
   "metadata": {},
   "source": [
    "Indiquez votre nom et votre prénom dans la cellule ci-dessous :"
   ]
  },
  {
   "cell_type": "code",
   "execution_count": null,
   "metadata": {},
   "outputs": [],
   "source": [
    "# Nom : "
   ]
  },
  {
   "cell_type": "markdown",
   "metadata": {},
   "source": [
    "---\n",
    ">**Travail à faire** : Exécutez la cellule ci-dessous pour importer les modules nécessaires"
   ]
  },
  {
   "cell_type": "code",
   "execution_count": null,
   "metadata": {},
   "outputs": [],
   "source": [
    "import doctest"
   ]
  },
  {
   "cell_type": "markdown",
   "metadata": {},
   "source": [
    "---\n",
    "On souhaite écrire une fonction *moyenne()* qui prend en entrée un dictionnaire associant à un nom une liste de notes et qui renvoie un **nouveau dictionnaire** associant à chaque nom la moyenne des notes. Par exemple, \n",
    "```python\n",
    ">>> moyenne({\"Albert\" : [1, 2, 3], \"Jean\" : [4, 5, 6]})\n",
    "```\n",
    "renvoie\n",
    "```python\n",
    "{\"Albert\" : 2.0, \"Jean\" : 5.0}\n",
    "```"
   ]
  },
  {
   "cell_type": "markdown",
   "metadata": {},
   "source": [
    "> **Travail à faire** : Complétez la fonction *moyenne()* ci-dessous, en **utilisant un parcours par clé** :"
   ]
  },
  {
   "cell_type": "code",
   "execution_count": null,
   "metadata": {},
   "outputs": [],
   "source": [
    "def moyenne(dico):\n",
    "    \"\"\"\n",
    "    renvoie un nouveau dictionnaire dont les clés sont les mêmes, mais la valeur est la moyenne des valeurs de dico\n",
    "    Entrée : dico, un dictionnaire dont les valeurs sont des tableaux de nombres (réels ou entiers)\n",
    "    Sortie : new_dict, un dictionnaire\n",
    "    Exemple :\n",
    "    >>> dico_moyenne = moyenne({\"Albert\" : [1, 2, 3], \"Jean\" : [4, 5, 6]})\n",
    "    >>> dico_moyenne[\"Albert\"]\n",
    "    2.0\n",
    "    >>> dico_moyenne = moyenne({\"Albert\" : [1, 2, 3], \"Catherine\" : [12, 18]})\n",
    "    >>> dico_moyenne[\"Catherine\"]\n",
    "    15.0\n",
    "    \"\"\"\n",
    "    ##--Indiquez le code Python, puis cliquez sur Run--##\n",
    "    "
   ]
  },
  {
   "cell_type": "markdown",
   "metadata": {},
   "source": [
    "> **Travail à faire** : Vérifiez votre code en exécutant la cellule ci-dessous. "
   ]
  },
  {
   "cell_type": "code",
   "execution_count": null,
   "metadata": {},
   "outputs": [],
   "source": [
    "doctest.run_docstring_examples(moyenne, globals(), verbose= True)"
   ]
  },
  {
   "cell_type": "markdown",
   "metadata": {},
   "source": [
    "---"
   ]
  },
  {
   "cell_type": "markdown",
   "metadata": {},
   "source": [
    "> **Travail à faire** : Complétez la fonction *moyenne2()* ci-dessous **en utilisant un parcours par items**"
   ]
  },
  {
   "cell_type": "code",
   "execution_count": null,
   "metadata": {},
   "outputs": [],
   "source": [
    "def moyenne2(dico):\n",
    "    \"\"\"\n",
    "    renvoie un nouveau dictionnaire dont les clés sont les mêmes, mais la valeur est la moyenne des valeurs de dico\n",
    "    Entrée : dico, un dictionnaire dont les valeurs sont des tableaux de nombres (réels ou entiers)\n",
    "    Sortie : new_dict, un dictionnaire\n",
    "    Exemple :\n",
    "    >>> dico_moyenne = moyenne({\"Albert\" : [1, 2, 3], \"Jean\" : [4, 5, 6]})\n",
    "    >>> dico_moyenne[\"Albert\"]\n",
    "    2.0\n",
    "    >>> dico_moyenne = moyenne({\"Albert\" : [1, 2, 3], \"Catherine\" : [12, 18]})\n",
    "    >>> dico_moyenne[\"Catherine\"]\n",
    "    15.0\n",
    "    \"\"\"\n",
    "    ##--Indiquez le code Python, puis cliquez sur Run--##\n",
    "    "
   ]
  },
  {
   "cell_type": "markdown",
   "metadata": {},
   "source": [
    "> **Travail à faire** : Vérifiez votre code en exécutant la cellule ci-dessous. "
   ]
  },
  {
   "cell_type": "code",
   "execution_count": null,
   "metadata": {},
   "outputs": [],
   "source": [
    "doctest.run_docstring_examples(moyenne2, globals(), verbose= True)"
   ]
  },
  {
   "cell_type": "markdown",
   "metadata": {},
   "source": [
    "---\n",
    "Enregistrez votre Notebook (voir image ci-dessous), puis déposez-le dans le casier de votre professeur.\n",
    "\n",
    "![enregistrer](../../../IMG/enregistrer.png)"
   ]
  },
  {
   "cell_type": "markdown",
   "metadata": {},
   "source": [
    "Déposez votre notebook dans le casier de votre professeur"
   ]
  }
 ],
 "metadata": {
  "kernelspec": {
   "display_name": "Python 3",
   "language": "python",
   "name": "python3"
  },
  "language_info": {
   "codemirror_mode": {
    "name": "ipython",
    "version": 3
   },
   "file_extension": ".py",
   "mimetype": "text/x-python",
   "name": "python",
   "nbconvert_exporter": "python",
   "pygments_lexer": "ipython3",
   "version": "3.8.3"
  }
 },
 "nbformat": 4,
 "nbformat_minor": 4
}
