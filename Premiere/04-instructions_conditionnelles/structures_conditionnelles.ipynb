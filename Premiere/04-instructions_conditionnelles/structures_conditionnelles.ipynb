{
 "cells": [
  {
   "cell_type": "markdown",
   "metadata": {},
   "source": [
    "> **Travail à faire** : exécutez la cellule ci-dessous pour installer les modules indispensables au fonctionnement de ce notebook"
   ]
  },
  {
   "cell_type": "code",
   "execution_count": null,
   "metadata": {},
   "outputs": [],
   "source": [
    "from metakernel import register_ipython_magics\n",
    "register_ipython_magics()"
   ]
  },
  {
   "cell_type": "markdown",
   "metadata": {},
   "source": [
    "---"
   ]
  },
  {
   "cell_type": "markdown",
   "metadata": {},
   "source": [
    "# Python : les structures conditionnelles"
   ]
  },
  {
   "cell_type": "markdown",
   "metadata": {},
   "source": [
    "Une structure conditionnelle permet d’exécuter une séquence d’instructions seulement dans le cas où une condition est vraie. Si par exemple, une variable est positive, deux textes sont identiques, un booléen est faux, ...\n",
    "\n",
    "Une condition est une expression logique : le résultat de son évaluation est un booléen True ou False ."
   ]
  },
  {
   "cell_type": "markdown",
   "metadata": {},
   "source": [
    "## Les opérateurs de comparaison"
   ]
  },
  {
   "cell_type": "markdown",
   "metadata": {},
   "source": [
    "Il est possible de comparer des nombres avec les opérateurs de comparaison : == , != , < , > , <= , >="
   ]
  },
  {
   "cell_type": "markdown",
   "metadata": {},
   "source": [
    "> **Travail à faire** : exécutez les cellules ci-dessous"
   ]
  },
  {
   "cell_type": "code",
   "execution_count": null,
   "metadata": {},
   "outputs": [],
   "source": [
    "3 < 4"
   ]
  },
  {
   "cell_type": "code",
   "execution_count": null,
   "metadata": {},
   "outputs": [],
   "source": [
    "3 <= 4"
   ]
  },
  {
   "cell_type": "code",
   "execution_count": null,
   "metadata": {},
   "outputs": [],
   "source": [
    "4 > 4"
   ]
  },
  {
   "cell_type": "code",
   "execution_count": null,
   "metadata": {},
   "outputs": [],
   "source": [
    "4 >= 4"
   ]
  },
  {
   "cell_type": "code",
   "execution_count": null,
   "metadata": {},
   "outputs": [],
   "source": [
    "3 == 4"
   ]
  },
  {
   "cell_type": "code",
   "execution_count": null,
   "metadata": {},
   "outputs": [],
   "source": [
    "3 != 4"
   ]
  },
  {
   "cell_type": "markdown",
   "metadata": {},
   "source": [
    "Les opérateurs de comparaison fonctionnent aussi pour les chaînes de caractères :\n",
    "\n",
    "> **Travail à faire** : exécutez les cellules ci-dessous"
   ]
  },
  {
   "cell_type": "code",
   "execution_count": null,
   "metadata": {},
   "outputs": [],
   "source": [
    "\"Ane\" == \"Cheval\""
   ]
  },
  {
   "cell_type": "code",
   "execution_count": null,
   "metadata": {},
   "outputs": [],
   "source": [
    "\"Ane\" != \"Cheval\""
   ]
  },
  {
   "cell_type": "markdown",
   "metadata": {},
   "source": [
    "Pour les chaînes de caractères, c'est l'ordre lexicographique (celui du dictionnaire) qui est pris en compte :"
   ]
  },
  {
   "cell_type": "code",
   "execution_count": null,
   "metadata": {},
   "outputs": [],
   "source": [
    "\"Ane\" > \"Cheval\""
   ]
  },
  {
   "cell_type": "markdown",
   "metadata": {},
   "source": [
    "**Attention** : Les majuscules viennent après les minuscules (voir le cours sur le codage des caractères)"
   ]
  },
  {
   "cell_type": "code",
   "execution_count": null,
   "metadata": {},
   "outputs": [],
   "source": [
    "\"brouette\" > \"Voiture\""
   ]
  },
  {
   "cell_type": "markdown",
   "metadata": {},
   "source": [
    "> **Travail à faire** : indiquez dans la cellule ci-dessous le code permettant de comparer les chaînes de caractères 'avion' et 'bateau' **ET renvoyant `True`**"
   ]
  },
  {
   "cell_type": "code",
   "execution_count": null,
   "metadata": {},
   "outputs": [],
   "source": [
    "#- Indiquez ci-dessous le code Python, puis cliques sur Run -#\n"
   ]
  },
  {
   "cell_type": "markdown",
   "metadata": {},
   "source": [
    "## Test d'appartenance"
   ]
  },
  {
   "cell_type": "markdown",
   "metadata": {},
   "source": [
    "Pour tester l'appartenance d'un élément à un autre, on utilise le mot-clé `in`"
   ]
  },
  {
   "cell_type": "code",
   "execution_count": null,
   "metadata": {},
   "outputs": [],
   "source": [
    "'a' in 'ane'"
   ]
  },
  {
   "cell_type": "code",
   "execution_count": null,
   "metadata": {},
   "outputs": [],
   "source": [
    "'b' in 'ane'"
   ]
  },
  {
   "cell_type": "markdown",
   "metadata": {},
   "source": [
    "> **Travail à faire** : indiquez dans la cellule ci-dessous le code permettant de savoir si le caractère **'z'** est présent dans la chaîne de caractères **'The Lost City of Z'**. (Attention à la casse, c'est à dire la différence entre majuscule et minuscule)"
   ]
  },
  {
   "cell_type": "code",
   "execution_count": null,
   "metadata": {},
   "outputs": [],
   "source": [
    "#- Indiquez ci-dessous le code Python, puis cliquez sur Run -#\n"
   ]
  },
  {
   "cell_type": "markdown",
   "metadata": {},
   "source": [
    "---"
   ]
  },
  {
   "cell_type": "markdown",
   "metadata": {},
   "source": [
    "## L'instruction conditionnelle simple"
   ]
  },
  {
   "cell_type": "markdown",
   "metadata": {},
   "source": [
    "Elle définit un bloc d’instructions qui seront exécutées si la condition est vraie."
   ]
  },
  {
   "cell_type": "markdown",
   "metadata": {},
   "source": [
    "![Image](conditionnelle_1.png)"
   ]
  },
  {
   "cell_type": "markdown",
   "metadata": {},
   "source": [
    "> Exemple :"
   ]
  },
  {
   "cell_type": "code",
   "execution_count": null,
   "metadata": {},
   "outputs": [],
   "source": [
    "a = 5\n",
    "if a > 0:\n",
    "    a = a + 3\n",
    "y = 2*a\n",
    "\n",
    "print(a)\n",
    "print(y)"
   ]
  },
  {
   "cell_type": "markdown",
   "metadata": {
    "tags": []
   },
   "source": [
    "> **Travail à faire** : exécutez la cellule ci-dessous, puis cliquez sur `Next` jusqu'à arriver à la dernière instruction"
   ]
  },
  {
   "cell_type": "code",
   "execution_count": null,
   "metadata": {
    "tags": []
   },
   "outputs": [],
   "source": [
    "%%tutor\n",
    "\n",
    "a = 5\n",
    "if a > 0:\n",
    "    a = a + 3\n",
    "y = 2*a"
   ]
  },
  {
   "cell_type": "markdown",
   "metadata": {},
   "source": [
    "> **Travail à faire** : exécutez la cellule ci-dessous, puis cliquez sur `Next` jusqu'à arriver à la dernière instruction"
   ]
  },
  {
   "cell_type": "code",
   "execution_count": null,
   "metadata": {},
   "outputs": [],
   "source": [
    "%%tutor\n",
    "\n",
    "a = - 5\n",
    "if a > 0:\n",
    "    a = a + 3\n",
    "y = 2*a"
   ]
  },
  {
   "cell_type": "markdown",
   "metadata": {},
   "source": [
    "> **Travail à faire** : indiquez dans la cellule ci-dessous le code permettant \n",
    "> - d'affecter la valeur 5 à la variable *a*\n",
    "> - d'afficher **a est strictement positif**, suivant la valeur de a\n",
    "> - d'affecter le cube de *a* à la variable *b* dans tous les cas"
   ]
  },
  {
   "cell_type": "code",
   "execution_count": null,
   "metadata": {},
   "outputs": [],
   "source": [
    "#- Indiquez ci-dessous le code Python, puis cliquez sur Run -#\n"
   ]
  },
  {
   "cell_type": "markdown",
   "metadata": {},
   "source": [
    "---"
   ]
  },
  {
   "cell_type": "markdown",
   "metadata": {},
   "source": [
    "## L'instruction conditionnelle avec une alternative"
   ]
  },
  {
   "cell_type": "markdown",
   "metadata": {},
   "source": [
    "Elle définit permet d’effectuer un bloc d’instructions si un test est **vrai**, et un autre bloc d’instructions si ce test est **faux**."
   ]
  },
  {
   "cell_type": "markdown",
   "metadata": {},
   "source": [
    "![Image](conditionnelle_2.png)"
   ]
  },
  {
   "cell_type": "markdown",
   "metadata": {},
   "source": [
    "> Exemple :"
   ]
  },
  {
   "cell_type": "code",
   "execution_count": null,
   "metadata": {},
   "outputs": [],
   "source": [
    "a = 5\n",
    "if a > 0:\n",
    "    a = a + 3\n",
    "else:\n",
    "    a = a - 3\n",
    "y = 2*a\n",
    "\n",
    "print(a)\n",
    "print(y)"
   ]
  },
  {
   "cell_type": "code",
   "execution_count": null,
   "metadata": {},
   "outputs": [],
   "source": [
    "a = -5\n",
    "if a > 0:\n",
    "    a = a + 3\n",
    "else:\n",
    "    a = a - 3\n",
    "y = 2*a\n",
    "\n",
    "print(a)\n",
    "print(y)"
   ]
  },
  {
   "cell_type": "markdown",
   "metadata": {
    "tags": []
   },
   "source": [
    "> **Travail à faire** : exécutez la cellule ci-dessous, puis cliquez sur `Next` jusqu'à arriver à la dernière instruction"
   ]
  },
  {
   "cell_type": "code",
   "execution_count": null,
   "metadata": {
    "tags": []
   },
   "outputs": [],
   "source": [
    "%%tutor\n",
    "\n",
    "a = 5\n",
    "if a > 0:\n",
    "    a = a + 3\n",
    "else:\n",
    "    a = a - 3\n",
    "y = 2*a"
   ]
  },
  {
   "cell_type": "markdown",
   "metadata": {},
   "source": [
    "> **Travail à faire** : exécutez la cellule ci-dessous, puis cliquez sur `Next` jusqu'à arriver à la dernière instruction"
   ]
  },
  {
   "cell_type": "code",
   "execution_count": null,
   "metadata": {},
   "outputs": [],
   "source": [
    "%%tutor\n",
    "\n",
    "a = -5\n",
    "if a > 0:\n",
    "    a = a + 3\n",
    "else:\n",
    "    a = a - 3\n",
    "y = 2*a"
   ]
  },
  {
   "cell_type": "markdown",
   "metadata": {},
   "source": [
    "> **Travail à faire** : indiquez dans la cellule ci-dessous le code permettant \n",
    "> - d'affecter la valeur 5 à la variable *a*\n",
    "> - d'afficher **a est strictement positif** ou **a est négatif ou nul**, suivant la valeur de a\n",
    "> - d'affecter le cube de *a* à la variable *b* dans tous les cas"
   ]
  },
  {
   "cell_type": "code",
   "execution_count": null,
   "metadata": {},
   "outputs": [],
   "source": [
    "#- Indiquez ci-dessous le code Python, puis cliquez sur Run -#\n"
   ]
  },
  {
   "cell_type": "markdown",
   "metadata": {},
   "source": [
    "---"
   ]
  },
  {
   "cell_type": "markdown",
   "metadata": {},
   "source": [
    "## L'instruction conditionnelle avec plusieurs alternatives"
   ]
  },
  {
   "cell_type": "markdown",
   "metadata": {},
   "source": [
    "Elle définit permet d’effectuer un bloc d’instructions si le **test1 est vrai**, un autre bloc d’instructions si le **test2 est vrai**, et/ou un autre bloc d’instructions si les deux tests précédents sont faux. On peut ajouter autant de conditions que l’on souhaite."
   ]
  },
  {
   "cell_type": "markdown",
   "metadata": {},
   "source": [
    "![Image](conditionnelle_3.png)"
   ]
  },
  {
   "cell_type": "markdown",
   "metadata": {
    "tags": []
   },
   "source": [
    "> **Travail à faire** : exécutez la cellule ci-dessous, puis cliquez sur `Next` jusqu'à arriver à la dernière instruction"
   ]
  },
  {
   "cell_type": "code",
   "execution_count": null,
   "metadata": {
    "tags": []
   },
   "outputs": [],
   "source": [
    "%%tutor\n",
    "\n",
    "a = 5\n",
    "if a > 0:\n",
    "    a = a + 3\n",
    "elif a > 0:\n",
    "    a = a - 3\n",
    "else:\n",
    "    a = 100\n",
    "y = 2*a"
   ]
  },
  {
   "cell_type": "markdown",
   "metadata": {
    "tags": []
   },
   "source": [
    "> **Travail à faire** : exécutez la cellule ci-dessous, puis cliquez sur `Next` jusqu'à arriver à la dernière instruction"
   ]
  },
  {
   "cell_type": "code",
   "execution_count": null,
   "metadata": {},
   "outputs": [],
   "source": [
    "%%tutor\n",
    "\n",
    "a = -5\n",
    "if a > 0:\n",
    "    a = a + 3\n",
    "elif a > 0:\n",
    "    a = a - 3\n",
    "else:\n",
    "    a = 100\n",
    "y = 2*a"
   ]
  },
  {
   "cell_type": "markdown",
   "metadata": {
    "tags": []
   },
   "source": [
    "> **Travail à faire** : exécutez la cellule ci-dessous, puis cliquez sur `Next` jusqu'à arriver à la dernière instruction"
   ]
  },
  {
   "cell_type": "code",
   "execution_count": null,
   "metadata": {},
   "outputs": [],
   "source": [
    "%%tutor\n",
    "\n",
    "a = 0\n",
    "if a > 0:\n",
    "    a = a + 3\n",
    "elif a > 0:\n",
    "    a = a - 3\n",
    "else:\n",
    "    a = 100\n",
    "y = 2*a"
   ]
  },
  {
   "cell_type": "markdown",
   "metadata": {},
   "source": [
    "> **Travail à faire** : indiquez dans la cellule ci-dessous le code permettant \n",
    "> - d'affecter la valeur 5 à la variable *a*\n",
    "> - d'afficher **a est strictement positif** ou **a est strictement négatif** ou **a est nul**, suivant la valeur de a\n",
    "> - d'affecter le cube de *a* à la variable *b* dans tous les cas"
   ]
  },
  {
   "cell_type": "code",
   "execution_count": null,
   "metadata": {},
   "outputs": [],
   "source": [
    "#- Indiquez ci-dessous le code Python, puis cliquez sur Run -#\n"
   ]
  }
 ],
 "metadata": {
  "kernelspec": {
   "display_name": "Python 3",
   "language": "python",
   "name": "python3"
  },
  "language_info": {
   "codemirror_mode": {
    "name": "ipython",
    "version": 3
   },
   "file_extension": ".py",
   "mimetype": "text/x-python",
   "name": "python",
   "nbconvert_exporter": "python",
   "pygments_lexer": "ipython3",
   "version": "3.9.2"
  }
 },
 "nbformat": 4,
 "nbformat_minor": 4
}
