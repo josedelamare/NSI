{
 "cells": [
  {
   "cell_type": "markdown",
   "metadata": {},
   "source": [
    "# Comparaison de la compléxité en temps des algorithmes de tri par sélection par insertion et de la fonction sort()."
   ]
  },
  {
   "cell_type": "markdown",
   "metadata": {},
   "source": [
    "<span font style='color:red'>Copiez ce fichier dans l'espace **Mes Documents** de votre ENT avant de l'éxécuter."
   ]
  },
  {
   "cell_type": "markdown",
   "metadata": {},
   "source": [
    "On souhaite dans ce TP, comparer les temps d'éxécution (en millisecondes) des algorithmes de tri par sélection, par insertion et de la fonction `sort()` sur des tableaux comprenant n éléments afin de compléter le tableau réponse ci-dessous :"
   ]
  },
  {
   "cell_type": "markdown",
   "metadata": {},
   "source": [
    "| n  | 100 | 1000  | 5000 | 10000 |\n",
    "| ------------- | ------------- | ------------- | ------------- | ------------- |\n",
    "|Tri par sélection  | ??| ??| ??| ??|\n",
    "| Tri par insertion  |??| ??| ??| ??|\n",
    "| sort()  | ??| ?? | ?? | ??|\n"
   ]
  },
  {
   "cell_type": "markdown",
   "metadata": {},
   "source": [
    "La cellule ci-dessous permet d'utiliser les modules `random` et `time` dans ce TP.\n",
    "\n",
    "**Travail à faire** : Positionnez vous sur la cellule suivante, puis cliquez sur `Run`."
   ]
  },
  {
   "cell_type": "code",
   "execution_count": null,
   "metadata": {},
   "outputs": [],
   "source": [
    "## Import des modules\n",
    "import copy\n",
    "from random import randint\n",
    "import time"
   ]
  },
  {
   "cell_type": "markdown",
   "metadata": {},
   "source": [
    "## 1. Création des tableaux aléatoires\n",
    "\n",
    "La cellule suivante permet de définir la fonction `remplissage_aleatoire`, qui gébère un tableau de longueur n, et contenant un entier aléatoire contenu entre 1 et 100.\n",
    "\n",
    "**Travail à faire** : Positionnez vous sur la cellule suivante, puis cliquez sur `Run`."
   ]
  },
  {
   "cell_type": "code",
   "execution_count": null,
   "metadata": {},
   "outputs": [],
   "source": [
    "def remplissage_aleatoire(n):\n",
    "    \"\"\"fonction générant un tableau de longueur n, et contenant\n",
    "    un entier aléatoire contenu entre 1 et 100\n",
    "\n",
    "    Entrée : n, un entier\n",
    "    Sortie : t, un tableau d'entiers\n",
    "\n",
    "    Postcondition :\n",
    "    >>> len(remplissage_aleatoire(50))\n",
    "    50\n",
    "\n",
    "    \"\"\"\n",
    "    assert type(n) == int, \"l'argument doit être un entier\"\n",
    "    \n",
    "    t=[randint(0, 100) for i in range (0, n, 1)]\n",
    "    return t"
   ]
  },
  {
   "cell_type": "markdown",
   "metadata": {},
   "source": [
    "**Travail à faire** : Indiquez ci-dessous le code Python permettant de stocker dans la variable `t100` un tableau de 100 nombres alléatoires compris entre 1 et 100."
   ]
  },
  {
   "cell_type": "code",
   "execution_count": null,
   "metadata": {},
   "outputs": [],
   "source": [
    "##--Indiquez le code Python, puis cliquez sur Run--##\n"
   ]
  },
  {
   "cell_type": "markdown",
   "metadata": {},
   "source": [
    "**Travail à faire** : Indiquez ci-dessous les codes Python permettant de stocker dans les variables `t1000`, `t5000`, et `t10000`un tableau respectivement de 1000, 5000 et 10000 nombres alléatoires compris entre 1 et 100."
   ]
  },
  {
   "cell_type": "code",
   "execution_count": null,
   "metadata": {},
   "outputs": [],
   "source": [
    "##--Indiquez le code Python, puis cliquez sur Run--##\n"
   ]
  },
  {
   "cell_type": "markdown",
   "metadata": {},
   "source": [
    "**Travail à faire** : Indiquez ci-dessous le code Python permettant de stocker dans la variable `T_init`un tableau possédant les 4 tableaux précédents comme élements."
   ]
  },
  {
   "cell_type": "code",
   "execution_count": null,
   "metadata": {},
   "outputs": [],
   "source": [
    "##--Indiquez le code Python, puis cliquez sur Run--##\n"
   ]
  },
  {
   "cell_type": "markdown",
   "metadata": {},
   "source": [
    "Comme les algorithmes de tri que nous allons utiliser, modifie le tableau lui même, il va falloir mémoriser le tableau  `T_init` dans la variable`T_a_traiter` à l'aide de la fonction `deepcopy`.\n",
    "\n",
    "**Travail à faire** : Positionnez vous sur la cellule suivante, puis cliquez sur `Run`."
   ]
  },
  {
   "cell_type": "code",
   "execution_count": null,
   "metadata": {},
   "outputs": [],
   "source": [
    "T_a_traiter = copy.deepcopy(T_init)"
   ]
  },
  {
   "cell_type": "markdown",
   "metadata": {},
   "source": [
    "## 2. Fonction `sort()`\n",
    "\n",
    "Il existe en Python une fonction native `tableau.sort()` qui tri le tableau et le modifie.  \n",
    "\n",
    "**Travail à faire** : Indiquez ci-dessous la commande Python permettant de trier le tableau `L=[29, 24, 31, 15, 8]` à l'aide de `sort()`."
   ]
  },
  {
   "cell_type": "code",
   "execution_count": null,
   "metadata": {},
   "outputs": [],
   "source": [
    "##--Indiquez le code Python, puis cliquez sur Run--##\n"
   ]
  },
  {
   "cell_type": "markdown",
   "metadata": {},
   "source": [
    "**Travail à faire** : Indiquez ci-dessous la commande Python permettant de vérifier que la tableau L est maintenant trié."
   ]
  },
  {
   "cell_type": "code",
   "execution_count": null,
   "metadata": {},
   "outputs": [],
   "source": [
    "##--Indiquez le code Python, puis cliquez sur Run--##\n"
   ]
  },
  {
   "cell_type": "markdown",
   "metadata": {},
   "source": [
    "## 3. Mesure du temps d'éxécution de la fonction `sort()`\n",
    "\n",
    "En informatique, pour mesurer la durée d'éxécution d'une instruction ou d'une fonction, on fait la différence entre un temps de début (initialisé avant l'éxécution du code) et temps de fin (initialisé après l'éxécution du code). Soit en Python `duree_execution = temps_fin - temps_depart`.\n",
    "\n",
    "Afin d'initialiser les temps de départ et de fin, ou utilise l'instruction `time.perf_counter()` du module `time`. Cette instruction permet le chronométrage du temps à l'échelle du système en revoyant un réel correspondant à des fractions de secondes. Cette mesure de temps est issue d'un compteur avec une très grande précison pour mesurer des temps très courts.\n",
    "\n",
    "**Travail à faire** : Indiquez ci-dessous la commande Python permettant d'initialiser une variable `temps` à l'aide de `time.perf_counter()`. "
   ]
  },
  {
   "cell_type": "code",
   "execution_count": null,
   "metadata": {},
   "outputs": [],
   "source": [
    "##--Indiquez le code Python, puis cliquez sur Run--##\n"
   ]
  },
  {
   "cell_type": "markdown",
   "metadata": {},
   "source": [
    "**Travail à faire** : Après avoir éxécuté la cellule précédente, indiquez ci-dessous la commande Python permettant d'afficher le contenu de la variable `temps`."
   ]
  },
  {
   "cell_type": "code",
   "execution_count": null,
   "metadata": {},
   "outputs": [],
   "source": [
    "##--Indiquez le code Python, puis cliquez sur Run--##\n"
   ]
  },
  {
   "cell_type": "markdown",
   "metadata": {},
   "source": [
    "**Travail à faire** : Comme le temps d'éxécution sur une machine peut être rapide, il va falloir que la variable `temps_debut` soit initialisée à une valeur 1000 fois plus importante que celle mesurée par `time.perf_counter()`\n",
    "Indiquez ci-dessous la commande Python permettant de réaliser une telle initialisation."
   ]
  },
  {
   "cell_type": "code",
   "execution_count": null,
   "metadata": {},
   "outputs": [],
   "source": [
    "##--Indiquez le code Python, puis cliquez sur Run--##\n"
   ]
  },
  {
   "cell_type": "markdown",
   "metadata": {},
   "source": [
    "**Travail à faire** : Après avoir éxécuté la cellule précédente, indiquez ci-dessous la commande Python permettant d'afficher le contenu de la variable `temps_debut`."
   ]
  },
  {
   "cell_type": "code",
   "execution_count": null,
   "metadata": {},
   "outputs": [],
   "source": [
    "##--Indiquez le code Python, puis cliquez sur Run--##\n"
   ]
  },
  {
   "cell_type": "markdown",
   "metadata": {},
   "source": [
    "On souhaite connaître le temps d'exécution de la fonction `sort()` .\n",
    "\n",
    "Pour cela vous allez écrire une fonction `temps_execution_sort`, prenant `t` un tableau comme argument d'entrée, et renvoyant la durée d'exécution en millisecondes de la fonction `sort()` sur le tableau `t`.\n",
    "\n",
    "Pour cela : \n",
    "- créez une variable `temps_debut` qui prendra 1000 fois la valeur mesurée par `time.perf_counter()` avant l'exécution de la fonction `sort()`.\n",
    "- exécutez la fonction `sort()`.\n",
    "- créez une variable `temps_fin` qui prendra 1000 fois la valeur mesurée par `time.perf_counter()` après l'exécution de la fonction `sort()`.\n",
    "\n",
    "La valeur renvoyée par la fonction sera donc la différence `temps_fin-temps_debut`.\n",
    "\n",
    "**Travail à faire** : Indiquez ci-dessous le code Python de la fonction `temps_execution_sort`."
   ]
  },
  {
   "cell_type": "code",
   "execution_count": null,
   "metadata": {},
   "outputs": [],
   "source": [
    "##--Indiquez le code Python, puis cliquez sur Run--##\n",
    "def temps_execution_sort (t):\n"
   ]
  },
  {
   "cell_type": "markdown",
   "metadata": {},
   "source": [
    "**Travail à faire** : Indiquez ci-dessous le code Python permettant de mesurer le temps d'éxécution de la fonction `sort()` pour traiter le tableau `L_10000` composé de 10000 nombres aléatoires compris entre 0 et 100. Ce temps peux varier considérablement suivant la configuration de la machine sur laquelle ce programme est éxécuté."
   ]
  },
  {
   "cell_type": "code",
   "execution_count": null,
   "metadata": {},
   "outputs": [],
   "source": [
    "##--Indiquez le code Python, puis cliquez sur Run--##\n"
   ]
  },
  {
   "cell_type": "markdown",
   "metadata": {},
   "source": [
    "On souhaite maintenant mesurer les 4 temps d'éxécution de la fonction `sort()` lorsque qu'elle trie les 4 tableaux stockés dans le tableau `T_a_traiter` défini dans la première partie.\n",
    "On souhaite également par commodité, stocker ces 4 mesures dans le tableau `Mesures_sort` qui sera alors composé respectivement de :\n",
    "\n",
    "`[Temps pour un tableau n=100, Temps pour un tableau n=1000, Temps pour un tableau n=5000, Temps pour un tableau n=10000]`\n",
    "\n",
    "**Travail à faire** : Indiquez ci-dessous le code Python permettant de créer par compréhension le tableau `Mesures_sort` et ces 4 mesures.\n",
    "\n",
    "L'instruction `T_a_traiter = copy.deepcopy(T_init)` permettra de garantir la valeur initiale de `T_a_traiter` avant son tri."
   ]
  },
  {
   "cell_type": "code",
   "execution_count": null,
   "metadata": {},
   "outputs": [],
   "source": [
    "T_a_traiter = copy.deepcopy(T_init)\n",
    "##--Indiquez le code Python, puis cliquez sur Run--##\n"
   ]
  },
  {
   "cell_type": "markdown",
   "metadata": {},
   "source": [
    "**Travail à faire** : Indiquez ci-dessous le code Python permettant de lire le contenu de `Mesures_sort` puis, double cliquez sur la cellule contenant le document réponse en début de ce document, afin de compléter la ligne correspondant à `sort()`."
   ]
  },
  {
   "cell_type": "code",
   "execution_count": null,
   "metadata": {},
   "outputs": [],
   "source": [
    "##--Indiquez le code Python, puis cliquez sur Run--##\n"
   ]
  },
  {
   "cell_type": "markdown",
   "metadata": {},
   "source": [
    "## 4. Algorithme de tri par sélection\n",
    "\n",
    "La traduction en Python de l'algorithme de tri par sélection est donné ci-dessous.\n",
    "\n",
    "**Travail à faire** : Positionnez vous sur la cellule suivante, puis cliquez sur `Run`."
   ]
  },
  {
   "cell_type": "code",
   "execution_count": null,
   "metadata": {},
   "outputs": [],
   "source": [
    "def tri_par_selection(t):\n",
    "    for i in range (len(t)-1) :\n",
    "        i_min=i\n",
    "        minimum = t[i]\n",
    "        for j in range(i+1,len(t)) :\n",
    "            if t[j]<minimum:\n",
    "                minimum = t[j]\n",
    "                i_min = j\n",
    "        if i_min != i : \n",
    "            temp=t[i]\n",
    "            t[i]=t[i_min]\n",
    "            t[i_min]=temp\n"
   ]
  },
  {
   "cell_type": "markdown",
   "metadata": {},
   "source": [
    "**Travail à faire** : Indiquez ci-dessous la commande Python permettant de trier le tableau `L=[92, 42, 13, 51, 8]` à l'aide de la fonction `tri_par_selection()`."
   ]
  },
  {
   "cell_type": "code",
   "execution_count": null,
   "metadata": {},
   "outputs": [],
   "source": [
    "##--Indiquez le code Python, puis cliquez sur Run--##\n"
   ]
  },
  {
   "cell_type": "markdown",
   "metadata": {},
   "source": [
    "**Travail à faire** : Indiquez ci-dessous la commande Python permettant de vérifier que la tableau L est maintenant trié."
   ]
  },
  {
   "cell_type": "code",
   "execution_count": null,
   "metadata": {},
   "outputs": [],
   "source": [
    "##--Indiquez le code Python, puis cliquez sur Run--##\n"
   ]
  },
  {
   "cell_type": "markdown",
   "metadata": {},
   "source": [
    "## 5. Mesure du temps d'éxécution du tri par sélection\n",
    "\n",
    "De la même façon que la fonction `temps_execution_sort`, écrivez une fonction `temps_execution_tri_par_selection`, prenant `t` un tableau comme argument d'entrée, et renvoyant la durée d'exécution en millisecondes de la fonction `tri_par_selection()` sur le tableau `t`.\n",
    "\n",
    "**Travail à faire** : Indiquez ci-dessous le code Python de la fonction `temps_execution_tri_par_selection`."
   ]
  },
  {
   "cell_type": "code",
   "execution_count": null,
   "metadata": {},
   "outputs": [],
   "source": [
    "##--Indiquez le code Python, puis cliquez sur Run--##\n",
    "def temps_execution_tri_par_selection (t):\n"
   ]
  },
  {
   "cell_type": "markdown",
   "metadata": {},
   "source": [
    "**Travail à faire** : De la même façon que précédemment, écrivez ci-dessous le code Python permettant de créer par compréhension le tableau `Mesures_tri_par_selection` contenant les 4 mesures des tableaux stockés dans le tableau `T_a_traiter`.\n",
    "\n",
    "L'instruction `T_a_traiter = copy.deepcopy(T_init)` permettra de garantir la valeur initiale de `T_a_traiter` avant son tri.\n",
    "\n",
    "L'éxécution de ce code peux prendre quelques instants suivant la configuration de votre machine."
   ]
  },
  {
   "cell_type": "code",
   "execution_count": null,
   "metadata": {},
   "outputs": [],
   "source": [
    "T_a_traiter = copy.deepcopy(T_init)\n",
    "##--Indiquez le code Python, puis cliquez sur Run--##\n"
   ]
  },
  {
   "cell_type": "markdown",
   "metadata": {},
   "source": [
    "**Travail à faire** : Indiquez ci-dessous le code Python permettant de lire le contenu de `Mesures_tri_par_selection` puis, double cliquez sur la cellule contenant le document réponse en début de ce document, afin de compléter la ligne correspondant à `Tri par sélection`."
   ]
  },
  {
   "cell_type": "code",
   "execution_count": null,
   "metadata": {},
   "outputs": [],
   "source": [
    "##--Indiquez le code Python, puis cliquez sur Run--##\n"
   ]
  },
  {
   "cell_type": "markdown",
   "metadata": {},
   "source": [
    "## 6. Algorithme de tri par insertion\n",
    "\n",
    "\n",
    "La traduction en Python de l'algorithme de tri par insertion est donné ci-dessous.\n",
    "\n",
    "**Travail à faire** : Positionnez vous sur la cellule suivante, puis cliquez sur `Run`."
   ]
  },
  {
   "cell_type": "code",
   "execution_count": null,
   "metadata": {},
   "outputs": [],
   "source": [
    "def tri_par_insertion(T):\n",
    "    for i in range(1,len(T)):\n",
    "        temp=T[i]\n",
    "        j=i\n",
    "        while temp< T[j-1] and j>0 :\n",
    "            T[j]=T[j-1]\n",
    "            j=j-1\n",
    "        T[j]=temp\n",
    "    return(T)\n"
   ]
  },
  {
   "cell_type": "markdown",
   "metadata": {},
   "source": [
    "**Travail à faire** : Indiquez ci-dessous la commande Python permettant de trier le tableau `L=[12, 4, 100, 5, 99]` à l'aide de la fonction `tri_par_insertion()`."
   ]
  },
  {
   "cell_type": "code",
   "execution_count": null,
   "metadata": {},
   "outputs": [],
   "source": [
    "##--Indiquez le code Python, puis cliquez sur Run--##\n"
   ]
  },
  {
   "cell_type": "markdown",
   "metadata": {},
   "source": [
    "**Travail à faire** : Indiquez ci-dessous la commande Python permettant de vérifier que la tableau L est maintenant trié."
   ]
  },
  {
   "cell_type": "code",
   "execution_count": null,
   "metadata": {},
   "outputs": [],
   "source": [
    "##--Indiquez le code Python, puis cliquez sur Run--##\n"
   ]
  },
  {
   "cell_type": "markdown",
   "metadata": {},
   "source": [
    "## 7. Mesure du temps d'éxécution du tri par insertion\n",
    "\n",
    "De la même façon que précédemment, écrivez une fonction `temps_execution_tri_par_insertion`, prenant `t` un tableau comme argument d'entrée, et renvoyant la durée d'exécution en millisecondes de la fonction `tri_par_insertion()` sur le tableau `t`.\n",
    "\n",
    "**Travail à faire** : Indiquez ci-dessous le code Python de la fonction `temps_execution_tri_par_insertion`."
   ]
  },
  {
   "cell_type": "code",
   "execution_count": null,
   "metadata": {},
   "outputs": [],
   "source": [
    "##--Indiquez le code Python, puis cliquez sur Run--##\n",
    "def temps_execution_tri_par_insertion (t):\n"
   ]
  },
  {
   "cell_type": "markdown",
   "metadata": {},
   "source": [
    "**Travail à faire** : De la même façon que précédemment, écrivez ci-dessous le code Python permettant de créer par compréhension le tableau `Mesures_tri_par_insertion` contenant les 4 mesures des tableaux stockés dans le tableau `T_a_traiter`.\n",
    "\n",
    "L'instruction `T_a_traiter = copy.deepcopy(T_init)` permettra de garantir la valeur initiale de `T_a_traiter` avant son tri.\n",
    "\n",
    "L'éxécution de ce code peux prendre quelques instants suivant la configuration de votre machine."
   ]
  },
  {
   "cell_type": "code",
   "execution_count": null,
   "metadata": {},
   "outputs": [],
   "source": [
    "T_a_traiter = copy.deepcopy(T_init)\n",
    "##--Indiquez le code Python, puis cliquez sur Run--##\n"
   ]
  },
  {
   "cell_type": "markdown",
   "metadata": {},
   "source": [
    "**Travail à faire** : Indiquez ci-dessous le code Python permettant de lire le contenu de `Mesures_tri_par_insertion` puis, double cliquez sur la cellule contenant le document réponse en début de ce document, afin de compléter la ligne correspondant à `Tri par insertion`."
   ]
  },
  {
   "cell_type": "code",
   "execution_count": null,
   "metadata": {},
   "outputs": [],
   "source": [
    "##--Indiquez le code Python, puis cliquez sur Run--##\n"
   ]
  },
  {
   "cell_type": "markdown",
   "metadata": {},
   "source": [
    "## 8. Conclusion\n",
    "\n",
    "**Travail à faire** : Comparer les temps d'éxécution des solutions de tri. Indiquez pour chacune des solutions si la complexité du tri est plutôt constante, linéaire ou quadratique."
   ]
  },
  {
   "cell_type": "code",
   "execution_count": null,
   "metadata": {},
   "outputs": [],
   "source": [
    "##--Indiquez votre réponse--##\n"
   ]
  },
  {
   "cell_type": "markdown",
   "metadata": {},
   "source": [
    "# <span font style='color:red'>Sauvegardez, puis déposez votre fichier via le cahier de textes"
   ]
  }
 ],
 "metadata": {
  "kernelspec": {
   "display_name": "Python 3",
   "language": "python",
   "name": "python3"
  },
  "language_info": {
   "codemirror_mode": {
    "name": "ipython",
    "version": 3
   },
   "file_extension": ".py",
   "mimetype": "text/x-python",
   "name": "python",
   "nbconvert_exporter": "python",
   "pygments_lexer": "ipython3",
   "version": "3.9.2"
  }
 },
 "nbformat": 4,
 "nbformat_minor": 4
}
