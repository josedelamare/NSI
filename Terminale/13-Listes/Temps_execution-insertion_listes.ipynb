{
 "cells": [
  {
   "cell_type": "markdown",
   "metadata": {},
   "source": [
    "# <center>Remplissage d'une liste - Mesure du temps d'exécution</center>"
   ]
  },
  {
   "cell_type": "markdown",
   "metadata": {},
   "source": [
    "Indiquez votre nom et votre prénom dans la cellule ci-dessous :"
   ]
  },
  {
   "cell_type": "code",
   "execution_count": null,
   "metadata": {},
   "outputs": [],
   "source": [
    "# Nom : "
   ]
  },
  {
   "cell_type": "markdown",
   "metadata": {},
   "source": [
    "La cellule suivante permet d'utiliser les modules random, matplotlib et time.\n",
    "\n",
    "> Positionnez vous sur la cellule suivante, puis cliquez sur `Run`."
   ]
  },
  {
   "cell_type": "code",
   "execution_count": null,
   "metadata": {},
   "outputs": [],
   "source": [
    "## Import des modules\n",
    "from random import randint\n",
    "import matplotlib.pyplot as plt\n",
    "import time"
   ]
  },
  {
   "cell_type": "markdown",
   "metadata": {},
   "source": [
    "---\n",
    "## Mise en place des outils"
   ]
  },
  {
   "cell_type": "markdown",
   "metadata": {},
   "source": [
    "### Le tableau statique\n",
    "\n",
    "On implémente un tableau statique. Cette structure est non mutable.\n",
    "\n",
    "La fonction *ajout_tete()* permet d'ajouter un nouvel élément en tête du tableau. Pour cela, on procède de la façon suivante :\n",
    "- on crée un nouveau tableau dont la taille est égale à celle de l'ancien tableau + 1\n",
    "- on copie chaque élément du tableau dans le nouveau tableau, en prenant soin de décaler chaque élément d'une case vers la droite\n",
    "- on ajoute le nouvel élément x dans le nouveau tableau, en première position\n",
    "\n",
    "> **Travail à faire** : exécutez la cellule ci-dessous"
   ]
  },
  {
   "cell_type": "code",
   "execution_count": null,
   "metadata": {},
   "outputs": [],
   "source": [
    "def ajout_tete(tableau, x):\n",
    "    new_tableau =  [0]*(len(tableau) + 1)\n",
    "    for i in range(0, len(tableau), 1):\n",
    "        new_tableau[i+1] = tableau[i]\n",
    "    new_tableau[0] = x\n",
    "    return new_tableau"
   ]
  },
  {
   "cell_type": "markdown",
   "metadata": {},
   "source": [
    "> **Travail à faire** : Indiquez dans la cellule ci-dessous les instructions permettant d'ajouter la valeur 5 en tête du tableau *toto*"
   ]
  },
  {
   "cell_type": "code",
   "execution_count": null,
   "metadata": {},
   "outputs": [],
   "source": [
    "toto = [2, 3, 6, 25, 9, 1, 4]\n",
    "##--Indiquez le code Python, puis cliquez sur Run--##\n"
   ]
  },
  {
   "cell_type": "markdown",
   "metadata": {},
   "source": [
    "> **Travail à faire** : Vérifiez la bonne exécution de votre code en exécutant la cellule ci-dessous"
   ]
  },
  {
   "cell_type": "code",
   "execution_count": null,
   "metadata": {},
   "outputs": [],
   "source": [
    "toto"
   ]
  },
  {
   "cell_type": "markdown",
   "metadata": {},
   "source": [
    "### La liste chaînée\n",
    "\n",
    "Grâce à la programmation objet, on peut créer deux classes : **Maillon** et **Liste**. Chaque instance de la classe **Maillon** aura deux attributs :\n",
    "- valeur : \n",
    "- maillon_suivant (la cellule suivante) Lorsqu’il n’y a pas de cellule suivante, on utilise **None**. \n",
    "\n",
    "Chaque instance de la classe **Liste** aura un seul attribut : *premier_maillon*\n",
    "\n",
    "> **Travail à faire** : Exécutez la cellule suivante"
   ]
  },
  {
   "cell_type": "code",
   "execution_count": null,
   "metadata": {},
   "outputs": [],
   "source": [
    "class Maillon:\n",
    "    def __init__(self, valeur, suivant):\n",
    "        self.valeur = valeur\n",
    "        self.maillon_suivant = suivant\n",
    "\n",
    "class Liste:\n",
    "    def __init__(self, maillon):\n",
    "        self.premier_maillon = maillon\n",
    "    \n",
    "    def __str__(self):\n",
    "        chaine = \"\"\n",
    "        cell = self.premier_maillon\n",
    "        while cell != None:\n",
    "            chaine = chaine + str(cell.valeur)\n",
    "            if cell.maillon_suivant != None:\n",
    "                chaine = chaine + \" -> \"\n",
    "            cell = cell.maillon_suivant\n",
    "        return chaine\n",
    "        \n",
    "    def ajout_tete(self, valeur):\n",
    "        cell = Maillon(valeur, self.premier_maillon)\n",
    "        self.premier_maillon = cell"
   ]
  },
  {
   "cell_type": "markdown",
   "metadata": {},
   "source": [
    "> **Travail à faire** : Indiquez dans la cellule ci-dessous les instructions permettant d'ajouter la valeur 5 en tête du tableau *toto*"
   ]
  },
  {
   "cell_type": "code",
   "execution_count": null,
   "metadata": {},
   "outputs": [],
   "source": [
    "toto = Liste(Maillon(2, Maillon(3, Maillon(6, Maillon(25, Maillon(9, Maillon(1, Maillon(4, None))))))))\n",
    "##--Indiquez le code Python, puis cliquez sur Run--##\n"
   ]
  },
  {
   "cell_type": "markdown",
   "metadata": {},
   "source": [
    "> **Travail à faire** : Vérifiez la bonne exécution de votre code en exécutant la cellule ci-dessous"
   ]
  },
  {
   "cell_type": "code",
   "execution_count": null,
   "metadata": {},
   "outputs": [],
   "source": [
    "print(toto)"
   ]
  },
  {
   "cell_type": "markdown",
   "metadata": {},
   "source": [
    "### Tracé de courbes\n",
    "La cellule suivante permet de définir la fonction $trace$, déjà vue dans un précédent TP.\n",
    "\n",
    "> Positionnez vous sur la cellule suivante, puis cliquez sur `Run`."
   ]
  },
  {
   "cell_type": "code",
   "execution_count": null,
   "metadata": {},
   "outputs": [],
   "source": [
    "def trace(x, y):\n",
    "    \"\"\"fonction qui trace un graphique avec X en abscisses et Y en ordonnées\"\"\"\n",
    "    \n",
    "    plt.scatter(x, y, label= \"Durée d'exécution en fonction du nombre d'éléments dans une liste\")\n",
    "    plt.show()"
   ]
  },
  {
   "cell_type": "markdown",
   "metadata": {},
   "source": [
    "> Indiquez ci-dessous la commande Python permettant de tracer `liste2` en fonction de `liste1`."
   ]
  },
  {
   "cell_type": "code",
   "execution_count": null,
   "metadata": {},
   "outputs": [],
   "source": [
    "liste1 = [0, 1, 2, 3, 4, 5, 6, 7, 8, 9]\n",
    "liste2 = [0, 2, 4, 6, 8, 10, 12, 14, 16, 18]\n",
    "\n",
    "##--Indiquez le code Python, puis cliquez sur Run--##\n"
   ]
  },
  {
   "cell_type": "markdown",
   "metadata": {},
   "source": [
    "### Le module time\n",
    "    \n",
    "L'instruction  $time.perf\\_counter()$ s'utilise comme l'instruction $time.time()$ (Durée éxécution = Temps de fin - Temps de départ). Elle permet le chronométrage du temps d'éxécution d'un programme à l'échelle du système en revoyant un réel correspondant à des fractions de secondes. Cette mesure de temps est issue d'un compteur avec une très grande précison pour mesurer des temps très courts.\n",
    "\n",
    "> Indiquez ci-dessous la commande Python permettant de connaître le temps issu de ce compteur."
   ]
  },
  {
   "cell_type": "code",
   "execution_count": null,
   "metadata": {},
   "outputs": [],
   "source": [
    "##--Indiquez le code Python, puis cliquez sur Run--##\n",
    "print(time.perf_counter())"
   ]
  },
  {
   "cell_type": "markdown",
   "metadata": {},
   "source": [
    "---\n",
    "## Tracé du temps d'exécution en fonction du nombre n d'éléments à insérer dans la liste\n",
    "\n",
    "Pour voir l'évolution du temps d'exécution en fonction du nombre n d'éléments dans une liste, on va réaliser la succession d'opérations suivantes, où n représente le nombre maximum d'éléments dans la liste:\n",
    "- créer une liste $liste\\_temps\\_tableau$ contenant n fois la valeur 0,\n",
    "- créer une liste $liste\\_n$ contenant [1, 2, . . . , n] (utilisez de préférence une liste par compréhension),\n",
    "- itérer sur $liste\\_n$. Pour chaque valeur i de la liste :\n",
    "    - utiliser la fonction perf\\_counter() du module time pour déterminer le temps d'exécution de la fonction $ajout\\_tete()$ pour une liste de taille i. **ATTENTION : multiplier le temps par 1000 pour l'avoir directement en millisecondes**,\n",
    "        - créer une variable ***debut*** contenant la valeur de l'instruction $time.perf\\_counter()$\n",
    "        - exécuter la fonction $ajout\\_tete()$ pour ajouter i à $tableau\\_a\\_remplir$ (voir la partie *Le tableau statique*)\n",
    "        - créer une variable ***fin*** contenant la valeur de l'instruction $time.perf\\_counter()$\n",
    "        - créer une variable ***duree*** contenant la différence ***fin - debut***\n",
    "    - insérer dans liste_temps, la valeur du temps d'exécution précédemment trouvé. **N'oubliez pas que pour n = 1, on remplit liste_temps[0]**,\n",
    "- utiliser la fonction $trace$ pour tracer le graphique donnant le temps d'exécution en fonction du nombre d'éléments dans la liste : temps_execution = f(i).\n",
    "\n",
    "\n",
    "#### Écrivez une fonction $trace\\_temps\\_tableau$, d'argument `n`, permettant de réaliser l'ensemble de ces opérations."
   ]
  },
  {
   "cell_type": "code",
   "execution_count": null,
   "metadata": {},
   "outputs": [],
   "source": [
    "def trace_temps_tableau(n): \n",
    "    tableau_a_remplir = []  \n",
    "    ##--Indiquez le code Python, puis cliquez sur Run--##  \n",
    "    "
   ]
  },
  {
   "cell_type": "markdown",
   "metadata": {},
   "source": [
    "Exécutez cette fonction lorsque n prend la valeur 10, 100.\n",
    "\n",
    "> Positionnez vous sur la cellule suivante, entrez le code Python répondant à la consigne, puis cliquez sur `Run`."
   ]
  },
  {
   "cell_type": "code",
   "execution_count": null,
   "metadata": {},
   "outputs": [],
   "source": [
    "##--Indiquez le code Python, puis cliquez sur Run--##\n"
   ]
  },
  {
   "cell_type": "markdown",
   "metadata": {},
   "source": [
    "1. Quelle est la forme du graphique ?\n",
    "2. Le coût en temps est-il linéaire ?"
   ]
  },
  {
   "cell_type": "code",
   "execution_count": null,
   "metadata": {},
   "outputs": [],
   "source": [
    "##--Ecrivez vos réponses ici, sans exécuter la cellule--##\n"
   ]
  },
  {
   "cell_type": "markdown",
   "metadata": {},
   "source": [
    "---\n",
    "## Comparaison du temps d'exécution\n",
    "\n",
    "On va comparer le temps d'exécution de l'ajout en tête pour l'implémentation d'une liste par un tableau ou par une liste chaînée.\n",
    "\n",
    "> **Travail à faire** : Exécutez la cellule ci-dessous"
   ]
  },
  {
   "cell_type": "code",
   "execution_count": null,
   "metadata": {},
   "outputs": [],
   "source": [
    "def comparaison_temps(n):\n",
    "    liste_tableau = []\n",
    "    liste_chaine = Liste(Maillon(1, None))\n",
    "    liste_temps_tableau= n*[0]\n",
    "    liste_temps_chaine = n*[0]\n",
    "    liste_n = [i for i in range (1,n+1,1)]\n",
    "    for i in liste_n:\n",
    "        debut = 1000*time.perf_counter()\n",
    "        liste_tableau = ajout_tete(liste_tableau,0)\n",
    "        fin = 1000*time.perf_counter()\n",
    "        liste_temps_tableau[i-1] = fin-debut\n",
    "        debut = 1000*time.perf_counter()\n",
    "        liste_chaine.ajout_tete(0)\n",
    "        fin = 1000*time.perf_counter()\n",
    "        liste_temps_chaine[i-1] = fin-debut\n",
    "        \n",
    "    plt.scatter(liste_n, liste_temps_tableau, label= \"Tableau statique\")\n",
    "    plt.scatter(liste_n, liste_temps_chaine, label= \"Liste chaînée\")\n",
    "    plt.axis([0, max(liste_n), -0.001, 2*(sum(liste_temps_tableau)/len(liste_temps_tableau))])\n",
    "    plt.legend()\n",
    "    plt.show()"
   ]
  },
  {
   "cell_type": "code",
   "execution_count": null,
   "metadata": {},
   "outputs": [],
   "source": [
    "comparaison_temps(200)"
   ]
  },
  {
   "cell_type": "code",
   "execution_count": null,
   "metadata": {},
   "outputs": [],
   "source": [
    "comparaison_temps(1000)"
   ]
  },
  {
   "cell_type": "code",
   "execution_count": null,
   "metadata": {},
   "outputs": [],
   "source": [
    "comparaison_temps(2000)"
   ]
  },
  {
   "cell_type": "markdown",
   "metadata": {},
   "source": [
    "---\n",
    "## Conclusion\n",
    "\n",
    "Comparer les temps d'éxécutions d'un tableau statique et d'une liste chaînée."
   ]
  },
  {
   "cell_type": "code",
   "execution_count": null,
   "metadata": {},
   "outputs": [],
   "source": [
    "##--Ecrivez vos réponses ici, sans exécuter la cellule--##\n"
   ]
  },
  {
   "cell_type": "markdown",
   "metadata": {},
   "source": [
    "---\n",
    "Enregistrez votre Notebook (voir image ci-dessous), puis déposez-le dans le casier de votre professeur.\n",
    "\n",
    "![enregistrer](enregistrer.png)"
   ]
  }
 ],
 "metadata": {
  "kernelspec": {
   "display_name": "Python 3",
   "language": "python",
   "name": "python3"
  },
  "language_info": {
   "codemirror_mode": {
    "name": "ipython",
    "version": 3
   },
   "file_extension": ".py",
   "mimetype": "text/x-python",
   "name": "python",
   "nbconvert_exporter": "python",
   "pygments_lexer": "ipython3",
   "version": "3.8.3"
  }
 },
 "nbformat": 4,
 "nbformat_minor": 4
}
