{
 "cells": [
  {
   "cell_type": "markdown",
   "metadata": {},
   "source": [
    "# <center>Dictionnaires et listes : test d'appartenance</center>"
   ]
  },
  {
   "cell_type": "markdown",
   "metadata": {},
   "source": [
    "| **Contenus** | **Capacités attendues** |\n",
    "|--------------|-------------------------|\n",
    "| Dictionnaires, index et clé | Distinguer la recherche d’une valeur dans une liste et dans un dictionnaire |"
   ]
  },
  {
   "cell_type": "markdown",
   "metadata": {},
   "source": [
    "Indiquez votre nom et votre prénom dans la cellule ci-dessous :"
   ]
  },
  {
   "cell_type": "code",
   "execution_count": null,
   "metadata": {},
   "outputs": [],
   "source": [
    "# Nom : "
   ]
  },
  {
   "cell_type": "markdown",
   "metadata": {},
   "source": [
    "---\n",
    ">**Travail à faire** : Exécutez la cellule ci-dessous pour importer les modules nécessaires"
   ]
  },
  {
   "cell_type": "code",
   "execution_count": null,
   "metadata": {},
   "outputs": [],
   "source": [
    "from IPython.display import Audio,Image, YouTubeVideo\n",
    "from matplotlib import pyplot as plt\n",
    "from time import perf_counter"
   ]
  },
  {
   "cell_type": "markdown",
   "metadata": {},
   "source": [
    "---\n",
    "## 1. Retour sur les dictionnaires"
   ]
  },
  {
   "cell_type": "markdown",
   "metadata": {},
   "source": [
    "### 1.a. Dictionnaire, clé, valeur\n",
    "\n",
    "\n",
    "\n",
    "Les dictionnaires ont déjà été étudiés en classe de première. Pour rappel, ce type de données, aussi appelé tableau associatif, permet de stocker des valeurs et d'y accéder au moyen d'une clé. Il est habituellement muni des opérations suivantes :\n",
    "\n",
    "- **ajout** d'une nouvelle valeur associée à une nouvelle clé (on parlera de nouveau couple clé-valeur)\n",
    "- **modification** d'une valeur associée à une clé existante\n",
    "- **suppression** d'un couple clé-valeur\n",
    "- **récupération** de la valeur associée à une clé donnée.\n",
    "\n",
    "Un répertoire téléphonique est un exemple de dictionnaire :\n",
    "\n",
    "- les **clés** sont les noms\n",
    "- les **valeurs** sont les numéros de téléphone\n",
    "\n",
    "Rappelons pour l'instant qu'un dictionnaire est de la forme :"
   ]
  },
  {
   "cell_type": "code",
   "execution_count": null,
   "metadata": {},
   "outputs": [],
   "source": [
    "contacts = {\"Antoine\":\"0648653125\", \"Kylian\":\"0712369503\", \"Paul\":\"0613784596\"}"
   ]
  },
  {
   "cell_type": "markdown",
   "metadata": {},
   "source": [
    "et qu'on accède à une valeur par la syntaxe :"
   ]
  },
  {
   "cell_type": "code",
   "execution_count": null,
   "metadata": {},
   "outputs": [],
   "source": [
    "contacts[\"Kylian\"]"
   ]
  },
  {
   "cell_type": "markdown",
   "metadata": {},
   "source": [
    "Dans cet exemple, \"Kylian\" est une clé et \"0712369503\" est la valeur qui lui est associée."
   ]
  },
  {
   "cell_type": "markdown",
   "metadata": {},
   "source": [
    "### 1.b. Ajout / Modification / Suppression d'un élément dans un dictionnaire"
   ]
  },
  {
   "cell_type": "markdown",
   "metadata": {},
   "source": [
    "Pour ajouter un élément dans un dictionnaire, pas besoin d'une méthode append(). Il suffit de rajouter une paire clé : valeur\n",
    ">**Travail à faire** : Exécutez la cellule ci-dessous pour ajouter une nouvelle paire au dictionnaire *contacts*"
   ]
  },
  {
   "cell_type": "code",
   "execution_count": null,
   "metadata": {},
   "outputs": [],
   "source": [
    "contacts[\"Albert\"] = \"0627929034\""
   ]
  },
  {
   "cell_type": "markdown",
   "metadata": {},
   "source": [
    "L'affichage du dictionnaire *contacts* permet de vérifier qu'une nouvelle paire clé : valeur a été créée.\n",
    ">**Travail à faire** : Exécutez la cellule ci-dessous pour voir le contenu du dictionnaire"
   ]
  },
  {
   "cell_type": "code",
   "execution_count": null,
   "metadata": {},
   "outputs": [],
   "source": [
    "contacts"
   ]
  },
  {
   "cell_type": "markdown",
   "metadata": {},
   "source": [
    "La modification d'une paire clé : valeur se fait de la même façon que la création\n",
    "> **Travail à faire** : Exécutez la cellule ci-dessous pour modifier la clé *Albert*"
   ]
  },
  {
   "cell_type": "code",
   "execution_count": null,
   "metadata": {},
   "outputs": [],
   "source": [
    "contacts[\"Albert\"] = \"0228560345\""
   ]
  },
  {
   "cell_type": "markdown",
   "metadata": {},
   "source": [
    "L'affichage du dictionnaire *contacts* permet de vérifier qu'une nouvelle paire clé : valeur a été créée.\n",
    ">**Travail à faire** : Exécutez la cellule ci-dessous pour voir le contenu du dictionnaire"
   ]
  },
  {
   "cell_type": "code",
   "execution_count": null,
   "metadata": {},
   "outputs": [],
   "source": [
    "contacts"
   ]
  },
  {
   "cell_type": "markdown",
   "metadata": {},
   "source": [
    "La suppression d'une paire clé : valeur se fait par l'instruction `del`.\n",
    "> **Travail à faire** : Exécutez la cellule ci-dessous pour modifier la clé *Albert*"
   ]
  },
  {
   "cell_type": "code",
   "execution_count": null,
   "metadata": {},
   "outputs": [],
   "source": [
    "del contacts[\"Albert\"]"
   ]
  },
  {
   "cell_type": "markdown",
   "metadata": {},
   "source": [
    "L'affichage du dictionnaire *contacts* permet de vérifier qu'une nouvelle paire clé : valeur a été créée.\n",
    ">**Travail à faire** : Exécutez la cellule ci-dessous pour voir le contenu du dictionnaire"
   ]
  },
  {
   "cell_type": "code",
   "execution_count": null,
   "metadata": {},
   "outputs": [],
   "source": [
    "contacts"
   ]
  },
  {
   "cell_type": "markdown",
   "metadata": {},
   "source": [
    "### 1.c. Parcours par clé, parcours par valeur, parcours par items"
   ]
  },
  {
   "cell_type": "markdown",
   "metadata": {},
   "source": [
    "La méthode `.keys()` permet de générer l'ensemble de la liste des clés d'un dictionnaire. \n",
    ">**Travail à faire** : Exécutez la cellule ci-dessous pour voir la liste des clés"
   ]
  },
  {
   "cell_type": "code",
   "execution_count": null,
   "metadata": {},
   "outputs": [],
   "source": [
    "contacts.keys()"
   ]
  },
  {
   "cell_type": "markdown",
   "metadata": {},
   "source": [
    "La méthode `.values()` permet de générer l'ensemble de la liste des valeurs d'un dictionnaire.\n",
    ">**Travail à faire** : Exécutez la cellule ci-dessous pour voir la liste des valeurs"
   ]
  },
  {
   "cell_type": "code",
   "execution_count": null,
   "metadata": {},
   "outputs": [],
   "source": [
    "contacts.values()"
   ]
  },
  {
   "cell_type": "markdown",
   "metadata": {},
   "source": [
    "La méthode `.items()` permet de retrouver la liste des ensembles clé : valeur d'un dictionnaire.\n",
    ">**Travail à faire** : Exécutez la cellule ci-dessous pour voir la liste des ensembles clé : valeur"
   ]
  },
  {
   "cell_type": "code",
   "execution_count": null,
   "metadata": {},
   "outputs": [],
   "source": [
    "contacts.items()"
   ]
  },
  {
   "cell_type": "markdown",
   "metadata": {},
   "source": [
    "### 1.d. Résumé"
   ]
  },
  {
   "cell_type": "markdown",
   "metadata": {},
   "source": [
    ">**Travail à faire** : Exécutez la cellule ci-dessous pour voir une vidéo explicative"
   ]
  },
  {
   "cell_type": "code",
   "execution_count": null,
   "metadata": {},
   "outputs": [],
   "source": [
    "YouTubeVideo(\"VnhBoQAgIVs\", width=800, height=600)"
   ]
  },
  {
   "cell_type": "markdown",
   "metadata": {},
   "source": [
    "### 1.e. Travail personnel"
   ]
  },
  {
   "cell_type": "markdown",
   "metadata": {},
   "source": [
    "On souhaite créer un dictionnaire *dressing*, dont les clés désignent des habits, et les valeurs désignent le nombre de chacun dans le dressing.\n",
    "Par exemple, \n",
    "```Python\n",
    "{\"pantalons\" : 3}\n",
    "```\n",
    "signifie qu'il y a 3 pantalons dans le dressing.\n",
    "\n",
    "> **Travail à faire** : Créez le dictionnaire *dressing*, indiquant qu'il y a :\n",
    "- 3 pantalons\n",
    "- 4 pulls\n",
    "- 8 cravattes"
   ]
  },
  {
   "cell_type": "code",
   "execution_count": null,
   "metadata": {},
   "outputs": [],
   "source": [
    "##--Indiquez le code Python, puis cliquez sur Run--##\n",
    "dressing = "
   ]
  },
  {
   "cell_type": "markdown",
   "metadata": {},
   "source": [
    "On souhaite créer une fonction *achat()* prenant *dico* et *habit* en argument, et qui augmente de 1 le nombre d'habits (pantalon, pull ou cravatte) de mon dictionnaire.\n",
    "> **Travail à faire** : Complétez la fonction *achat()*"
   ]
  },
  {
   "cell_type": "code",
   "execution_count": null,
   "metadata": {},
   "outputs": [],
   "source": [
    "def achat(dico, habit):\n",
    "    ##--Indiquez le code Python, puis cliquez sur Run--##\n",
    "    "
   ]
  },
  {
   "cell_type": "markdown",
   "metadata": {},
   "source": [
    "> **Travail à faire** : Exécutez la cellule ci-dessous pour vérifier votre travail"
   ]
  },
  {
   "cell_type": "code",
   "execution_count": null,
   "metadata": {},
   "outputs": [],
   "source": [
    "print(dressing)\n",
    "achat(dressing, \"pantalons\")\n",
    "print(dressing)"
   ]
  },
  {
   "cell_type": "markdown",
   "metadata": {},
   "source": [
    "On souhaite maintenant créer une fonction *est_present()* prenant *dico* et *vetement* en argument, et qui renvoie `True` si *vetement* est une clé de *dico*, et `False` sinon.\n",
    "> **Travail à faire** : Complétez la fonction *est_present()*"
   ]
  },
  {
   "cell_type": "code",
   "execution_count": null,
   "metadata": {},
   "outputs": [],
   "source": [
    "def est_present(dico, vetement):\n",
    "    ##--Indiquez le code Python, puis cliquez sur Run--##\n",
    "    "
   ]
  },
  {
   "cell_type": "markdown",
   "metadata": {},
   "source": [
    "> **Travail à faire** : Exécutez la cellule ci-dessous pour vérifier votre travail"
   ]
  },
  {
   "cell_type": "code",
   "execution_count": null,
   "metadata": {},
   "outputs": [],
   "source": [
    "print(dressing)\n",
    "est_present(dressing, \"pantalons\")"
   ]
  },
  {
   "cell_type": "markdown",
   "metadata": {},
   "source": [
    "On souhaite maintenant créer une fonction *vetement()* prenant *dico* et *quantite* en argument, et qui renvoie une liste de vêtements dont le nombre est strictement supérieur à *quantite*. Pour cela, on effectuera un parcours par items.\n",
    "> **Travail à faire** : Complétez la fonction *vetement()*"
   ]
  },
  {
   "cell_type": "code",
   "execution_count": null,
   "metadata": {},
   "outputs": [],
   "source": [
    "def vetement(dico, quantite):\n",
    "    ##--Indiquez le code Python, puis cliquez sur Run--##\n",
    "    "
   ]
  },
  {
   "cell_type": "markdown",
   "metadata": {},
   "source": [
    "> **Travail à faire** : Exécutez la cellule ci-dessous pour vérifier votre travail"
   ]
  },
  {
   "cell_type": "code",
   "execution_count": null,
   "metadata": {},
   "outputs": [],
   "source": [
    "print(dressing)\n",
    "vetement(dressing, 4)"
   ]
  },
  {
   "cell_type": "markdown",
   "metadata": {},
   "source": [
    "---\n",
    "## 2. Dictionnaire et temps d'accès aux clés"
   ]
  },
  {
   "cell_type": "markdown",
   "metadata": {},
   "source": [
    "### 2.1 Préparation des mesures\n",
    "\n",
    "Considérons deux fonctions *fabrique_liste()* et *fabrique_dict()* capables de fabriquer respectivement des listes et des dictionnaires de taille donnée en paramètre."
   ]
  },
  {
   "cell_type": "code",
   "execution_count": null,
   "metadata": {},
   "outputs": [],
   "source": [
    "def fabrique_liste(nb):\n",
    "    lst = [k**2 for k in range(nb)]\n",
    "    return lst\n",
    "\n",
    "def fabrique_dict(nb):\n",
    "    dct = {k : k**2 for k in range(0, nb)}\n",
    "    return dct"
   ]
  },
  {
   "cell_type": "markdown",
   "metadata": {},
   "source": [
    "> **Travail à faire** : Exécutez la cellule ci-dessous pour créer une liste et un dictionnaire contenant chacun 10 valeurs"
   ]
  },
  {
   "cell_type": "code",
   "execution_count": null,
   "metadata": {},
   "outputs": [],
   "source": [
    "lst = fabrique_liste(10)\n",
    "dct = fabrique_dict(10)\n",
    "print(lst)\n",
    "print(dct)"
   ]
  },
  {
   "cell_type": "markdown",
   "metadata": {},
   "source": [
    "Le contenu de ces listes ou dictionnaires n'a pas grand intérêt. Dans nos mesures, on y cherchera une valeur qui n'y figure pas : la chaîne de caractères \"a\". On dit qu'on se place **dans le pire des cas**."
   ]
  },
  {
   "cell_type": "markdown",
   "metadata": {},
   "source": [
    "### 2.2 Mesures du temps de recherche"
   ]
  },
  {
   "cell_type": "markdown",
   "metadata": {},
   "source": [
    "**avec 10 éléments dans une liste**"
   ]
  },
  {
   "cell_type": "code",
   "execution_count": null,
   "metadata": {},
   "outputs": [],
   "source": [
    "lst = fabrique_liste(10)\n",
    "%timeit \"a\" in lst"
   ]
  },
  {
   "cell_type": "markdown",
   "metadata": {},
   "source": [
    "**avec 10 éléments dans un dictionnaire**"
   ]
  },
  {
   "cell_type": "code",
   "execution_count": null,
   "metadata": {},
   "outputs": [],
   "source": [
    "dct = fabrique_dict(10)\n",
    "%timeit \"a\" in dct.keys()"
   ]
  },
  {
   "cell_type": "markdown",
   "metadata": {},
   "source": [
    "> **Travail à faire** : Comparez le temps de recherche dans une liste ou dans un dictionnaire"
   ]
  },
  {
   "cell_type": "code",
   "execution_count": null,
   "metadata": {},
   "outputs": [],
   "source": [
    "## insérer ici votre réponse sans cliquer sur Run\n"
   ]
  },
  {
   "cell_type": "markdown",
   "metadata": {},
   "source": [
    "### 2.3 Evolution du temps de recherche en fonction du nombre d'éléments"
   ]
  },
  {
   "cell_type": "markdown",
   "metadata": {},
   "source": [
    "On cherche comment varie le temps d'exécution lorsque le le nombre d'éléments est multiplié par 10 (donc avec 100 valeurs dans la liste ou dans le dictionnaire)"
   ]
  },
  {
   "cell_type": "code",
   "execution_count": null,
   "metadata": {},
   "outputs": [],
   "source": [
    "##--Indiquez le code Python, puis cliquez sur Run--##\n"
   ]
  },
  {
   "cell_type": "markdown",
   "metadata": {},
   "source": [
    "On cherche comment varie le temps d'exécution lorsque le nombre d'éléments est multiplié par 100 (donc avec 1000 valeurs dans la liste ou dans le dictionnaire)"
   ]
  },
  {
   "cell_type": "code",
   "execution_count": null,
   "metadata": {},
   "outputs": [],
   "source": [
    "##--Indiquez le code Python, puis cliquez sur Run--##\n"
   ]
  },
  {
   "cell_type": "markdown",
   "metadata": {},
   "source": [
    "Le temps d'exécution pour la recherche dans une liste dépend-t-il du nombre d'éléments dans la liste ? "
   ]
  },
  {
   "cell_type": "code",
   "execution_count": null,
   "metadata": {},
   "outputs": [],
   "source": [
    "## insérer ici votre réponse sans cliquer sur Run\n"
   ]
  },
  {
   "cell_type": "markdown",
   "metadata": {},
   "source": [
    "Le temps d'exécution pour la recherche dans un dictionnaire dépend-t-il du nombre d'éléments dans le dictionnaire ?"
   ]
  },
  {
   "cell_type": "code",
   "execution_count": null,
   "metadata": {},
   "outputs": [],
   "source": [
    "## insérer ici votre réponse sans cliquer sur Run\n"
   ]
  },
  {
   "cell_type": "markdown",
   "metadata": {},
   "source": [
    "### 2.4. Tracé du temps d'exécution en fonction du nombre d'éléments\n",
    "\n",
    "> **Travail à faire** : Exécutez la cellule ci-dessous pour tracer le temps de recherche d'un élément dans une liste ou dans un dictionnaire"
   ]
  },
  {
   "cell_type": "code",
   "execution_count": null,
   "metadata": {},
   "outputs": [],
   "source": [
    "def mesure_temps(valeur, cible):\n",
    "    debut = 1000*perf_counter()\n",
    "    for i in range (100):\n",
    "        resultat = valeur in cible\n",
    "    fin = 1000*perf_counter()\n",
    "    return (fin - debut)/1000\n",
    "    \n",
    "def trace(n):\n",
    "    temps_liste = n*[0]\n",
    "    temps_dict = n*[0]\n",
    "    liste_n = [i for i in range (1,n+1,1)]\n",
    "    for i in liste_n:\n",
    "        lst = fabrique_liste(i)\n",
    "        dct = fabrique_dict(i)\n",
    "        temps_liste[i-1] = mesure_temps(\"a\", lst)        \n",
    "        temps_dict[i-1] = mesure_temps(\"a\", dct.keys())\n",
    "    plt.scatter(liste_n, temps_liste, label= \"recherche dans une liste\")\n",
    "    plt.scatter(liste_n, temps_dict, label= \"recherche dans un dictionnaire\")\n",
    "    plt.legend()\n",
    "    plt.show()\n",
    "    \n",
    "trace(1000)"
   ]
  },
  {
   "cell_type": "markdown",
   "metadata": {},
   "source": [
    "La complexité en temps d'un algorithme de recherche d'une valeur dans une liste est-elle constante ? linéaire ? quadratique ?"
   ]
  },
  {
   "cell_type": "code",
   "execution_count": null,
   "metadata": {},
   "outputs": [],
   "source": [
    "## insérer ici votre réponse sans cliquer sur Run\n"
   ]
  },
  {
   "cell_type": "markdown",
   "metadata": {},
   "source": [
    "La complexité en temps d'un algorithme de recherche d'une clé dans un dictionnaire est-elle constante ? linéaire ? quadratique ?"
   ]
  },
  {
   "cell_type": "code",
   "execution_count": null,
   "metadata": {},
   "outputs": [],
   "source": [
    "## insérer ici votre réponse sans cliquer sur Run\n"
   ]
  },
  {
   "cell_type": "markdown",
   "metadata": {},
   "source": [
    "---\n",
    "## 3. Dictionnaire et temps d'accès aux valeurs"
   ]
  },
  {
   "cell_type": "markdown",
   "metadata": {},
   "source": [
    "### 3.1 Mesures du temps de recherche"
   ]
  },
  {
   "cell_type": "markdown",
   "metadata": {},
   "source": [
    "**avec 10 éléments dans une liste**"
   ]
  },
  {
   "cell_type": "code",
   "execution_count": null,
   "metadata": {},
   "outputs": [],
   "source": [
    "lst = fabrique_liste(10)\n",
    "%timeit \"a\" in lst"
   ]
  },
  {
   "cell_type": "markdown",
   "metadata": {},
   "source": [
    "**avec 10 éléments dans un dictionnaire**"
   ]
  },
  {
   "cell_type": "code",
   "execution_count": null,
   "metadata": {},
   "outputs": [],
   "source": [
    "dct = fabrique_dict(10)\n",
    "%timeit \"a\" in dct.values()"
   ]
  },
  {
   "cell_type": "markdown",
   "metadata": {},
   "source": [
    "### 3.2 Evolution du temps de recherche en fonction du nombre d'éléments"
   ]
  },
  {
   "cell_type": "markdown",
   "metadata": {},
   "source": [
    "On cherche comment varie le temps d'exécution lorsque le le nombre d'éléments est multiplié par 10 (donc avec 100 valeurs dans la liste ou dans le dictionnaire)"
   ]
  },
  {
   "cell_type": "code",
   "execution_count": null,
   "metadata": {},
   "outputs": [],
   "source": [
    "##--Indiquez le code Python, puis cliquez sur Run--##\n"
   ]
  },
  {
   "cell_type": "markdown",
   "metadata": {},
   "source": [
    "On cherche comment varie le temps d'exécution lorsque le nombre d'éléments est multiplié par 100 (donc avec 1000 valeurs dans la liste ou dans le dictionnaire)"
   ]
  },
  {
   "cell_type": "code",
   "execution_count": null,
   "metadata": {},
   "outputs": [],
   "source": [
    "##--Indiquez le code Python, puis cliquez sur Run--##\n"
   ]
  },
  {
   "cell_type": "markdown",
   "metadata": {},
   "source": [
    "Le temps d'exécution pour la recherche dans une liste dépend-t-il du nombre d'éléments dans la liste ? "
   ]
  },
  {
   "cell_type": "code",
   "execution_count": null,
   "metadata": {},
   "outputs": [],
   "source": [
    "## insérer ici votre réponse sans cliquer sur Run\n"
   ]
  },
  {
   "cell_type": "markdown",
   "metadata": {},
   "source": [
    "Le temps d'exécution pour la recherche dans un dictionnaire dépend-t-il du nombre d'éléments dans le dictionnaire ? "
   ]
  },
  {
   "cell_type": "code",
   "execution_count": null,
   "metadata": {},
   "outputs": [],
   "source": [
    "## insérer ici votre réponse sans cliquer sur Run\n"
   ]
  },
  {
   "cell_type": "code",
   "execution_count": null,
   "metadata": {},
   "outputs": [],
   "source": [
    "def mesure_temps(valeur, cible):\n",
    "    debut = 1000*perf_counter()\n",
    "    for i in range (100):\n",
    "        resultat = valeur in cible\n",
    "    fin = 1000*perf_counter()\n",
    "    return (fin - debut)/1000\n",
    "    \n",
    "def trace(n):\n",
    "    temps_liste = n*[0]\n",
    "    temps_dict = n*[0]\n",
    "    temps_dict2 = n*[0]\n",
    "    liste_n = [i for i in range (1,n+1,1)]\n",
    "    for i in liste_n:\n",
    "        lst = fabrique_liste(i)\n",
    "        dct = fabrique_dict(i)\n",
    "        temps_liste[i-1] = mesure_temps(\"a\", lst)        \n",
    "        temps_dict[i-1] = mesure_temps(\"a\", dct.values())\n",
    "        temps_dict2[i-1] = mesure_temps(\"a\", dct.keys())\n",
    "    plt.scatter(liste_n, temps_liste, label= \"recherche dans une liste\")\n",
    "    plt.scatter(liste_n, temps_dict, label= \"recherche valeur dans un dictionnaire\")\n",
    "    plt.scatter(liste_n, temps_dict2, label= \"recherche clé dans un dictionnaire\")\n",
    "    plt.legend()\n",
    "    plt.show()\n",
    "    \n",
    "trace(1000)"
   ]
  },
  {
   "cell_type": "markdown",
   "metadata": {},
   "source": [
    "La complexité en temps d'un algorithme de recherche d'une **clé** dans un dictionnaire est-elle constante ? linéaire ? quadratique ?"
   ]
  },
  {
   "cell_type": "code",
   "execution_count": null,
   "metadata": {},
   "outputs": [],
   "source": [
    "## insérer ici votre réponse sans cliquer sur Run\n"
   ]
  },
  {
   "cell_type": "markdown",
   "metadata": {},
   "source": [
    "La complexité en temps d'un algorithme de recherche d'une **valeur** dans un dictionnaire est-elle constante ? linéaire ? quadratique ?"
   ]
  },
  {
   "cell_type": "code",
   "execution_count": null,
   "metadata": {},
   "outputs": [],
   "source": [
    "## insérer ici votre réponse sans cliquer sur Run\n"
   ]
  },
  {
   "cell_type": "markdown",
   "metadata": {},
   "source": [
    "---\n",
    "## 4. Explication : la table de hashage"
   ]
  },
  {
   "cell_type": "markdown",
   "metadata": {},
   "source": [
    ">**Travail à faire** : Exécutez la cellule ci-dessous pour voir une vidéo explicative"
   ]
  },
  {
   "cell_type": "code",
   "execution_count": null,
   "metadata": {},
   "outputs": [],
   "source": [
    "YouTubeVideo(\"IhJo8sXLfVw\", width=800, height=600)"
   ]
  },
  {
   "cell_type": "markdown",
   "metadata": {},
   "source": [
    "Une table de hachage est un tableau couplé à une fonction de hachage. \n",
    "\n",
    "La fonction de hachage associe à **chaque clé un nombre entier** (que l'on nomme l'empreinte). Si la fonction est bien faite, les nombres obtenus peuvent sembler aléatoires, sauf que **chaque clé aura toujours le même nombre associé**. On calcule ensuite un indice correspondant à la clé dans le tableau. On obtient ainsi la position du couple (clé, valeur) dans le tableau. Le calcul de l’indice à partir de la clé s’effectue en temps constant."
   ]
  },
  {
   "cell_type": "markdown",
   "metadata": {},
   "source": [
    "![table-hashage.jpg](table-hashage.jpg)"
   ]
  },
  {
   "cell_type": "markdown",
   "metadata": {},
   "source": [
    "La fonction de hachage permet généralement une répartition équilibrée dans le tableau avec un petit nombre de couples dans chaque alvéole (ce qu'on appelle une collision).\n",
    "\n",
    "La recherche d'une clé dans un dictionnaire consiste à retrouver l'indice correspondant à la clé. Si la table de hash est remplie pour cet indice, alors la clé est présente dans le dictionnaire. En résumé, avec une table de hachage, l’ajout ou la recherche d’une valeur sont généralement en temps constant, en O(1).\n",
    "\n",
    "**ATTENTION** : cela ne fonctionne que pour les clés d'un dictionnaire et pas pour ses valeurs. Pour créer un dictionnaire, il faut bien réfléchir au choix des clés, car c'est sur les clés que vont se faire les recherches."
   ]
  },
  {
   "cell_type": "markdown",
   "metadata": {},
   "source": [
    "---\n",
    "Enregistrez votre Notebook (voir image ci-dessous), puis déposez-le dans le casier de votre professeur.\n",
    "\n",
    "![enregistrer](enregistrer.png)"
   ]
  },
  {
   "cell_type": "markdown",
   "metadata": {},
   "source": [
    "Déposez votre notebook dans le casier de votre professeur"
   ]
  }
 ],
 "metadata": {
  "kernelspec": {
   "display_name": "Python 3",
   "language": "python",
   "name": "python3"
  },
  "language_info": {
   "codemirror_mode": {
    "name": "ipython",
    "version": 3
   },
   "file_extension": ".py",
   "mimetype": "text/x-python",
   "name": "python",
   "nbconvert_exporter": "python",
   "pygments_lexer": "ipython3",
   "version": "3.8.3"
  }
 },
 "nbformat": 4,
 "nbformat_minor": 4
}
